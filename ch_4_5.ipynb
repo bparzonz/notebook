{
 "cells": [
  {
   "cell_type": "markdown",
   "metadata": {},
   "source": [
    "No Questions! Thanks Paul! :)"
   ]
  },
  {
   "cell_type": "markdown",
   "metadata": {},
   "source": [
    "# 4.3 (What’s Wrong with This Code?)  \n",
    "What is wrong with the following cube function’s definition?  \n",
    "```python\n",
    "def cube(x):\n",
    "    \"\"\"Calculate the cube of x.\"\"\" \n",
    "    x ** 3\n",
    "print('The cube of 2 is', cube(2))\n",
    "```"
   ]
  },
  {
   "cell_type": "code",
   "execution_count": 1,
   "metadata": {
    "scrolled": false,
    "tags": []
   },
   "outputs": [
    {
     "name": "stdout",
     "output_type": "stream",
     "text": [
      "The cube of 2 is None\n"
     ]
    }
   ],
   "source": [
    "def cube(x):\n",
    "    \"\"\"Calculate the cube of x.\"\"\"\n",
    "    x ** 3\n",
    "\n",
    "print('The cube of 2 is', cube(2))"
   ]
  },
  {
   "cell_type": "markdown",
   "metadata": {},
   "source": [
    "This function does not return any result. Becuase variables created and manipulated in the block of a function only exist within that function, you must insert a return statement preceding any objects that you wish the function to output."
   ]
  },
  {
   "cell_type": "code",
   "execution_count": 2,
   "metadata": {
    "tags": []
   },
   "outputs": [
    {
     "name": "stdout",
     "output_type": "stream",
     "text": [
      "The cube of 2 is 8\n"
     ]
    }
   ],
   "source": [
    "def cube(x):\n",
    "    \"\"\"Calculate the cube of x.\"\"\"\n",
    "    return x ** 3\n",
    "\n",
    "print('The cube of 2 is', cube(2))"
   ]
  },
  {
   "cell_type": "markdown",
   "metadata": {},
   "source": [
    "# 4.9 (Temperature Conversion)\n",
    "Implement a fahrenheit function that returns the **Fahrenheit** equivalent of a **Celsius** temperature. Use the following formula: \n",
    "\n",
    "    F = (9 / 5) * C + 32 \n",
    "    \n",
    "Use this function to print a chart showing the _Fahrenheit_ equivalents of all _Celsius_ temperatures in the range 0–100 degrees. Use one digit of precision for the results. Print the outputs in a neat tabular format."
   ]
  },
  {
   "cell_type": "code",
   "execution_count": 3,
   "metadata": {
    "tags": []
   },
   "outputs": [
    {
     "name": "stdout",
     "output_type": "stream",
     "text": [
      "Celsius    Fahrenheit\n",
      "-------    ----------\n",
      "      0          32.0\n",
      "      1          33.8\n",
      "      2          35.6\n",
      "      3          37.4\n",
      "      4          39.2\n",
      "      5          41.0\n",
      "      6          42.8\n",
      "      7          44.6\n",
      "      8          46.4\n",
      "      9          48.2\n",
      "     10          50.0\n",
      "     11          51.8\n",
      "     12          53.6\n",
      "     13          55.4\n",
      "     14          57.2\n",
      "     15          59.0\n",
      "     16          60.8\n",
      "     17          62.6\n",
      "     18          64.4\n",
      "     19          66.2\n",
      "     20          68.0\n",
      "     21          69.8\n",
      "     22          71.6\n",
      "     23          73.4\n",
      "     24          75.2\n",
      "     25          77.0\n",
      "     26          78.8\n",
      "     27          80.6\n",
      "     28          82.4\n",
      "     29          84.2\n",
      "     30          86.0\n",
      "     31          87.8\n",
      "     32          89.6\n",
      "     33          91.4\n",
      "     34          93.2\n",
      "     35          95.0\n",
      "     36          96.8\n",
      "     37          98.6\n",
      "     38         100.4\n",
      "     39         102.2\n",
      "     40         104.0\n",
      "     41         105.8\n",
      "     42         107.6\n",
      "     43         109.4\n",
      "     44         111.2\n",
      "     45         113.0\n",
      "     46         114.8\n",
      "     47         116.6\n",
      "     48         118.4\n",
      "     49         120.2\n",
      "     50         122.0\n",
      "     51         123.8\n",
      "     52         125.6\n",
      "     53         127.4\n",
      "     54         129.2\n",
      "     55         131.0\n",
      "     56         132.8\n",
      "     57         134.6\n",
      "     58         136.4\n",
      "     59         138.2\n",
      "     60         140.0\n",
      "     61         141.8\n",
      "     62         143.6\n",
      "     63         145.4\n",
      "     64         147.2\n",
      "     65         149.0\n",
      "     66         150.8\n",
      "     67         152.6\n",
      "     68         154.4\n",
      "     69         156.2\n",
      "     70         158.0\n",
      "     71         159.8\n",
      "     72         161.6\n",
      "     73         163.4\n",
      "     74         165.2\n",
      "     75         167.0\n",
      "     76         168.8\n",
      "     77         170.6\n",
      "     78         172.4\n",
      "     79         174.2\n",
      "     80         176.0\n",
      "     81         177.8\n",
      "     82         179.6\n",
      "     83         181.4\n",
      "     84         183.2\n",
      "     85         185.0\n",
      "     86         186.8\n",
      "     87         188.6\n",
      "     88         190.4\n",
      "     89         192.2\n",
      "     90         194.0\n",
      "     91         195.8\n",
      "     92         197.6\n",
      "     93         199.4\n",
      "     94         201.2\n",
      "     95         203.0\n",
      "     96         204.8\n",
      "     97         206.6\n",
      "     98         208.4\n",
      "     99         210.2\n",
      "    100         212.0\n"
     ]
    }
   ],
   "source": [
    "def fahrenheit_conversion(celsius):\n",
    "    \"\"\"Convert fahrenheit into celsius\"\"\"\n",
    "    f = (9 / 5) * celsius + 32\n",
    "    return f\n",
    "\n",
    "print('Celsius    Fahrenheit')\n",
    "print('-------    ----------')\n",
    "for degree in range(101):\n",
    "    print(f'{degree:>7}{fahrenheit_conversion(degree):>14.1f}')\n"
   ]
  },
  {
   "cell_type": "markdown",
   "metadata": {},
   "source": [
    "# 4.14 (Computer-Assisted Instruction)  \n",
    "__Computer-assisted instruction (CAI)__ refers to the use of computers in education. Write a script to help an elementary school student learn multiplication. Create a function that randomly generates and returns a tuple of two positive one-digit integers. Use that function’s result in your script to prompt the user with a\n",
    "question, such as:\n",
    "\n",
    "> How much is 6 times 7?\n",
    "\n",
    "For a correct answer, display the message _\"Very good!\"_ and ask another multiplication\n",
    "question. For an incorrect answer, display the message _\"No. Please try again.\"_"
   ]
  },
  {
   "cell_type": "code",
   "execution_count": 4,
   "metadata": {
    "tags": []
   },
   "outputs": [
    {
     "name": "stdout",
     "output_type": "stream",
     "text": [
      "How much is 8 times 5?\n",
      "What is your answer? 40\n",
      "Very Good!\n"
     ]
    }
   ],
   "source": [
    "import random\n",
    "\n",
    "def math_checker():\n",
    "    \"\"\" Asks for the product of 2 integers!\"\"\"\n",
    "    numbers = random.randrange(10), random.randrange(10)\n",
    "    print(f'How much is {numbers[0]} times {numbers[1]}?')\n",
    "    answer = numbers[0] * numbers[1]\n",
    "    student_answer = input(\"What is your answer? \")\n",
    "    count = 0\n",
    "\n",
    "    while True:\n",
    "        if count == 5:\n",
    "            print(\"Too many guesses...\")\n",
    "            break\n",
    "        if str(int(student_answer)) != student_answer:\n",
    "            student_answer = input(\"Not. Please try again. \")\n",
    "            count += 1\n",
    "        else:\n",
    "            if answer == int(student_answer):\n",
    "                print(\"Very Good!\")\n",
    "                break\n",
    "            else:\n",
    "                student_answer = input(\"No. Please try again. \")\n",
    "                count += 1\n",
    "\n",
    "math_checker()"
   ]
  },
  {
   "cell_type": "markdown",
   "metadata": {},
   "source": [
    "# 5.1 (What’s Wrong with This Code?)   \n",
    "What, if anything, is wrong with each of the following code segments?\n",
    "\n",
    "a)  \n",
    "```python\n",
    "day, high_temperature = ('Monday', 87, 65)\n",
    "```  \n",
    "* Too many values to unpack from the tuple\n",
    "    \n",
    "b)  \n",
    "```python\n",
    "numbers = [1, 2, 3, 4, 5]\n",
    "numbers[10]\n",
    "```  \n",
    "* List index out of range. This list only has a length of 5, which means that its index does not go beyond 4.  \n",
    "\n",
    "c)  \n",
    "```python\n",
    "name = 'amanda'\n",
    "name[0] = 'A'\n",
    "```  \n",
    "* Strings are immutable in python, therefore individual characters can not be replaced using their index in this way.\n",
    "\n",
    "d)  \n",
    "```python\n",
    "numbers = [1, 2, 3, 4, 5]\n",
    "numbers[3.4]\n",
    "```  \n",
    "* The index values of a list are integers. The index 3.4 does not exist.\n",
    "\n",
    "e)  \n",
    "```python\n",
    "student_tuple = ('Amanda', 'Blue', [98, 75, 87])\n",
    "student_tuple[0] = 'Ariana'\n",
    "```  \n",
    "* Although mutable objects within a tuble can be changed (like the list at index 2), the first two indexes of this tuple or immutable.\n",
    "\n",
    "f)  \n",
    "```python \n",
    "('Monday', 87, 65) + 'Tuesday'\n",
    "``` \n",
    "* You can only concatenate a tuple to a tuple. If you'd like to add Tuesday to this tuple, make it a singular tuple `('Tuesday,)`\n",
    "\n",
    "g). \n",
    "```python\n",
    "'A' += ('B', 'C')\n",
    "```  \n",
    "* Strings cannot be concatenated with tuples, and they also cannot use the operator +=. If the desire is to create the string 'ABC' from the individiaul characters, it can be done through simple addition: `'A' + 'B' + 'C'`\n",
    "\n",
    "h)  \n",
    "```python\n",
    "x = 7\n",
    "del x\n",
    "print(x)\n",
    "```\n",
    "* x has been removed from memory by using the del statement. It cannot be printed afterwards. \n",
    "\n",
    "i)  \n",
    "```python\n",
    "numbers = [1, 2, 3, 4, 5]\n",
    "numbers.index(10)\n",
    "```\n",
    "* 10 is not an integer found within the list of numbers, so it can have no index.\n",
    "\n",
    "j)  \n",
    "```python\n",
    "numbers = [1, 2, 3, 4, 5]\n",
    "numbers.extend(6, 7, 8)\n",
    "```\n",
    "* Extend is meant to receive a single iterable, not three seperate arguements. This would function if the numbers were also presented in a list.\n",
    "\n",
    "k)  \n",
    "```python\n",
    "numbers = [1, 2, 3, 4, 5]\n",
    "numbers.remove(10)\n",
    "```  \n",
    "* 10 is not found within the list of numbers, so it cannot be removed\n",
    "\n",
    "l)  \n",
    "```python\n",
    "values = []\n",
    "values.pop()\n",
    "```\n",
    "* The .pop() method outputs and removes the last element in an interable. It cannot perform this function is the iterable is empty."
   ]
  },
  {
   "cell_type": "markdown",
   "metadata": {},
   "source": [
    "# 5.6 (Functions Returning Tuples)  \n",
    "Define a function `rotate` that receives three arguments\n",
    "and returns a tuple in which the first argument is at index 1, the second argument\n",
    "is at index 2 and the third argument is at index 0. Define variables a, b and c containing\n",
    "'Doug', 22 and 1984. Then call the function three times. For each call, unpack its result\n",
    "into a, b and c, then display their values."
   ]
  },
  {
   "cell_type": "code",
   "execution_count": 5,
   "metadata": {
    "tags": []
   },
   "outputs": [
    {
     "name": "stdout",
     "output_type": "stream",
     "text": [
      "1984 Doug 22\n",
      "22 1984 Doug\n",
      "Doug 22 1984\n"
     ]
    }
   ],
   "source": [
    "def rotate(one,two,three):\n",
    "    \"\"\"Rotate three values\"\"\"\n",
    "    return three, one, two\n",
    "\n",
    "a, b, c = 'Doug', 22, 1984\n",
    "\n",
    "a, b, c = rotate(a, b, c)\n",
    "print(f'{a} {b} {c}')\n",
    "a, b, c = rotate(a, b, c)\n",
    "print(f'{a} {b} {c}')\n",
    "a, b, c = rotate(a, b, c)\n",
    "print(f'{a} {b} {c}')"
   ]
  },
  {
   "cell_type": "markdown",
   "metadata": {},
   "source": [
    "# 5.7 (Duplicate Elimination)  \n",
    "Create a function that receives a list and returns a (possibly\n",
    "shorter) list containing only the unique values in sorted order. Test your function with\n",
    "a list of numbers and a list of strings."
   ]
  },
  {
   "cell_type": "code",
   "execution_count": 6,
   "metadata": {
    "tags": []
   },
   "outputs": [
    {
     "name": "stdout",
     "output_type": "stream",
     "text": [
      "[1, 2, 3, 5]\n",
      "['hi', 'que', 'what', 'whatever']\n",
      "[1 2 3 5]\n",
      "['hi' 'que' 'what' 'whatever']\n"
     ]
    }
   ],
   "source": [
    "a = [1,2,5,3,2,1]\n",
    "b = ['hi', 'what', 'que', 'whatever', 'whatever']\n",
    "\n",
    "def ordered_unique(a_list):\n",
    "    second_list = []\n",
    "    for i in a_list:\n",
    "        if i not in second_list:\n",
    "            second_list.append(i)\n",
    "    second_list.sort()\n",
    "\n",
    "    return second_list\n",
    "\n",
    "\n",
    "print(ordered_unique(a))\n",
    "print(ordered_unique(b))\n",
    "\n",
    "# utilizing numpy\n",
    "import numpy as np\n",
    "\n",
    "def ordered_unique2(a_list):\n",
    "    x = np.unique(a_list)\n",
    "    return x\n",
    "\n",
    "print(ordered_unique2(a))\n",
    "print(ordered_unique2(b))"
   ]
  },
  {
   "cell_type": "markdown",
   "metadata": {},
   "source": [
    "# 5.14 (Is a Sequence Sorted?)  \n",
    "Create a function `is_ordered` that receives a sequence and returns __True__ if the elements are in sorted order. Test your function with sorted and unsorted\n",
    "lists, tuples and strings."
   ]
  },
  {
   "cell_type": "code",
   "execution_count": 7,
   "metadata": {
    "tags": []
   },
   "outputs": [
    {
     "name": "stdout",
     "output_type": "stream",
     "text": [
      "True\n",
      "False\n",
      "False\n"
     ]
    }
   ],
   "source": [
    "tup = 13,33,45\n",
    "tup2 = 9,3,1\n",
    "a_list = [\"a\", \"b\", \"a\"]\n",
    "\n",
    "def is_ordered(iterable):\n",
    "    for i in range(len(iterable)):\n",
    "        try:\n",
    "            iterable[i + 1]\n",
    "        except:\n",
    "            return True\n",
    "            break\n",
    "\n",
    "        if iterable[i] <= iterable[i + 1]:\n",
    "            continue\n",
    "        else:\n",
    "            return False\n",
    "            break\n",
    "\n",
    "print(is_ordered(tup))\n",
    "print(is_ordered(tup2))\n",
    "print(is_ordered(a_list))\n"
   ]
  },
  {
   "cell_type": "markdown",
   "metadata": {},
   "source": [
    "# 5.27 (Intro to Data Science: Duplicate Elimination and Counting Frequencies)  \n",
    "Use a list comprehension to create a list of 50 random values in the range 1 through 10. Use NumPy’s unique function to obtain the unique values and their frequencies. Display the\n",
    "results."
   ]
  },
  {
   "cell_type": "code",
   "execution_count": 8,
   "metadata": {
    "tags": []
   },
   "outputs": [
    {
     "name": "stdout",
     "output_type": "stream",
     "text": [
      "Numbers    Frequency\n",
      "-------    ---------\n",
      "      1            6\n",
      "      2            7\n",
      "      3            4\n",
      "      4            5\n",
      "      5            6\n",
      "      6            2\n",
      "      7            3\n",
      "      8            6\n",
      "      9            6\n",
      "     10            5\n"
     ]
    }
   ],
   "source": [
    "import random as r\n",
    "import numpy as np\n",
    "\n",
    "a_list = np.unique([r.randrange(1, 11) for i in range(50)], return_counts = True)\n",
    "\n",
    "print('Numbers    Frequency')\n",
    "print('-------    ---------')\n",
    "for i in range(len(a_list[0])):\n",
    "    print(f'{a_list[0][i]:>7} {a_list[1][i]:>12}')"
   ]
  }
 ],
 "metadata": {
  "kernelspec": {
   "display_name": "Python 3",
   "language": "python",
   "name": "python3"
  },
  "language_info": {
   "codemirror_mode": {
    "name": "ipython",
    "version": 3
   },
   "file_extension": ".py",
   "mimetype": "text/x-python",
   "name": "python",
   "nbconvert_exporter": "python",
   "pygments_lexer": "ipython3",
   "version": "3.8.3"
  }
 },
 "nbformat": 4,
 "nbformat_minor": 2
}