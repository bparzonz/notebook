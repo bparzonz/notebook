{
 "cells": [
  {
   "cell_type": "markdown",
   "metadata": {
    "slideshow": {
     "slide_type": "slide"
    }
   },
   "source": [
    "# UCLA MSBA 2020 Python Workshop\n",
    "\n",
    "**Paul Deitel, CEO,  \n",
    "Deitel & Associates, Inc.**  \n",
    "* CCLE Course Link: https://ccle.ucla.edu/course/view/msba-python\n",
    "* **QUESTIONS: <paul@deitel.com>**\n",
    "* https://deitel.com  "
   ]
  },
  {
   "cell_type": "markdown",
   "metadata": {},
   "source": [
    "<hr>"
   ]
  },
  {
   "cell_type": "markdown",
   "metadata": {},
   "source": [
    "# September 17–23 Pre-course Week 2: Python Programming Fundamentals\n",
    "## Zoom Lecture—September 17, 2020, 8AM–11AM PDT\n",
    "* Q&A for Chapter 2 exercises.\n",
    "* Chapter 3.\n",
    "* Reminders for the main course starting October 1.\n",
    "\n",
    "## Reading/Video Assignments\n",
    "* **Textbook:** Chapter 3, Control Statements and Program Development.\n",
    "* **Videos:** Lesson 3, Control Statements and Program Development  \n",
    "https://deitel.com/python-livelessons-03-overview\n",
    "\n",
    "## Chapter 3 Multiple-Choice Quiz\n",
    "* **Available:** Friday, September 18 at noon Pacific Time.\n",
    "* **Due by:** Tuesday, September 22 at noon Pacific Time.\n",
    "\n",
    "## Required Chapter 3 Hands-On Lab Exercises\n",
    "* **Due by:** September 23, 2020, Noon Pacific Time\n",
    "* See the syllabus for details. "
   ]
  },
  {
   "cell_type": "markdown",
   "metadata": {},
   "source": [
    "## **Additional (Optional, But Recommended) Assignment—Convert Your Résumé to a Jupyter Notebook Using Markdown**\n",
    "* Delaying Personal Python Code Portfolios to main course.\n",
    "* Become more familiar with Jupyter. \n",
    "* Practice Jupyter's Markdown formatting. \n",
    "* Your portfolios should look great so they're a benefit to you, not a disadvantage. "
   ]
  },
  {
   "cell_type": "markdown",
   "metadata": {},
   "source": [
    "<hr>"
   ]
  },
  {
   "cell_type": "markdown",
   "metadata": {},
   "source": [
    "# Today's Lecture \n",
    "* Quiz review\n",
    "* Homework review\n",
    "* Tips\n",
    "* Chapter 3"
   ]
  },
  {
   "cell_type": "markdown",
   "metadata": {},
   "source": [
    "<hr>"
   ]
  },
  {
   "cell_type": "markdown",
   "metadata": {},
   "source": [
    "# 2020 Python Workshop Course Architecture\n",
    "![2020 Python Workshop Course Architecture Diagram](./architecture.png)"
   ]
  },
  {
   "cell_type": "markdown",
   "metadata": {},
   "source": [
    "<hr>"
   ]
  },
  {
   "cell_type": "markdown",
   "metadata": {},
   "source": [
    "# Chapter 2 Quiz Results\n",
    "![Chapter 2 Quiz Results](./ch02_quiz.png)"
   ]
  },
  {
   "cell_type": "markdown",
   "metadata": {},
   "source": [
    "# Chapter 2 Exercise Review"
   ]
  },
  {
   "cell_type": "markdown",
   "metadata": {},
   "source": [
    "## Comments/Suggestions\n",
    "### Markdown Cell with Self-Assessment at the Top of Each Submission\n",
    "* I solved all the exercises and understood everything\n",
    "* I had trouble with exercise X, here is my question...\n",
    "* or any other comments/questions you might have.\n",
    "\n",
    "### Follow the Instructions\n",
    "* **Precision and attention to detail** are important in industry.\n",
    "* Optional Exercise 2.11, Separating the Digits in an Integer, included the statement: **Use both the floor division and remainder operations to “pick off ” each digit.** \n",
    "    * A number of you did not use these operations.\n",
    "* Use only what has been covered.\n",
    "    * I selected exercises specifically to evaluate your skills. \n",
    "    * I realize some of you know better ways.\n",
    "* Q2.1: \"What does this code do?\"\n",
    "    * Answer the question, don't just execute the code. \n",
    "    * Tell me what's happening so I can confirm that you understand.\n",
    "    * Use **Markdown cells** for your descriptions\n",
    "\n",
    "### Practice Writing Professional Descriptions\n",
    "* No spelling errors, proper grammar, etc.\n",
    "* [A JupyterLab spelling checker extension](https://github.com/ijmbarr/jupyterlab_spellchecker#:~:text=A%20JupyterLab%20extension%20highlighting%20misspelled,available%20from%20the%20context%20menu.)—I have not tried it yet. \n",
    "\n",
    "### Write Your Code for Others to Understand\n",
    "* **IMPORTANT** Your code should be readable and understandable to others, not just you.\n",
    "    * Study the [Python Style Guide](https://www.python.org/dev/peps/pep-0008/) and use the recommended conventions\n",
    "    \n",
    "### Other Notes\n",
    "* Please use a separate code cell (or several cells) for each exercise. \n",
    "* You don't need to use `print` everywhere—evaluating an expression in Jupyter or IPython displays its value."
   ]
  },
  {
   "cell_type": "markdown",
   "metadata": {},
   "source": [
    "<hr>"
   ]
  },
  {
   "cell_type": "markdown",
   "metadata": {},
   "source": [
    "# Code Style\n",
    "* Spaces on either side of a binary operator like `+`, `*`, etc.\n",
    "* Variable naming\n",
    "    * Lowercase first letter on variable names. \n",
    "    * `sum_xyz` — Why is this name bad?\n",
    "* Keep comments and statements to a maximum of 75 to 80 characters or fewer.\n",
    "* Use more space for readability—it's free.\n",
    "* Blank line above a full-line comment for readability."
   ]
  },
  {
   "cell_type": "markdown",
   "metadata": {},
   "source": [
    "<hr>"
   ]
  },
  {
   "cell_type": "markdown",
   "metadata": {},
   "source": [
    "# printing"
   ]
  },
  {
   "cell_type": "markdown",
   "metadata": {},
   "source": [
    "* sample snippet"
   ]
  },
  {
   "cell_type": "code",
   "execution_count": 1,
   "metadata": {},
   "outputs": [
    {
     "ename": "NameError",
     "evalue": "name 'grade' is not defined",
     "output_type": "error",
     "traceback": [
      "\u001b[0;31m---------------------------------------------------------------------------\u001b[0m",
      "\u001b[0;31mNameError\u001b[0m                                 Traceback (most recent call last)",
      "\u001b[0;32m<ipython-input-1-45de4549485f>\u001b[0m in \u001b[0;36m<module>\u001b[0;34m\u001b[0m\n\u001b[0;32m----> 1\u001b[0;31m \u001b[0mprint\u001b[0m\u001b[0;34m(\u001b[0m\u001b[0;34m'Your grade of '\u001b[0m \u001b[0;34m+\u001b[0m \u001b[0mstr\u001b[0m\u001b[0;34m(\u001b[0m\u001b[0mgrade\u001b[0m\u001b[0;34m)\u001b[0m \u001b[0;34m+\u001b[0m \u001b[0;34m' earns you an A in this course'\u001b[0m\u001b[0;34m)\u001b[0m\u001b[0;34m\u001b[0m\u001b[0;34m\u001b[0m\u001b[0m\n\u001b[0m",
      "\u001b[0;31mNameError\u001b[0m: name 'grade' is not defined"
     ]
    }
   ],
   "source": [
    "print('Your grade of ' + str(grade) + ' earns you an A in this course')"
   ]
  },
  {
   "cell_type": "markdown",
   "metadata": {},
   "source": [
    "* better"
   ]
  },
  {
   "cell_type": "code",
   "execution_count": null,
   "metadata": {},
   "outputs": [],
   "source": [
    "print('Your grade of', grade, 'earns you an A in this course')"
   ]
  },
  {
   "cell_type": "markdown",
   "metadata": {},
   "source": [
    "* sample snippet"
   ]
  },
  {
   "cell_type": "code",
   "execution_count": null,
   "metadata": {},
   "outputs": [],
   "source": [
    "print('The sum of the three numbers is:', x+y+z, \\\n",
    "      '\\nThe average of the three numbers is:',(x+y+z)/3, \\\n",
    "      '\\nThe product of the three numbers is:', x*y*z, \\\n",
    "      '\\nThe smallest number is:', min(x,y,z), \\\n",
    "      '\\nThe largest number is:',max(x,y,z))"
   ]
  },
  {
   "cell_type": "markdown",
   "metadata": {},
   "source": [
    "* better"
   ]
  },
  {
   "cell_type": "code",
   "execution_count": null,
   "metadata": {
    "jupyter": {
     "source_hidden": true
    }
   },
   "outputs": [],
   "source": [
    "print('The sum of the three numbers is:', x + y + z, \n",
    "      '\\nThe average of the three numbers is:', (x + y + z ) / 3, \n",
    "      '\\nThe product of the three numbers is:', x * y * z, \n",
    "      '\\nThe smallest number is:', min(x, y, z), \n",
    "      '\\nThe largest number is:', max(x, y, z))"
   ]
  },
  {
   "cell_type": "markdown",
   "metadata": {},
   "source": [
    "* or even better, the following with no newline characters because print automatically outputs one when it completes execution"
   ]
  },
  {
   "cell_type": "code",
   "execution_count": null,
   "metadata": {
    "jupyter": {
     "source_hidden": true
    }
   },
   "outputs": [],
   "source": [
    "print('The sum of the three numbers is:', x + y + z)\n",
    "print('The average of the three numbers is:', (x + y + z ) / 3) \n",
    "print('The product of the three numbers is:', x * y * z)\n",
    "print('The smallest number is:', min(x, y, z))\n",
    "print('The largest number is:', max(x, y, z))"
   ]
  },
  {
   "cell_type": "markdown",
   "metadata": {},
   "source": [
    "<hr>"
   ]
  },
  {
   "cell_type": "markdown",
   "metadata": {},
   "source": [
    "# Sum"
   ]
  },
  {
   "cell_type": "code",
   "execution_count": null,
   "metadata": {},
   "outputs": [],
   "source": [
    "print(sum([x,y,z]))"
   ]
  },
  {
   "cell_type": "code",
   "execution_count": null,
   "metadata": {
    "jupyter": {
     "source_hidden": true
    }
   },
   "outputs": [],
   "source": [
    "print(sum(x, y, z))"
   ]
  },
  {
   "cell_type": "markdown",
   "metadata": {},
   "source": [
    "<hr>"
   ]
  },
  {
   "cell_type": "markdown",
   "metadata": {},
   "source": [
    "# Super Large Integers"
   ]
  },
  {
   "cell_type": "code",
   "execution_count": null,
   "metadata": {},
   "outputs": [],
   "source": [
    "# did not execute--so large that Google just calls this infinity  \n",
    "1000 ** 1000000 "
   ]
  },
  {
   "cell_type": "markdown",
   "metadata": {},
   "source": [
    "<hr>"
   ]
  },
  {
   "cell_type": "markdown",
   "metadata": {},
   "source": [
    "# Markdown"
   ]
  },
  {
   "cell_type": "code",
   "execution_count": null,
   "metadata": {
    "colab": {},
    "colab_type": "code",
    "id": "izAKv9BqsksQ"
   },
   "outputs": [],
   "source": [
    "'I did all the required exercises and fully understand them.'"
   ]
  },
  {
   "cell_type": "markdown",
   "metadata": {},
   "source": [
    "<hr>"
   ]
  },
  {
   "cell_type": "markdown",
   "metadata": {},
   "source": [
    "# Separating the Digits of an Integer"
   ]
  },
  {
   "cell_type": "code",
   "execution_count": null,
   "metadata": {},
   "outputs": [],
   "source": [
    "# is this an integer?\n",
    "'12345'"
   ]
  },
  {
   "cell_type": "code",
   "execution_count": null,
   "metadata": {
    "jupyter": {
     "source_hidden": true
    }
   },
   "outputs": [],
   "source": [
    "num = input('Enter a 5-digit number') # NOT AN INTEGER\n",
    "\n",
    "print(num[0], '   ', num[1], '   ', num[2], '   ', num[3], '   ', num[4], '   ')"
   ]
  },
  {
   "cell_type": "code",
   "execution_count": null,
   "metadata": {},
   "outputs": [],
   "source": [
    "num = 12345\n",
    "digit5 = num % 10   \n",
    "num = int(num / 10)   "
   ]
  },
  {
   "cell_type": "code",
   "execution_count": null,
   "metadata": {
    "jupyter": {
     "source_hidden": true
    }
   },
   "outputs": [],
   "source": [
    "number = 12345\n",
    "\n",
    "digit1 = number // 10000\n",
    "number = number % 10000\n",
    "\n",
    "print(digit1, number)"
   ]
  },
  {
   "cell_type": "markdown",
   "metadata": {},
   "source": [
    "## Readability Is Imperative"
   ]
  },
  {
   "cell_type": "markdown",
   "metadata": {},
   "source": [
    "* Consider the following code—it works, but ishard to read and has some unnecessary calculations"
   ]
  },
  {
   "cell_type": "code",
   "execution_count": null,
   "metadata": {
    "jupyter": {
     "source_hidden": true
    }
   },
   "outputs": [],
   "source": [
    "digit_1 = five_digit // 10000\n",
    "digit_2 = (five_digit%(digit_1*10000))//1000\n",
    "digit_3 = (five_digit%(digit_1*10000 + digit_2*1000))//100\n",
    "digit_4 = (five_digit%(digit_1*10000 + digit_2*1000 + digit_3*100))//10\n",
    "digit_5 = five_digit%(digit_1*10000 + digit_2*1000 + digit_3*100 + digit_4*10)"
   ]
  },
  {
   "cell_type": "markdown",
   "metadata": {},
   "source": [
    "* More statements, but also more readable"
   ]
  },
  {
   "cell_type": "code",
   "execution_count": null,
   "metadata": {
    "jupyter": {
     "source_hidden": true
    }
   },
   "outputs": [],
   "source": [
    "number = int(input('Enter a five-digit integer:'))\n",
    "\n",
    "digit1 = number // 10000\n",
    "number = number % 10000\n",
    "\n",
    "digit2 = number // 1000\n",
    "number = number % 1000\n",
    "\n",
    "digit3 = number // 100\n",
    "number = number % 100\n",
    "\n",
    "digit4 = number // 10\n",
    "\n",
    "digit5 = number % 10\n",
    "\n",
    "print(digit1, ' ', digit2, ' ', digit3, ' ', digit4, ' ', digit5)"
   ]
  },
  {
   "cell_type": "markdown",
   "metadata": {},
   "source": [
    "---"
   ]
  },
  {
   "cell_type": "markdown",
   "metadata": {},
   "source": [
    "# Jupyter Shortcuts\n",
    "### The following assume a cell is selected by clicking its left margin\n",
    "* `c` to copy a cell\n",
    "* `v` to paste a cell below the currently selected cell\n",
    "* `a` to insert cell above the currently selected cell\n",
    "* `b` to insert cell below the currently selected cell\n",
    "* `dd` to delete the currently selected cell\n",
    "* `m` to convert the currently selected cell to Markdown\n",
    "* _Shift_ + `m` to merge a range of selected cells\n",
    "\n",
    "### Splitting cells\n",
    "* _Ctrl_ + _Shift_ + `-` to split a cell at the cursor position"
   ]
  },
  {
   "cell_type": "markdown",
   "metadata": {},
   "source": [
    "<hr>"
   ]
  },
  {
   "cell_type": "markdown",
   "metadata": {},
   "source": [
    "# Jupyter Markdown\n",
    "# HEADINGS\n",
    "# H1 head\n",
    "## H2 head\n",
    "### H3 head (probably won't need past here for most notebooks)\n",
    "#### H4 head\n",
    "##### H5 head\n",
    "###### H6 head"
   ]
  },
  {
   "cell_type": "markdown",
   "metadata": {},
   "source": [
    "---"
   ]
  },
  {
   "cell_type": "markdown",
   "metadata": {},
   "source": [
    "# Formatting\n",
    "The notes below are in a bullet list, which uses hanging indents\n",
    "* force a line break with two spaces at the end of the line   \n",
    "(note this line is indented to the same level as the prior line\n",
    "* Paragraphs are simply separated by a blank line\n",
    "* **Bold** text\n",
    "* _Italic_ text\n",
    "* `code` font in the middle of a paragraph\n",
    "* ~~lineout~~\n",
    "* [Custom hyperlink text](to deitel.com)](https://deitel.com)\n",
    "* https://python.org (URLs are autolinked)\n",
    "* The following is an indented block of text\n",
    "> Block quote\n",
    "> * anything can appear in a block quote\n",
    "> > Even another block quote\n",
    "* Horizontal line is at least three dashes\n",
    "---\n",
    "Numbered lists have hanging indents\n",
    "1. first  \n",
    "2. second \n",
    "    1. Note that this becomes A\n",
    "    2. Note that this becomes B\n",
    "        1. Note that this becomes a\n",
    "        2. Note that this becomes b\n",
    "            1. Note that this becomes i\n",
    "            2. Note that this becomes ii\n",
    "3. Nested numbered or bulleted lists are designated by tabs at the beginning of the line"
   ]
  },
  {
   "cell_type": "markdown",
   "metadata": {},
   "source": [
    "---"
   ]
  },
  {
   "cell_type": "markdown",
   "metadata": {},
   "source": [
    "# Code Blocks\n",
    "* Three back ticks (\\`) on a line by themselves, followed by code, followed by three back ticks (\\`) on a line by themselves\n",
    "* Jupyter has built in code syntax coloring for many languages—kernel dependent\n",
    "* Plain code\n",
    "\n",
    "```\n",
    "if number2 < minimum:\n",
    "    minimum = number2\n",
    "\n",
    "print('Minimum value is', minimum)\n",
    "\n",
    "```\n",
    "\n",
    "* Code with syntax coloring\n",
    "\n",
    "```python\n",
    "if number2 < minimum:\n",
    "    minimum = number2\n",
    "\n",
    "print('Minimum value is', minimum)\n",
    "```\n",
    "\n",
    "* You **do not need to do this** for code cells—they're code font and syntax colored automatically "
   ]
  },
  {
   "cell_type": "markdown",
   "metadata": {},
   "source": [
    "---"
   ]
  },
  {
   "cell_type": "markdown",
   "metadata": {},
   "source": [
    "# Formulas \n",
    "* $\\LaTeX$\n",
    "* Inline: $y = m_1 x_1 + m_2 x_2 + ... + m_n x_n + b$\n",
    "* Standalone: $$y = m_1 x_1 + m_2 x_2 + ... + m_n x_n + b$$\n",
    "\n",
    "> Formula Resources\n",
    "> * https://en.wikibooks.org/wiki/LaTeX/Mathematics\n",
    "> * https://www.macinchem.org/reviews/LaTeXinJupyter.php"
   ]
  },
  {
   "cell_type": "markdown",
   "metadata": {},
   "source": [
    "---"
   ]
  },
  {
   "cell_type": "markdown",
   "metadata": {},
   "source": [
    "# Images\n",
    "* You also can use an `<img>` HTML element for finer control.\n",
    "\n",
    "![Deitel Bug Logo](./bug.png \"This is popup tooltip text commonly used by screen readers for accessibility\")"
   ]
  },
  {
   "cell_type": "markdown",
   "metadata": {},
   "source": [
    "---"
   ]
  },
  {
   "cell_type": "markdown",
   "metadata": {},
   "source": [
    "# Horizontal Line Separators\n",
    "* horizontal line separators can be added with at least three dashes on a line by themselves or `<hr/>`\n",
    "---\n",
    "<hr/>\n"
   ]
  },
  {
   "cell_type": "markdown",
   "metadata": {},
   "source": [
    "&copy; Copyright 2020 by Deitel & Associates, Inc. All Rights Reserved. https://deitel.com, paul@deitel.com "
   ]
  },
  {
   "cell_type": "markdown",
   "metadata": {},
   "source": [
    "<hr>"
   ]
  }
 ],
 "metadata": {
  "kernelspec": {
   "display_name": "Python 3",
   "language": "python",
   "name": "python3"
  },
  "language_info": {
   "codemirror_mode": {
    "name": "ipython",
    "version": 3
   },
   "file_extension": ".py",
   "mimetype": "text/x-python",
   "name": "python",
   "nbconvert_exporter": "python",
   "pygments_lexer": "ipython3",
   "version": "3.8.3"
  }
 },
 "nbformat": 4,
 "nbformat_minor": 4
}
