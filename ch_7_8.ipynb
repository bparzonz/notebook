{
 "cells": [
  {
   "cell_type": "markdown",
   "metadata": {},
   "source": [
    "Hi Paul! I learned alot about unicode and hexideicmals becuase of this notebook. Thanks!"
   ]
  },
  {
   "cell_type": "markdown",
   "metadata": {},
   "source": [
    "# 7.22 *(Pandas: Series)* Perform the following tasks with pandas Series:  \n",
    "### a) Create a Series from the list \\[7, 11, 13, 17].  \n",
    "\n",
    "\n",
    "\n"
   ]
  },
  {
   "cell_type": "code",
   "execution_count": 2,
   "metadata": {},
   "outputs": [
    {
     "output_type": "stream",
     "name": "stdout",
     "text": [
      "Idx: Values\n-----------\n0     7\n1    11\n2    13\n3    17\ndtype: int64\n"
     ]
    }
   ],
   "source": [
    "import pandas as pd\n",
    "import random as r\n",
    "series = pd.Series([7, 11, 13, 17])\n",
    "print(\"Idx: Values\\n-----------\")\n",
    "print(series)"
   ]
  },
  {
   "cell_type": "markdown",
   "metadata": {},
   "source": [
    "### b) Create a Series with five elements that are all 100.0.  "
   ]
  },
  {
   "cell_type": "code",
   "execution_count": 3,
   "metadata": {},
   "outputs": [
    {
     "output_type": "stream",
     "name": "stdout",
     "text": [
      "Idx: Values\n-----------\n0    100.0\n1    100.0\n2    100.0\n3    100.0\n4    100.0\ndtype: float64\n"
     ]
    }
   ],
   "source": [
    "series2 = pd.Series(100.0, range(5))\n",
    "print(\"Idx: Values\\n-----------\")\n",
    "print(series2)"
   ]
  },
  {
   "cell_type": "markdown",
   "metadata": {},
   "source": [
    "### c) Create a Series with 20 elements that are all random numbers in the range 0 to 100. Use method describe to produce the Series’ basic descriptive statistics.  "
   ]
  },
  {
   "cell_type": "code",
   "execution_count": 249,
   "metadata": {},
   "outputs": [
    {
     "name": "stdout",
     "output_type": "stream",
     "text": [
      "Description Statistics\n",
      "----------------------\n",
      "count    20.000000\n",
      "mean     48.300000\n",
      "std      34.369662\n",
      "min       1.000000\n",
      "25%      14.500000\n",
      "50%      49.000000\n",
      "75%      74.750000\n",
      "max      99.000000\n",
      "dtype: float64\n"
     ]
    }
   ],
   "source": [
    "series3 = pd.Series(r.randrange(0,101) for i in range(20))\n",
    "print(\"Description Statistics\\n----------------------\")\n",
    "print(series3.describe())"
   ]
  },
  {
   "cell_type": "markdown",
   "metadata": {},
   "source": [
    "### d) Create a Series called temperatures of the floating-point values 98.6, 98.9, 100.2 and 97.9. Using the index keyword argument, specify the custom indices 'Julie', 'Charlie', 'Sam' and 'Andrea'.  "
   ]
  },
  {
   "cell_type": "code",
   "execution_count": 236,
   "metadata": {},
   "outputs": [
    {
     "name": "stdout",
     "output_type": "stream",
     "text": [
      "Idx:      Values\n",
      "----------------\n",
      "Julie       98.6\n",
      "Charlie     98.9\n",
      "Sam        100.2\n",
      "Andrea      97.9\n",
      "dtype: float64\n"
     ]
    }
   ],
   "source": [
    "series4 = pd.Series([98.6, 98.9, 100.2, 97.9], index = ['Julie', 'Charlie', 'Sam', 'Andrea'])\n",
    "print(\"Idx:      Values\\n----------------\")\n",
    "print(series4)\n"
   ]
  },
  {
   "cell_type": "markdown",
   "metadata": {},
   "source": [
    "### e) Form a dictionary from the names and values in Part (d), then use it to initialize a Series.  "
   ]
  },
  {
   "cell_type": "code",
   "execution_count": 251,
   "metadata": {},
   "outputs": [
    {
     "name": "stdout",
     "output_type": "stream",
     "text": [
      "Idx:      Values\n",
      "----------------\n",
      "Julie       98.6\n",
      "Charlie     98.9\n",
      "Sam        100.2\n",
      "Andrea      97.9\n",
      "dtype: float64\n"
     ]
    }
   ],
   "source": [
    "dictionary_series = pd.Series({\"Julie\": 98.6, \"Charlie\": 98.9, \"Sam\": 100.2, \"Andrea\": 97.9})\n",
    "print(\"Idx:      Values\\n----------------\")\n",
    "print(dictionary_series)"
   ]
  },
  {
   "cell_type": "markdown",
   "metadata": {},
   "source": [
    "# 7.23 (Pandas: DataFrames) Perform the following tasks with pandas DataFrames:  \n",
    "### a) Create a DataFrame named temperatures from a dictionary of three temperature\n",
    "readings each for 'Maxine', 'James' and 'Amanda'.  \n"
   ]
  },
  {
   "cell_type": "code",
   "execution_count": 252,
   "metadata": {},
   "outputs": [
    {
     "name": "stdout",
     "output_type": "stream",
     "text": [
      "Temperatures\n",
      "------------\n",
      "   Maxine  James  Amanada\n",
      "0    99.4   99.7     99.4\n",
      "1    97.5   99.0     98.0\n",
      "2   100.0   98.0     99.1\n"
     ]
    }
   ],
   "source": [
    "temperatures_dic = {\"Maxine\": [round(r.uniform(97, 101), 1) for i in range(3)], \\\n",
    "    \"James\": [round(r.uniform(97, 101), 1) for i in range(3)], \"Amanada\": [round(r.uniform(97, 101), 1) for i in range(3)]}\n",
    "temperatures = pd.DataFrame(temperatures_dic)\n",
    "print(\"Temperatures\\n------------\")\n",
    "print(temperatures)"
   ]
  },
  {
   "cell_type": "markdown",
   "metadata": {},
   "source": [
    "### b) Recreate the DataFrame temperatures in Part (a) with custom indices using the index keyword argument and a list containing 'Morning', 'Afternoon'and 'Evening'.  "
   ]
  },
  {
   "cell_type": "code",
   "execution_count": 231,
   "metadata": {},
   "outputs": [
    {
     "name": "stdout",
     "output_type": "stream",
     "text": [
      "Temperatures\n",
      "------------\n",
      "           Maxine  James  Amanada\n",
      "Morning     100.6   98.3    100.2\n",
      "Afternoon    98.1   97.7    101.0\n",
      "Evening      97.2   99.3     98.4\n",
      "\n"
     ]
    }
   ],
   "source": [
    "emperatures = pd.DataFrame(temperatures_dic, index = [\"Morning\", \"Afternoon\", \"Evening\"])\n",
    "print(\"Temperatures\\n------------\")\n",
    "print(temperatures)"
   ]
  },
  {
   "cell_type": "markdown",
   "metadata": {},
   "source": [
    "### c) Select from temperatures the column of temperature readings for 'Maxine'.  "
   ]
  },
  {
   "cell_type": "code",
   "execution_count": 239,
   "metadata": {},
   "outputs": [
    {
     "name": "stdout",
     "output_type": "stream",
     "text": [
      "Time of Day: Temperatures\n",
      "------------------------\n",
      "0    97.0\n",
      "1    97.2\n",
      "2    97.4\n",
      "Name: Maxine, dtype: float64\n"
     ]
    }
   ],
   "source": [
    "print(\"Time of Day: Temperatures\\n------------------------\")\n",
    "print(temperatures[\"Maxine\"])"
   ]
  },
  {
   "cell_type": "markdown",
   "metadata": {},
   "source": [
    "### d) Select from temperatures the row of 'Morning' temperature readings.  "
   ]
  },
  {
   "cell_type": "code",
   "execution_count": 242,
   "metadata": {},
   "outputs": [
    {
     "name": "stdout",
     "output_type": "stream",
     "text": [
      "Name:     Temperature\n",
      "---------------------\n",
      "Maxine      97.1\n",
      "James      100.9\n",
      "Amanada    100.9\n",
      "Name: Morning, dtype: float64\n"
     ]
    }
   ],
   "source": [
    "print(\"Name:     Temperature\\n---------------------\")\n",
    "print(temperatures.loc[\"Morning\"])"
   ]
  },
  {
   "cell_type": "markdown",
   "metadata": {},
   "source": [
    "### e) Select from temperatures the rows for 'Morning' and 'Evening' temperature\n",
    "readings.  "
   ]
  },
  {
   "cell_type": "code",
   "execution_count": 243,
   "metadata": {},
   "outputs": [
    {
     "name": "stdout",
     "output_type": "stream",
     "text": [
      "Name:     Temperature\n",
      "---------------------\n",
      "         Maxine  James  Amanada\n",
      "Morning    97.1  100.9    100.9\n",
      "Evening    99.0   99.4     99.1\n"
     ]
    }
   ],
   "source": [
    "print(\"Name:     Temperature\\n---------------------\")\n",
    "print(temperatures.loc[[\"Morning\", \"Evening\"]])"
   ]
  },
  {
   "cell_type": "markdown",
   "metadata": {},
   "source": [
    "### f) Select from temperatures the columns of temperature readings for 'Amanda'\n",
    "and 'Maxine'.  "
   ]
  },
  {
   "cell_type": "code",
   "execution_count": 244,
   "metadata": {},
   "outputs": [
    {
     "name": "stdout",
     "output_type": "stream",
     "text": [
      "Temperatures\n",
      "------------\n",
      "           Amanada  Maxine\n",
      "Morning      100.9    97.1\n",
      "Afternoon     97.5    97.7\n",
      "Evening       99.1    99.0\n"
     ]
    }
   ],
   "source": [
    "print(\"Temperatures\\n------------\")\n",
    "print(temperatures[[\"Amanada\", \"Maxine\"]])"
   ]
  },
  {
   "cell_type": "markdown",
   "metadata": {},
   "source": [
    "### g) Select from temperatures the elements for 'Amanda' and 'Maxine' in the\n",
    "'Morning' and 'Afternoon'.  "
   ]
  },
  {
   "cell_type": "code",
   "execution_count": 245,
   "metadata": {},
   "outputs": [
    {
     "name": "stdout",
     "output_type": "stream",
     "text": [
      "Temperatures\n",
      "------------\n",
      "           Amanada  Maxine\n",
      "Morning      100.9    97.1\n",
      "Afternoon     97.5    97.7\n"
     ]
    }
   ],
   "source": [
    "print(\"Temperatures\\n------------\")\n",
    "print(temperatures[[\"Amanada\", \"Maxine\"]].loc[[\"Morning\", \"Afternoon\"]])"
   ]
  },
  {
   "cell_type": "markdown",
   "metadata": {},
   "source": [
    "### h) Use the describe method to produce temperatures’ descriptive statistics."
   ]
  },
  {
   "cell_type": "code",
   "execution_count": 246,
   "metadata": {},
   "outputs": [
    {
     "name": "stdout",
     "output_type": "stream",
     "text": [
      "Description Statistics\n",
      "----------------------\n",
      "          Maxine       James     Amanada\n",
      "count   3.000000    3.000000    3.000000\n",
      "mean   97.933333  100.033333   99.166667\n",
      "std     0.971253    0.776745    1.700980\n",
      "min    97.100000   99.400000   97.500000\n",
      "25%    97.400000   99.600000   98.300000\n",
      "50%    97.700000   99.800000   99.100000\n",
      "75%    98.350000  100.350000  100.000000\n",
      "max    99.000000  100.900000  100.900000\n"
     ]
    }
   ],
   "source": [
    "print(\"Description Statistics\\n----------------------\")\n",
    "print(temperatures.describe())"
   ]
  },
  {
   "cell_type": "markdown",
   "metadata": {},
   "source": [
    "### i) Transpose temperatures.  "
   ]
  },
  {
   "cell_type": "code",
   "execution_count": 247,
   "metadata": {},
   "outputs": [
    {
     "name": "stdout",
     "output_type": "stream",
     "text": [
      "Temperatures Transposed\n",
      "-----------------------\n",
      "         Morning  Afternoon  Evening\n",
      "Maxine      97.1       97.7     99.0\n",
      "James      100.9       99.8     99.4\n",
      "Amanada    100.9       97.5     99.1\n"
     ]
    }
   ],
   "source": [
    "print(\"Temperatures Transposed\\n-----------------------\")\n",
    "print(temperatures.T)"
   ]
  },
  {
   "cell_type": "markdown",
   "metadata": {},
   "source": [
    "### j) Sort temperatures so that its column names are in alphabetical order.  "
   ]
  },
  {
   "cell_type": "code",
   "execution_count": 248,
   "metadata": {},
   "outputs": [
    {
     "name": "stdout",
     "output_type": "stream",
     "text": [
      "Temperatures Sorted\n",
      "-------------------\n",
      "           Amanada  James  Maxine\n",
      "Morning      100.9  100.9    97.1\n",
      "Afternoon     97.5   99.8    97.7\n",
      "Evening       99.1   99.4    99.0\n"
     ]
    }
   ],
   "source": [
    "print(\"Temperatures Sorted\\n-------------------\")\n",
    "print(temperatures.sort_index(axis=1))"
   ]
  },
  {
   "cell_type": "markdown",
   "metadata": {},
   "source": [
    "# 8.3 (Pig Latin)  \n",
    "Write a script that encodes English-language phrases into a form of coded language called pig Latin. There are many different ways to form pig Latin phrases.\n",
    "For simplicity, use the following algorithm: \n",
    "\n",
    "> To form a pig Latin phrase from an English-language phrase, tokenize the phrase into words with string method split. To translate each English word into a pig Latin word, place the first letter of the English word at the end of the word and add the letters “ay.” Thus, the word “jump” becomes “umpjay,” the word “the” becomes “hetay,” and the word “computer” becomes “omputercay.” If the word starts with a vowel, just add “ay.” Blanks between words remain as blanks. Assume the following: The English phrase consists of words separated by blanks, there are no punctuation marks and all words have two or more letters. Enable the user to enter a sentence, the display the sentence in pig Latin."
   ]
  },
  {
   "cell_type": "code",
   "execution_count": 76,
   "metadata": {},
   "outputs": [
    {
     "data": {
      "text/plain": [
       "'ellohay erethay owhay areay ouyay'"
      ]
     },
     "execution_count": 76,
     "metadata": {},
     "output_type": "execute_result"
    }
   ],
   "source": [
    "def to_pig_latin(phrase):\n",
    "    vowels = ['a', 'e', 'i', 'o', 'u']\n",
    "    h_groups = ['th', 'ph', 'sh', 'ch']\n",
    "    new_phrase = phrase.lower()\n",
    "    new_phrase = new_phrase.split(\" \")\n",
    "    def rules(f):\n",
    "        if f[0] not in vowels and f[0:2] not in h_groups:\n",
    "            return f'{f[1:]}{f[0]}ay'\n",
    "        elif f[0] not in vowels and f[0:2] in h_groups:\n",
    "            return f'{f[2:]}{f[0:2]}ay'\n",
    "        else:\n",
    "            return f'{f}ay'\n",
    "\n",
    "    new_phrase = [rules(i) for i in new_phrase]\n",
    "    new_phrase = \" \".join(new_phrase)\n",
    "\n",
    "    return new_phrase\n",
    "\n",
    "to_pig_latin(\"Hello there how are you\")"
   ]
  },
  {
   "cell_type": "markdown",
   "metadata": {},
   "source": [
    "# 8.8 (Converting Integers to Emojis)  \n",
    "Modify the previous exercise to display 10 emojis beginning with the smiley face, which has the value 0x1F600\n",
    "\n",
    "😀\n",
    "\n",
    "The value 0x1F600 is a hexadecimal (base 16) integer. See the online appendix “Number Systems” for information on the hexadecimal number system. You can find emoji codes by searching online for “Unicode full emoji list.” The Unicode website precedes each character code with \"U+\" (representing Unicode). Replace \"U+\" with \"0x\" to properly format the code as a Python hexadecimal integer.\n",
    "\n",
    "For fun, go to https://unicode.org/emoji/charts/full-emoji-list.html  research the ranges of Unicode values for all emoji characters and try to print them all. Does your system support all of them?"
   ]
  },
  {
   "cell_type": "code",
   "execution_count": 222,
   "metadata": {
    "tags": []
   },
   "outputs": [
    {
     "name": "stdout",
     "output_type": "stream",
     "text": [
      "Hexadecimal: 0x1F601 -> 😁 | Hexadecimal: 0x1F602 -> 😂 | Hexadecimal: 0x1F603 -> 😃 | Hexadecimal: 0x1F604 -> 😄 | Hexadecimal: 0x1F605 -> 😅 | Hexadecimal: 0x1F606 -> 😆 | Hexadecimal: 0x1F607 -> 😇 | Hexadecimal: 0x1F608 -> 😈 | Hexadecimal: 0x1F609 -> 😉 | Hexadecimal: 0x1F6010 -> 😊 | Hexadecimal: 0x1F6011 -> 😋 | Hexadecimal: 0x1F6012 -> 😌 | Hexadecimal: 0x1F6013 -> 😍 | Hexadecimal: 0x1F6014 -> 😎 | Hexadecimal: 0x1F6015 -> 😏 | Hexadecimal: 0x1F6016 -> 😐 | Hexadecimal: 0x1F6017 -> 😑 | Hexadecimal: 0x1F6018 -> 😒 | Hexadecimal: 0x1F6019 -> 😓 | Hexadecimal: 0x1F6020 -> 😔 | Hexadecimal: 0x1F6021 -> 😕 | Hexadecimal: 0x1F6022 -> 😖 | Hexadecimal: 0x1F6023 -> 😗 | Hexadecimal: 0x1F6024 -> 😘 | Hexadecimal: 0x1F6025 -> 😙 | Hexadecimal: 0x1F6026 -> 😚 | Hexadecimal: 0x1F6027 -> 😛 | Hexadecimal: 0x1F6028 -> 😜 | Hexadecimal: 0x1F6029 -> 😝 | Hexadecimal: 0x1F6030 -> 😞 | Hexadecimal: 0x1F6031 -> 😟 | Hexadecimal: 0x1F6032 -> 😠 | Hexadecimal: 0x1F6033 -> 😡 | Hexadecimal: 0x1F6034 -> 😢 | Hexadecimal: 0x1F6035 -> 😣 | Hexadecimal: 0x1F6036 -> 😤 | Hexadecimal: 0x1F6037 -> 😥 | Hexadecimal: 0x1F6038 -> 😦 | Hexadecimal: 0x1F6039 -> 😧 | Hexadecimal: 0x1F6040 -> 😨 | Hexadecimal: 0x1F6041 -> 😩 | Hexadecimal: 0x1F6042 -> 😪 | Hexadecimal: 0x1F6043 -> 😫 | Hexadecimal: 0x1F6044 -> 😬 | Hexadecimal: 0x1F6045 -> 😭 | Hexadecimal: 0x1F6046 -> 😮 | Hexadecimal: 0x1F6047 -> 😯 | Hexadecimal: 0x1F6048 -> 😰 | Hexadecimal: 0x1F6049 -> 😱 | "
     ]
    }
   ],
   "source": [
    "import re\n",
    "\n",
    "for i in range(1, 50):\n",
    "    emoji = 0x1F600 + i\n",
    "    print(f'Hexadecimal: 0x1F60{i} -> {emoji:c}', end = \" | \")"
   ]
  },
  {
   "cell_type": "markdown",
   "metadata": {},
   "source": [
    "No issues supporting unicode emojis in python it seems!"
   ]
  },
  {
   "cell_type": "markdown",
   "metadata": {},
   "source": [
    "# 8.13 (Regular Expressions: Condense Spaces to a Single Space)  \n",
    "Check whether a sentence contains more than one space between words. If so, remove the extra spaces and display the results. For example, 'Hello&nbsp;&nbsp;World' should become 'Hello World'."
   ]
  },
  {
   "cell_type": "code",
   "execution_count": 221,
   "metadata": {},
   "outputs": [
    {
     "name": "stdout",
     "output_type": "stream",
     "text": [
      "Hello World\n",
      "This is a proper sentence\n",
      "This is a weird sentence\n"
     ]
    }
   ],
   "source": [
    "import re\n",
    "\n",
    "def too_many_spaces(sentence):\n",
    "    if re.search(r'[\\s]{2}', sentence):\n",
    "        return \" \".join(sentence.split())\n",
    "    else:\n",
    "        return sentence\n",
    "\n",
    "print(too_many_spaces('Hello     World'))\n",
    "print(too_many_spaces('This is a proper sentence'))\n",
    "print(too_many_spaces('This    is a       weird  sentence'))\n"
   ]
  }
 ],
 "metadata": {
  "kernelspec": {
   "display_name": "Python 3",
   "language": "python",
   "name": "python3"
  },
  "language_info": {
   "codemirror_mode": {
    "name": "ipython",
    "version": 3
   },
   "file_extension": ".py",
   "mimetype": "text/x-python",
   "name": "python",
   "nbconvert_exporter": "python",
   "pygments_lexer": "ipython3",
   "version": "3.8.3-final"
  }
 },
 "nbformat": 4,
 "nbformat_minor": 2
}