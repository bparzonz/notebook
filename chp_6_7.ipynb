{
 "metadata": {
  "language_info": {
   "codemirror_mode": {
    "name": "ipython",
    "version": 3
   },
   "file_extension": ".py",
   "mimetype": "text/x-python",
   "name": "python",
   "nbconvert_exporter": "python",
   "pygments_lexer": "ipython3",
   "version": "3.8.3-final"
  },
  "orig_nbformat": 2,
  "kernelspec": {
   "name": "Python 3.8.3 64-bit ('base': conda)",
   "display_name": "Python 3.8.3 64-bit ('base': conda)",
   "metadata": {
    "interpreter": {
     "hash": "e134e05457d34029b6460cd73bbf1ed73f339b5b6d98c95be70b69eba114fe95"
    }
   }
  }
 },
 "nbformat": 4,
 "nbformat_minor": 2,
 "cells": [
  {
   "source": [
    "# Feedback\n",
    "\n",
    "I am a bit frustrated that the default way numpy does array multiplication is not by the dot product method, but instead is element based.\n",
    "\n",
    "Besides that, straightforward. Thanks Paul!"
   ],
   "cell_type": "markdown",
   "metadata": {}
  },
  {
   "source": [
    "# 6.2 (What’s Wrong with This Code?)  \n",
    "The following code should display the unique words in the string text and the number of occurrences of each word.  \n",
    "\n",
    "```python\n",
    "from collections import Counter\n",
    "\n",
    "text = ('to be or not to be that is the question')\n",
    "counter = Counter(text.split())\n",
    "\n",
    "for word, count in sorted(counter):\n",
    "    print(f'{word:<12}{count}')\n",
    "```"
   ],
   "cell_type": "markdown",
   "metadata": {}
  },
  {
   "cell_type": "code",
   "execution_count": 3,
   "metadata": {},
   "outputs": [
    {
     "output_type": "stream",
     "name": "stdout",
     "text": [
      "be          2\nis          1\nnot         1\nor          1\nquestion    1\nthat        1\nthe         1\nto          2\n"
     ]
    }
   ],
   "source": [
    "# fixed with counter.items()\n",
    "from collections import Counter\n",
    "\n",
    "text = ('to be or not to be that is the question')\n",
    "counter = Counter(text.split())\n",
    "\n",
    "for word, count in sorted(counter.items()):\n",
    "    print(f'{word:<12}{count}')"
   ]
  },
  {
   "source": [
    "The for loop above needs a list of tuples to loop through, rather than the dictionary itself. In order to acheive this, we use the .items() method."
   ],
   "cell_type": "markdown",
   "metadata": {}
  },
  {
   "source": [
    "# 6.3 (What Does This Code Do?)  \n",
    "The dictionary temperatures contains three Fahrenheit temperature samples for each of four days. What does the for statement do?\n",
    "```python\n",
    "temperatures = {\n",
    "    'Monday': [66, 70, 74],\n",
    "    'Tuesday': [50, 56, 64],\n",
    "    'Wednesday': [75, 80, 83],\n",
    "    'Thursday': [67, 74, 81]\n",
    "}\n",
    "\n",
    "for k, v in temperatures.items():\n",
    "    print(f'{k}: {sum(v)/len(v):.2f}')\n",
    "```"
   ],
   "cell_type": "markdown",
   "metadata": {}
  },
  {
   "cell_type": "code",
   "execution_count": 4,
   "metadata": {},
   "outputs": [
    {
     "output_type": "stream",
     "name": "stdout",
     "text": [
      "Monday: 70.00\nTuesday: 56.67\nWednesday: 79.33\nThursday: 74.00\n"
     ]
    }
   ],
   "source": [
    "temperatures = {\n",
    "    'Monday': [66, 70, 74],\n",
    "    'Tuesday': [50, 56, 64],\n",
    "    'Wednesday': [75, 80, 83],\n",
    "    'Thursday': [67, 74, 81]\n",
    "}\n",
    "\n",
    "for k, v in temperatures.items():\n",
    "    print(f'{k}: {sum(v)/len(v):.2f}')"
   ]
  },
  {
   "source": [
    "This code loops through the items in this dictionary and finds the average of the values associated with each key. It does this by summing the list of values associated with each key, and then dividing the sum by the length of the list of those values, which should equal the number of temperatures of that day. It then returns the results formatted at 2 decimal places."
   ],
   "cell_type": "markdown",
   "metadata": {}
  },
  {
   "source": [
    "# 6.6 (Duplicate Word Removal)  \n",
    "Write a function that receives a list of words, then determines and displays in alphabetical order only the unique words. Treat uppercase and lowercase letters the same. The function should use a set to get the unique words in the list. Test your function with several sentences."
   ],
   "cell_type": "markdown",
   "metadata": {}
  },
  {
   "cell_type": "code",
   "execution_count": 61,
   "metadata": {},
   "outputs": [
    {
     "output_type": "stream",
     "name": "stdout",
     "text": [
      "  Unique Words  \n----------------\n 1)          and\n 2)          are\n 3)           at\n 4)    different\n 5)         list\n 6)         look\n 7)         need\n 8)         that\n 9)          the\n10)        these\n11)           to\n12)        words\n\n  Unique Words  \n----------------\n 1)           do\n 2)           of\n 3)         paul\n 4)     sentence\n 5)        think\n 6)         this\n 7)         what\n 8)          you\n\n  Unique Words  \n----------------\n 1)          duh\n 2)       fuuunn\n 3)           is\n 4)       python\n"
     ]
    }
   ],
   "source": [
    "from numpy import unique\n",
    "\n",
    "list_of_words = [\"These\", \"are\", \"the\", \"words\", \"THAT\", \"THE\", \"list\", \"neEd\", \"tO\", \"look\", \"at\", \"and\", \"THE\", \"WoRds\", \"are\", \"DIFFERENT\"]\n",
    "list_of_words2 = [\"WHAT\", \"do\", \"YOU\", \"think\", \"OF\", \"this\", \"SentENCE\", \"PAUL\", \"WHAT\", \"DO\", \"YOU\", \"THINK\"]\n",
    "list_of_words3 = [\"PYTHON\", \"is\", \"fuuunn\", \"DUH\", \"FUUUNN\"]\n",
    "\n",
    "def unique_sorted_words(words):\n",
    "    \"Returns an alphabetized list of unique words\"\n",
    "    lower = []\n",
    "    for i in words:\n",
    "       lower.append(i.lower())\n",
    "    \n",
    "    lower.sort()\n",
    "    lower = enumerate(unique(lower))\n",
    "    return lower\n",
    "\n",
    "print(\"  Unique Words  \")\n",
    "print(\"----------------\")\n",
    "for number, word in unique_sorted_words(list_of_words):\n",
    "     print(f'{number + 1:>2}){word:>13}')\n",
    "\n",
    "print()\n",
    "print(\"  Unique Words  \")\n",
    "print(\"----------------\")\n",
    "for number, word in unique_sorted_words(list_of_words2):\n",
    "     print(f'{number + 1:>2}){word:>13}')\n",
    "\n",
    "print()\n",
    "print(\"  Unique Words  \")\n",
    "print(\"----------------\")\n",
    "for number, word in unique_sorted_words(list_of_words3):\n",
    "     print(f'{number + 1:>2}){word:>13}')"
   ]
  },
  {
   "source": [
    "# (Dictionary Manipulations)  \n",
    "Using the following dictionary, which maps country names to Internet top-level domains (TLDs):\n",
    "```python\n",
    "tlds = {'Canada': 'ca', 'United States': 'us', 'Mexico': 'mx'}\n",
    "```\n",
    "Perform the following tasks and display the results:  \n",
    "> a) Check whether the dictionary contains the key 'Canada'.  \n",
    "b) Check whether the dictionary contains the key 'France'.  \n",
    "c) Iterate through the key–value pairs and display them in two-column format.  \n",
    "d) Add the key–value pair 'Sweden' and 'sw' (which is incorrect).  \n",
    "e) Update the value for the key 'Sweden' to 'se'.  \n",
    "f) Use a dictionary comprehension to reverse the keys and values.  \n",
    "g) With the result of part (f), use a dictionary comprehension to convert the country\n",
    "names to all uppercase letters.  "
   ],
   "cell_type": "markdown",
   "metadata": {}
  },
  {
   "cell_type": "code",
   "execution_count": 127,
   "metadata": {},
   "outputs": [
    {
     "output_type": "stream",
     "name": "stdout",
     "text": [
      "Canada is in Keys\nFrance is not in Keys\n\n             Key    Value\n-------------------------\n         Canada :      ca\n  United States :      us\n         Mexico :      mx\n\n             Key    Value\n-------------------------\n         Canada :      ca\n  United States :      us\n         Mexico :      mx\n         Sweden :      sw\n\n             Key    Value\n-------------------------\n         Canada :      ca\n  United States :      us\n         Mexico :      mx\n         Sweden :      se\n\nKey           Value\n-------------------\nca :         Canada\nus :  United States\nmx :         Mexico\nse :         Sweden\n\nKey           Value\n-------------------\nCA :         Canada\nUS :  United States\nMX :         Mexico\nSE :         Sweden\n"
     ]
    }
   ],
   "source": [
    "tlds = {\"Canada\": \"ca\", \"United States\": \"us\", \"Mexico\": \"mx\"}\n",
    "# Check whether the dictionary contains the key 'Canada'.\n",
    "if \"Canada\" in tlds.keys():\n",
    "    print(\"Canada is in Keys\")\n",
    "else:\n",
    "    print(\"Canada is not in Keys\")\n",
    "\n",
    "# Check whether the dictionary contains the key 'France'.\n",
    "if \"France\" in tlds.keys():\n",
    "    print(\"France is in Keys\")\n",
    "else:\n",
    "    print(\"France is not in Keys\")\n",
    "\n",
    "# Iterate through the key–value pairs and display them in two-column format.\n",
    "print()\n",
    "print(\" \" * 12,\"Key\", \"  \", \"Value\")\n",
    "print(\"-\" * 25)\n",
    "for key, value in tlds.items():\n",
    "     print(f'{key:>15} :{value:>8}')\n",
    "\n",
    "# Add the key–value pair 'Sweden' and 'sw' (which is incorrect).\n",
    "tlds[\"Sweden\"] = \"sw\"\n",
    "print()\n",
    "print(\" \" * 12,\"Key\", \"  \", \"Value\")\n",
    "print(\"-\" * 25)\n",
    "for key, value in tlds.items():\n",
    "     print(f'{key:>15} :{value:>8}')\n",
    "\n",
    "# Update the value for the key 'Sweden' to 'se'.\n",
    "tlds[\"Sweden\"] = \"se\"\n",
    "print()\n",
    "print(\" \" * 12,\"Key\", \"  \", \"Value\")\n",
    "print(\"-\" * 25)\n",
    "for key, value in tlds.items():\n",
    "     print(f'{key:>15} :{value:>8}')\n",
    "\n",
    "# Use a dictionary comprehension to reverse the keys and values.\n",
    "flipped_tlds = {tld: name for name, tld in tlds.items()}\n",
    "print()\n",
    "print(\"Key\", \" \" * 9, \"Value\")\n",
    "print(\"-\" * 19)\n",
    "for key, value in flipped_tlds.items():\n",
    "     print(f'{key:>2} :{value:>15}')\n",
    "     \n",
    "# With the result of part (f), use a dictionary comprehension to convert the country names to all uppercase letters.\n",
    "flipped_tlds = {tld.upper(): name for tld, name in flipped_tlds.items()}\n",
    "print()\n",
    "print(\"Key\", \" \" * 9, \"Value\")\n",
    "print(\"-\" * 19)\n",
    "for key, value in flipped_tlds.items():\n",
    "     print(f'{key:>2} :{value:>15}')"
   ]
  },
  {
   "source": [
    "# 7.2 (Broadcasting)  \n",
    "Use arange to create a 2-by-2 array containing the numbers 0–3. Use broadcasting to perform each of the following operations on the original array:  \n",
    "> a) Cube every element of the array.  \n",
    "b) Add 7 to every element of the array.  \n",
    "c) Multiply every element of the array by 2.  "
   ],
   "cell_type": "markdown",
   "metadata": {}
  },
  {
   "cell_type": "code",
   "execution_count": 171,
   "metadata": {},
   "outputs": [
    {
     "output_type": "stream",
     "name": "stdout",
     "text": [
      "[[ 0  1]\n [ 8 27]] \n\n[[ 7  8]\n [ 9 10]] \n\n[[0 2]\n [4 6]] \n\n"
     ]
    }
   ],
   "source": [
    "import numpy as np\n",
    "\n",
    "array = np.arange(4).reshape(2,2)\n",
    "\n",
    "print(array ** 3, \"\\n\")\n",
    "print(array + 7, \"\\n\")\n",
    "print(array * 2, \"\\n\")"
   ]
  },
  {
   "source": [
    "# 7.3 (Element-Wise array Multiplication)  \n",
    "Create a 3-by-3 array containing the even integers from 2 through 18. Create a second 3-by-3 array containing the integers from 9\n",
    "down to 1, then multiply the first array by the second."
   ],
   "cell_type": "markdown",
   "metadata": {}
  },
  {
   "cell_type": "code",
   "execution_count": 165,
   "metadata": {},
   "outputs": [
    {
     "output_type": "stream",
     "name": "stdout",
     "text": [
      "[[ 2  4  6]\n [ 8 10 12]\n [14 16 18]] \n\n[[9 8 7]\n [6 5 4]\n [3 2 1]]\n"
     ]
    },
    {
     "output_type": "execute_result",
     "data": {
      "text/plain": [
       "array([[18, 32, 42],\n",
       "       [48, 50, 48],\n",
       "       [42, 32, 18]])"
      ]
     },
     "metadata": {},
     "execution_count": 165
    }
   ],
   "source": [
    "import numpy as np\n",
    "\n",
    "array = np.arange(2, 19, 2).reshape(3,3)\n",
    "array2 = np.arange(9, 0, -1).reshape(3,3)\n",
    "\n",
    "print(array, \"\\n\")\n",
    "print(array2)\n",
    "\n",
    "array * array2\n"
   ]
  },
  {
   "source": [
    "# 7.9 (Indexing and Slicing arrays)  \n",
    "Create an array containing the values 1–15, reshape it into a 3-by-5 array, then use indexing and slicing techniques to perform each of the following operations:  \n",
    "\n",
    "> a) Select row 2.  \n",
    "b) Select column 5.  \n",
    "c) Select rows 0 and 1.  \n",
    "d) Select columns 2–4.  \n",
    "e) Select the element that is in row 1 and column 4.  \n",
    "f) Select all elements from rows 1 and 2 that are in columns 0, 2 and 4.  "
   ],
   "cell_type": "markdown",
   "metadata": {}
  },
  {
   "source": [
    "import numpy as np\n",
    "\n",
    "array = np.arange(1, 16).reshape(3,5)\n",
    "\n",
    "# Select row 2.  \n",
    "print(array[2,:], \"\\n\")\n",
    "\n",
    "# Select column 5 (4).  \n",
    "print(array[:,4], \"\\n\")\n",
    "\n",
    "# Select rows 0 and 1.  \n",
    "print(array[[0,1],:], \"\\n\")\n",
    "\n",
    "# Select columns 2–4.  \n",
    "print(array[:,2:4], \"\\n\")\n",
    "\n",
    "# Select the element that is in row 1 and column 4.\n",
    "print(array[1,4], \"\\n\")\n",
    "\n",
    "# Select all elements from rows 1 and 2 that are in columns 0, 2 and 4.\n",
    "print(array[1:2,1:4:2])"
   ],
   "cell_type": "code",
   "metadata": {},
   "execution_count": 163,
   "outputs": [
    {
     "output_type": "stream",
     "name": "stdout",
     "text": [
      "[11 12 13 14 15] \n\n[ 5 10 15] \n\n[[ 1  2  3  4  5]\n [ 6  7  8  9 10]] \n\n[[ 3  4]\n [ 8  9]\n [13 14]] \n\n10 \n\n[[7 9]]\n"
     ]
    }
   ]
  },
  {
   "source": [
    "# 7.14 (Horizontal and Vertical Stacking)  \n",
    "Create the two-dimensional arrays\n",
    "```python\n",
    "array1 = np.array([[0, 1], [2, 3]])\n",
    "array2 = np.array([[4, 5], [6, 7]])\n",
    "```\n",
    "> a) Use vertical stacking to create the 4-by-2 array named array3 with array1 stacked on top of array2.  \n",
    "b) Use horizontal stacking to create the 2-by-4 array named array4 with array2 to the right of array1.  \n",
    "c) Use vertical stacking with two copies of array4 to create a 4-by-4 array5.  \n",
    "d) Use horizontal stacking with two copies of array3 to create a 4-by-4 array6.  "
   ],
   "cell_type": "markdown",
   "metadata": {}
  },
  {
   "cell_type": "code",
   "execution_count": 170,
   "metadata": {},
   "outputs": [
    {
     "output_type": "stream",
     "name": "stdout",
     "text": [
      "[[0 1]\n [2 3]\n [4 5]\n [6 7]] \n\n[[0 1 4 5]\n [2 3 6 7]] \n\n[[0 1 4 5]\n [2 3 6 7]\n [0 1 4 5]\n [2 3 6 7]] \n\n[[0 1 0 1]\n [2 3 2 3]\n [4 5 4 5]\n [6 7 6 7]]\n"
     ]
    }
   ],
   "source": [
    "import numpy as np\n",
    "\n",
    "array1 = np.array([[0, 1], [2, 3]])\n",
    "array2 = np.array([[4, 5], [6, 7]])\n",
    "\n",
    "# Use vertical stacking to create the 4-by-2 array named array3 with array1 stacked on top of array2.  \n",
    "array3 = np.vstack((array1, array2))\n",
    "print(array3, \"\\n\")\n",
    "\n",
    "# Use horizontal stacking to create the 2-by-4 array named array4 with array2 to the right of array1.  \n",
    "array4 = np.hstack((array1, array2))\n",
    "print(array4, \"\\n\")\n",
    "\n",
    "# Use vertical stacking with two copies of array4 to create a 4-by-4 array5.  \n",
    "array5 = np.vstack((array4, array4))\n",
    "print(array5, \"\\n\")\n",
    "\n",
    "# Use horizontal stacking with two copies of array3 to create a 4-by-4 array6.  \n",
    "array6 = np.hstack((array3, array3))\n",
    "print(array6)"
   ]
  }
 ]
}