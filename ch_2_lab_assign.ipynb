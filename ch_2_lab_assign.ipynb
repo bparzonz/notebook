{
 "metadata": {
  "language_info": {
   "codemirror_mode": {
    "name": "ipython",
    "version": 3
   },
   "file_extension": ".py",
   "mimetype": "text/x-python",
   "name": "python",
   "nbconvert_exporter": "python",
   "pygments_lexer": "ipython3",
   "version": "3.8.3-final"
  },
  "orig_nbformat": 2,
  "kernelspec": {
   "name": "python_defaultSpec_1600355266367",
   "display_name": "Python 3.8.3 64-bit ('base': conda)"
  }
 },
 "nbformat": 4,
 "nbformat_minor": 2,
 "cells": [
  {
   "source": [
    "Not difficult! No questions here :) <br>\n",
    "\n",
    "I expanded on the optional excersize. I wonder what the more straightforward solution was?\n",
    "\n",
    "Thanks!"
   ],
   "cell_type": "markdown",
   "metadata": {}
  },
  {
   "source": [
    "2.1 (What does this code do?) Create the variables x = 2 and y = 3, then determine what each of the following statements displays:"
   ],
   "cell_type": "markdown",
   "metadata": {}
  },
  {
   "cell_type": "code",
   "execution_count": 10,
   "metadata": {
    "tags": []
   },
   "outputs": [
    {
     "output_type": "stream",
     "name": "stdout",
     "text": "x = 2\nValue of 2 + 2 is 4\nx =\n5 = 5\n"
    }
   ],
   "source": [
    "x = 2\n",
    "y = 3\n",
    "print('x =', x)\n",
    "print('Value of', x, '+', x, 'is', (x + x))\n",
    "print('x =')\n",
    "print((x + y), '=', (y + x))"
   ]
  },
  {
   "source": [
    "a) Concatenates the string 'x =' with the value of x, with spaces where commas are used. <br>\n",
    "b) Concatenates and outputs the string 'Value of' with the value of x, the string '+', the value of x, the string 'is', and the summation of the two values of x, with spaces where commas are used. <br>\n",
    "c) Outputs the string 'x =' <br>\n",
    "d) Sums the values of the variables within the parenthesis, and concatenates those values around the string '=', withs spaces where commas are used."
   ],
   "cell_type": "markdown",
   "metadata": {}
  },
  {
   "source": [
    "2.2 (What’s wrong with this code?) The following code should read an integer into the variable rating:"
   ],
   "cell_type": "markdown",
   "metadata": {}
  },
  {
   "cell_type": "code",
   "execution_count": 11,
   "metadata": {},
   "outputs": [
    {
     "output_type": "execute_result",
     "data": {
      "text/plain": "'5'"
     },
     "metadata": {},
     "execution_count": 11
    }
   ],
   "source": [
    "rating = input('Enter an integer rating between 1 and 10')\n",
    "rating"
   ]
  },
  {
   "source": [
    "The requirement seems to be an integer, but the function input will output a string. It must be coerced with int()"
   ],
   "cell_type": "markdown",
   "metadata": {}
  },
  {
   "cell_type": "code",
   "execution_count": 12,
   "metadata": {},
   "outputs": [
    {
     "output_type": "execute_result",
     "data": {
      "text/plain": "2"
     },
     "metadata": {},
     "execution_count": 12
    }
   ],
   "source": [
    "rating = int(input('Enter an integer rating between 1 and 10'))\n",
    "rating"
   ]
  },
  {
   "source": [
    "2.6 (Odd or Even) Use if statements to determine whether an integer is odd or even. \\[Hint: Use the remainder operator. An even number is a multiple of 2. Any multiple of 2 leaves a remainder of 0 when divided by 2.]"
   ],
   "cell_type": "markdown",
   "metadata": {}
  },
  {
   "cell_type": "code",
   "execution_count": 13,
   "metadata": {
    "tags": []
   },
   "outputs": [
    {
     "output_type": "stream",
     "name": "stdout",
     "text": "Even\n"
    }
   ],
   "source": [
    "integer = int(input(\"Input an integer to see if its odd or even\"))\n",
    "if integer % 2 == 1:\n",
    "    print(\"Odd\")\n",
    "else:\n",
    "    print(\"Even\")"
   ]
  },
  {
   "source": [
    "2.10 (Arithmetic, Smallest and Largest) Write a script that inputs three integers from the user. Display the sum, average, product, smallest and largest of the numbers. Note that each of these is a reduction in functional-style programming."
   ],
   "cell_type": "markdown",
   "metadata": {}
  },
  {
   "cell_type": "code",
   "execution_count": 10,
   "metadata": {
    "tags": []
   },
   "outputs": [
    {
     "output_type": "stream",
     "name": "stdout",
     "text": "15\n5\n3\n7\n"
    }
   ],
   "source": [
    "import statistics\n",
    "\n",
    "x = int(input(\"Input first number\"))\n",
    "y = int(input(\"Input second number\"))\n",
    "z = int(input(\"Input thrid number\"))\n",
    "\n",
    "\n",
    "print(sum((x, y, z)))\n",
    "print(statistics.mean((x, y, z)))\n",
    "print(min((x, y, z)))\n",
    "print(max((x, y, z)))\n",
    "\n"
   ]
  },
  {
   "source": [
    "2.12 (7% Investment Return) Some investment advisors say that it’s reasonable to ex- pect a 7% return over the long term in the stock market. Assuming that you begin with \\$1000 and leave your money invested, calculate and display how much money you’ll have after 10, 20 and 30 years. Use the following formula for determining these amounts: <br> <br>\n",
    "a = p(1 + r)^n where <br><br>\n",
    "p is the original amount invested (i.e., the principal of $1000), r is the annual rate of return (7%), <br>\n",
    "n is the number of years (10, 20 or 30) and <br>\n",
    "a is the amount on deposit at the end of the nth year."
   ],
   "cell_type": "markdown",
   "metadata": {}
  },
  {
   "cell_type": "code",
   "execution_count": 15,
   "metadata": {
    "tags": []
   },
   "outputs": [
    {
     "output_type": "stream",
     "name": "stdout",
     "text": "10 Year Return: 1967.1513572895665\n20 Year Return: 3869.6844624861833\n30 Year Return: 7612.255042662042\n"
    }
   ],
   "source": [
    "p = float(input(\"Input the Princpal\"))\n",
    "r = float(input(\"Input the expected rate of return per year as a decimal\"))\n",
    "n = [10,20,30]\n",
    "\n",
    "for i in n:\n",
    "    a = p*(1+r)**i\n",
    "    print(i, \"Year Return:\", a)"
   ]
  },
  {
   "source": [
    "2.13 (How Big Can Python Integers Be?) We’ll answer this question later in the book. For now, use the exponentiation operator ** with large and very large exponents to pro- duce some huge integers and assign those to the variable number to see if Python accepts them. Did you find any integer value that Python won’t accept?"
   ],
   "cell_type": "markdown",
   "metadata": {}
  },
  {
   "cell_type": "code",
   "execution_count": 16,
   "metadata": {
    "tags": []
   },
   "outputs": [
    {
     "output_type": "stream",
     "name": "stdout",
     "text": "1000000000000000000000000000000000000000000000000000000000000000000000000000000000000000000000000000000000000000000000000000000000000000000000000000000000000000000000000000000000000000000000000000000000000000000000000000000000000000000000000000000000000000000000000000000000000000000000000000000000000000000000000000000000000000000000000000000000000000000000000000000000000000000000000000000000000000000000000000000000000000000000000000000000000000000000000000000000000000000000000000000000000000000000000000000000000000000000000000000000000000000000000000000000000000000000000000000000000000000000000000000000000000000000000000000000000000000000000000000000000000000000000000000000000000000000000000000000000000000000000000000000000000000000000000000000000000000000000000000000000000000000000000000000000000000000000000000000000000000000000000000000000000000000000000000000000000000000000000000000000000000000000000000000000000000000000000000000000000000000000000000000000000000000000000000000000000000000000000000000000000000000000000000000000000000000000000000000000000000000000000000000000000000000000000000000000000000000000000000000000000000000000000000000000000000000000000000000000000000000000000000000000000000000000000000000000000000000000000000000000000000000000000000000000000000000000000000000000000000000000000000000000000000000000000000000000000000000000000000000000000000000000000000000000000000000000000000000000000000000000000000000000000000000000000000000000000000000000000000000000000000000000000000000000000000000000000000000000000000000000000000000000000000000000000000000000000000000000000000000000000000000000000000000000000000000000000000000000000000000000000000000000000000000000000000000000000000000000000000000000000000000000000000000000000000000000000000000000000000000000000000000000000000000000000000000000000000000000000000000000000000000000000000000000000000000000000000000000000000000000000000000000000000000000000000000000000000000000000000000000000000000000000000000000000000000000000000000000000000000000000000000000000000000000000000000000000000000000000000000000000000000000000000000000000000000000000000000000000000000000000000000000000000000000000000000000000000000000000000000000000000000000000000000000000000000000000000000000000000000000000000000000000000000000000000000000000000000000000000000000000000000000000000000000000000000000000000000000000000000000000000000000000000000000000000000000000000000000000000000000000000000000000000000000000000000000000000000000000000000000000000000000000000000000000000000000000000000000000000000000000000000000000000000000000000000000000000000000000000000000000000000000000000000000000000000000000000000000000000000000000000000000000000000000000000000000000000000000000000000000000000000000000000000000000000000000000000000000000000000000000000000000000000000000000000000000000000000000000000000000000000000000000000000000000000000000000000000000000000000000000000000000000000000000000000000000000000000000000000000000\n"
    }
   ],
   "source": [
    "x = 1000\n",
    "\n",
    "x = x**x\n",
    "\n",
    "print(x)"
   ]
  },
  {
   "source": [
    "In Python 3, the plain int type is unbounded. <br> <br>\n",
    "\n",
    "However, you might actually be looking for information about the current interpreter's word size, which will be the same as the machine's word size in most cases. That information is still available in Python 3 as sys.maxsize, which is the maximum value representable by a signed word. Equivalently, it's the size of the largest possible list or in-memory sequence. <br> <br>\n",
    "\n",
    "Generally, the maximum value representable by an unsigned word will be sys.maxsize * 2 + 1, and the number of bits in a word will be math.log2(sys.maxsize * 2 + 2). See this answer for more information."
   ],
   "cell_type": "markdown",
   "metadata": {}
  },
  {
   "source": [
    "2.11 (Separating the Digits in an Integer) Write a script that inputs a five-digit integer from the user. Separate the number into its individual digits. Print them separated by three spaces each. For example, if the user types in the number 42339, the script should print <br> <br>\n",
    "4 2 3 3 9 <br> <br>\n",
    "Assume that the user enters the correct number of digits. Use both the floor division and remainder operations to “pick off ” each digit."
   ],
   "cell_type": "markdown",
   "metadata": {}
  },
  {
   "cell_type": "code",
   "execution_count": 17,
   "metadata": {
    "tags": []
   },
   "outputs": [
    {
     "output_type": "stream",
     "name": "stdout",
     "text": "3 8 7 8 9\n"
    }
   ],
   "source": [
    "x = int(input(\"5 Digit Integer Please...\"))\n",
    "\n",
    "check = x/10000\n",
    "\n",
    "# check if 5 digits\n",
    "while (check < 1 or check >= 10):\n",
    "   check = int(input(\"Not 5 digits. Enter 5 digit integer\"))/10000\n",
    "\n",
    "# code to allow for different lengths of integers if check is removed\n",
    "number = []\n",
    "y = x\n",
    "legnth_of_number = 1\n",
    "while (y > 10):\n",
    "   legnth_of_number += 1\n",
    "   y = y/10\n",
    "\n",
    "number.append(x % 10)\n",
    "\n",
    "for i in range(1, legnth_of_number):\n",
    "   number.append(int(x/10) % 10)\n",
    "   x = x // 10\n",
    "\n",
    "number.reverse()\n",
    "\n",
    "print(*number)"
   ]
  },
  {
   "cell_type": "code",
   "execution_count": null,
   "metadata": {},
   "outputs": [],
   "source": []
  }
 ]
}