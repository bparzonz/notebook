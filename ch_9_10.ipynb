{
 "metadata": {
  "language_info": {
   "codemirror_mode": {
    "name": "ipython",
    "version": 3
   },
   "file_extension": ".py",
   "mimetype": "text/x-python",
   "name": "python",
   "nbconvert_exporter": "python",
   "pygments_lexer": "ipython3",
   "version": "3.8.3-final"
  },
  "orig_nbformat": 2,
  "kernelspec": {
   "name": "Python 3.8.3 64-bit ('base': conda)",
   "display_name": "Python 3.8.3 64-bit ('base': conda)",
   "metadata": {
    "interpreter": {
     "hash": "e134e05457d34029b6460cd73bbf1ed73f339b5b6d98c95be70b69eba114fe95"
    }
   }
  }
 },
 "nbformat": 4,
 "nbformat_minor": 2,
 "cells": [
  {
   "source": [
    "Is there a more effective way to add a mean row in 9.7? Thanks!"
   ],
   "cell_type": "markdown",
   "metadata": {}
  },
  {
   "source": [
    "## 9.3 (Class Average: Writing Student Records to a CSV File)  \n",
    "An instructor teaches a class in which each student takes three exams. The instructor would like to store this information\n",
    "in a file named grades.csv for later use. Write code that enables an instructor to enter each student’s first name and last name as strings and the student’s three exam grades as integers. Use the csv module to write each record into the grades.csv file. Each\n",
    "record should be a single line of text in the following CSV format:\n",
    "> _firstname,lastname,exam1grade,exam2grade,exam3grade_"
   ],
   "cell_type": "markdown",
   "metadata": {}
  },
  {
   "source": [
    "import csv\n",
    "\n",
    "loop = 'YES'\n",
    "grades_dictionary = {}\n",
    "count = 0\n",
    "\n",
    "while loop == 'YES':\n",
    "    if count >= 5:\n",
    "        print('Too many incorrect names')\n",
    "        break\n",
    "\n",
    "    name = input('First and Last Name')\n",
    "\n",
    "    if len(name.split(' ')) != 2:\n",
    "        print('Input First AND Last Name')\n",
    "        count += 0\n",
    "        continue\n",
    "\n",
    "    count = 0\n",
    "    grade1 = int(input('First Test Grade'))\n",
    "    grade2 = int(input('Second Test Grade'))\n",
    "    grade3 = int(input('Third Test Grade'))\n",
    "    grades_dictionary[name] = [grade1, grade2, grade3]\n",
    "\n",
    "    loop = input('Type \"YES\" to input another list of three grades. Type anything else to output to csv')\n",
    "\n",
    "with open('grades.csv', mode='w', newline='') as grades:\n",
    "    writer = csv.writer(grades)\n",
    "    writer.writerow(['firstname', 'lastname', 'exam1grade', 'exam2grade', 'exam3grade'])\n",
    "    for key in grades_dictionary:\n",
    "        name = key.split(' ')\n",
    "        write = [i for i in name]\n",
    "        write.append(grades_dictionary[key][0])\n",
    "        write.append(grades_dictionary[key][1])\n",
    "        write.append(grades_dictionary[key][2])\n",
    "        \n",
    "        writer.writerow(write)\n"
   ],
   "cell_type": "code",
   "metadata": {},
   "execution_count": 208,
   "outputs": []
  },
  {
   "source": [
    "## 9.4 (Class Average: Reading Student Records from a CSV File)  \n",
    "Use the csv module to read the grades.csv file from the previous exercise. Display the data in tabular format."
   ],
   "cell_type": "markdown",
   "metadata": {}
  },
  {
   "cell_type": "code",
   "execution_count": 209,
   "metadata": {},
   "outputs": [
    {
     "output_type": "execute_result",
     "data": {
      "text/plain": [
       "                  exam1grade exam2grade exam3grade\n",
       "Benjamin Parsons         100        100        100\n",
       "Benjamin Eviltwin         22         11          0\n",
       "Hello Kity                48         58         99"
      ],
      "text/html": "<div>\n<style scoped>\n    .dataframe tbody tr th:only-of-type {\n        vertical-align: middle;\n    }\n\n    .dataframe tbody tr th {\n        vertical-align: top;\n    }\n\n    .dataframe thead th {\n        text-align: right;\n    }\n</style>\n<table border=\"1\" class=\"dataframe\">\n  <thead>\n    <tr style=\"text-align: right;\">\n      <th></th>\n      <th>exam1grade</th>\n      <th>exam2grade</th>\n      <th>exam3grade</th>\n    </tr>\n  </thead>\n  <tbody>\n    <tr>\n      <th>Benjamin Parsons</th>\n      <td>100</td>\n      <td>100</td>\n      <td>100</td>\n    </tr>\n    <tr>\n      <th>Benjamin Eviltwin</th>\n      <td>22</td>\n      <td>11</td>\n      <td>0</td>\n    </tr>\n    <tr>\n      <th>Hello Kity</th>\n      <td>48</td>\n      <td>58</td>\n      <td>99</td>\n    </tr>\n  </tbody>\n</table>\n</div>"
     },
     "metadata": {},
     "execution_count": 209
    }
   ],
   "source": [
    "import pandas as pd\n",
    "\n",
    "grades_dictionary = {}\n",
    "with open('grades.csv', mode='r', newline='') as grades:\n",
    "    reader = csv.reader(grades)\n",
    "    loop = 0\n",
    "    for record in reader:\n",
    "        if loop == 0:\n",
    "            firsth, lasth, grade1h, grade2h, grade3h = record\n",
    "            loop += 1\n",
    "            continue\n",
    "\n",
    "        first, last, grade1, grade2, grade3 = record\n",
    "        fullname = f'{first} {last}'\n",
    "        grades_dictionary[fullname] = [grade1, grade2, grade3]\n",
    "    \n",
    "grades = pd.DataFrame(grades_dictionary).T\n",
    "grades.columns = [grade1h, grade2h, grade3h]\n",
    "grades"
   ]
  },
  {
   "source": [
    "## 9.16 (Working with the diamonds.csv Dataset in Pandas)  \n",
    "In this book’s data-science chapters, you’ll work extensively with datasets, many in CSV format. You’ll frequently use pandas to load datasets and prepare their data for use in machine-learning studies. Datasets are available for almost anything you’d want to study. There are numerous dataset repositories from which you can download datasets in CSV and other formats. In this chapter, we mentioned:  \n",
    "\n",
    "> https://vincentarelbundock.github.io/Rdatasets/datasets.html  \n",
    "\n",
    "and\n",
    "\n",
    "> https://github.com/awesomedata/awesome-public-datasets  \n",
    "\n",
    "The Kaggle competition site:\n",
    "\n",
    "> https://www.kaggle.com/datasets?filetype=csv  \n",
    "\n",
    "has approximately 11,000 datasets with over 7500 in CSV format. The U.S. government’s data.gov site:  \n",
    "\n",
    "> https://catalog.data.gov/dataset?res_format=CSV&_res_format_limit=0  \n",
    "\n",
    "has over 300,000 datasets with approximately 19,000 in CSV format.  \n",
    "\n",
    "In this exercise, you’ll use the diamonds dataset to perform tasks similar to those you saw in the Intro to Data Science section. This dataset is available as diamonds.csv from various sources, including the Kaggle and Rdatasets sites listed above. The dataset contains information on 53,940 diamonds, including each diamond’s carats, cut, color, clarity, depth, table (flat top surface), price and x, y and z measurements. The Kaggle site’s web page for this dataset describes each column’s content.  \n",
    "\n",
    "Perform the following tasks to study and analyze the diamonds dataset:"
   ],
   "cell_type": "markdown",
   "metadata": {}
  },
  {
   "source": [
    "### a) Download diamonds.csv from one of the dataset repositories.\n",
    "\n",
    "Done through URL below"
   ],
   "cell_type": "markdown",
   "metadata": {}
  },
  {
   "source": [
    "### b) Load the dataset into a pandas DataFrame with the following statement, which uses the first column of each record as the row index:"
   ],
   "cell_type": "markdown",
   "metadata": {}
  },
  {
   "cell_type": "code",
   "execution_count": 3,
   "metadata": {},
   "outputs": [],
   "source": [
    "import pandas as pd\n",
    "\n",
    "diamonds = pd.read_csv('https://vincentarelbundock.github.io/Rdatasets/csv/ggplot2/diamonds.csv', index_col=0)"
   ]
  },
  {
   "source": [
    "### c) Display the first seven rows of the DataFrame."
   ],
   "cell_type": "markdown",
   "metadata": {}
  },
  {
   "cell_type": "code",
   "execution_count": 211,
   "metadata": {},
   "outputs": [
    {
     "output_type": "execute_result",
     "data": {
      "text/plain": [
       "   carat        cut color clarity  depth  table  price     x     y     z\n",
       "1   0.23      Ideal     E     SI2   61.5   55.0    326  3.95  3.98  2.43\n",
       "2   0.21    Premium     E     SI1   59.8   61.0    326  3.89  3.84  2.31\n",
       "3   0.23       Good     E     VS1   56.9   65.0    327  4.05  4.07  2.31\n",
       "4   0.29    Premium     I     VS2   62.4   58.0    334  4.20  4.23  2.63\n",
       "5   0.31       Good     J     SI2   63.3   58.0    335  4.34  4.35  2.75\n",
       "6   0.24  Very Good     J    VVS2   62.8   57.0    336  3.94  3.96  2.48\n",
       "7   0.24  Very Good     I    VVS1   62.3   57.0    336  3.95  3.98  2.47"
      ],
      "text/html": "<div>\n<style scoped>\n    .dataframe tbody tr th:only-of-type {\n        vertical-align: middle;\n    }\n\n    .dataframe tbody tr th {\n        vertical-align: top;\n    }\n\n    .dataframe thead th {\n        text-align: right;\n    }\n</style>\n<table border=\"1\" class=\"dataframe\">\n  <thead>\n    <tr style=\"text-align: right;\">\n      <th></th>\n      <th>carat</th>\n      <th>cut</th>\n      <th>color</th>\n      <th>clarity</th>\n      <th>depth</th>\n      <th>table</th>\n      <th>price</th>\n      <th>x</th>\n      <th>y</th>\n      <th>z</th>\n    </tr>\n  </thead>\n  <tbody>\n    <tr>\n      <th>1</th>\n      <td>0.23</td>\n      <td>Ideal</td>\n      <td>E</td>\n      <td>SI2</td>\n      <td>61.5</td>\n      <td>55.0</td>\n      <td>326</td>\n      <td>3.95</td>\n      <td>3.98</td>\n      <td>2.43</td>\n    </tr>\n    <tr>\n      <th>2</th>\n      <td>0.21</td>\n      <td>Premium</td>\n      <td>E</td>\n      <td>SI1</td>\n      <td>59.8</td>\n      <td>61.0</td>\n      <td>326</td>\n      <td>3.89</td>\n      <td>3.84</td>\n      <td>2.31</td>\n    </tr>\n    <tr>\n      <th>3</th>\n      <td>0.23</td>\n      <td>Good</td>\n      <td>E</td>\n      <td>VS1</td>\n      <td>56.9</td>\n      <td>65.0</td>\n      <td>327</td>\n      <td>4.05</td>\n      <td>4.07</td>\n      <td>2.31</td>\n    </tr>\n    <tr>\n      <th>4</th>\n      <td>0.29</td>\n      <td>Premium</td>\n      <td>I</td>\n      <td>VS2</td>\n      <td>62.4</td>\n      <td>58.0</td>\n      <td>334</td>\n      <td>4.20</td>\n      <td>4.23</td>\n      <td>2.63</td>\n    </tr>\n    <tr>\n      <th>5</th>\n      <td>0.31</td>\n      <td>Good</td>\n      <td>J</td>\n      <td>SI2</td>\n      <td>63.3</td>\n      <td>58.0</td>\n      <td>335</td>\n      <td>4.34</td>\n      <td>4.35</td>\n      <td>2.75</td>\n    </tr>\n    <tr>\n      <th>6</th>\n      <td>0.24</td>\n      <td>Very Good</td>\n      <td>J</td>\n      <td>VVS2</td>\n      <td>62.8</td>\n      <td>57.0</td>\n      <td>336</td>\n      <td>3.94</td>\n      <td>3.96</td>\n      <td>2.48</td>\n    </tr>\n    <tr>\n      <th>7</th>\n      <td>0.24</td>\n      <td>Very Good</td>\n      <td>I</td>\n      <td>VVS1</td>\n      <td>62.3</td>\n      <td>57.0</td>\n      <td>336</td>\n      <td>3.95</td>\n      <td>3.98</td>\n      <td>2.47</td>\n    </tr>\n  </tbody>\n</table>\n</div>"
     },
     "metadata": {},
     "execution_count": 211
    }
   ],
   "source": [
    "diamonds.head(7)"
   ]
  },
  {
   "source": [
    "### d) Display the last seven rows of the DataFrame."
   ],
   "cell_type": "markdown",
   "metadata": {}
  },
  {
   "cell_type": "code",
   "execution_count": 212,
   "metadata": {},
   "outputs": [
    {
     "output_type": "execute_result",
     "data": {
      "text/plain": [
       "       carat        cut color clarity  depth  table  price     x     y     z\n",
       "53934   0.70  Very Good     E     VS2   61.2   59.0   2757  5.69  5.72  3.49\n",
       "53935   0.72    Premium     D     SI1   62.7   59.0   2757  5.69  5.73  3.58\n",
       "53936   0.72      Ideal     D     SI1   60.8   57.0   2757  5.75  5.76  3.50\n",
       "53937   0.72       Good     D     SI1   63.1   55.0   2757  5.69  5.75  3.61\n",
       "53938   0.70  Very Good     D     SI1   62.8   60.0   2757  5.66  5.68  3.56\n",
       "53939   0.86    Premium     H     SI2   61.0   58.0   2757  6.15  6.12  3.74\n",
       "53940   0.75      Ideal     D     SI2   62.2   55.0   2757  5.83  5.87  3.64"
      ],
      "text/html": "<div>\n<style scoped>\n    .dataframe tbody tr th:only-of-type {\n        vertical-align: middle;\n    }\n\n    .dataframe tbody tr th {\n        vertical-align: top;\n    }\n\n    .dataframe thead th {\n        text-align: right;\n    }\n</style>\n<table border=\"1\" class=\"dataframe\">\n  <thead>\n    <tr style=\"text-align: right;\">\n      <th></th>\n      <th>carat</th>\n      <th>cut</th>\n      <th>color</th>\n      <th>clarity</th>\n      <th>depth</th>\n      <th>table</th>\n      <th>price</th>\n      <th>x</th>\n      <th>y</th>\n      <th>z</th>\n    </tr>\n  </thead>\n  <tbody>\n    <tr>\n      <th>53934</th>\n      <td>0.70</td>\n      <td>Very Good</td>\n      <td>E</td>\n      <td>VS2</td>\n      <td>61.2</td>\n      <td>59.0</td>\n      <td>2757</td>\n      <td>5.69</td>\n      <td>5.72</td>\n      <td>3.49</td>\n    </tr>\n    <tr>\n      <th>53935</th>\n      <td>0.72</td>\n      <td>Premium</td>\n      <td>D</td>\n      <td>SI1</td>\n      <td>62.7</td>\n      <td>59.0</td>\n      <td>2757</td>\n      <td>5.69</td>\n      <td>5.73</td>\n      <td>3.58</td>\n    </tr>\n    <tr>\n      <th>53936</th>\n      <td>0.72</td>\n      <td>Ideal</td>\n      <td>D</td>\n      <td>SI1</td>\n      <td>60.8</td>\n      <td>57.0</td>\n      <td>2757</td>\n      <td>5.75</td>\n      <td>5.76</td>\n      <td>3.50</td>\n    </tr>\n    <tr>\n      <th>53937</th>\n      <td>0.72</td>\n      <td>Good</td>\n      <td>D</td>\n      <td>SI1</td>\n      <td>63.1</td>\n      <td>55.0</td>\n      <td>2757</td>\n      <td>5.69</td>\n      <td>5.75</td>\n      <td>3.61</td>\n    </tr>\n    <tr>\n      <th>53938</th>\n      <td>0.70</td>\n      <td>Very Good</td>\n      <td>D</td>\n      <td>SI1</td>\n      <td>62.8</td>\n      <td>60.0</td>\n      <td>2757</td>\n      <td>5.66</td>\n      <td>5.68</td>\n      <td>3.56</td>\n    </tr>\n    <tr>\n      <th>53939</th>\n      <td>0.86</td>\n      <td>Premium</td>\n      <td>H</td>\n      <td>SI2</td>\n      <td>61.0</td>\n      <td>58.0</td>\n      <td>2757</td>\n      <td>6.15</td>\n      <td>6.12</td>\n      <td>3.74</td>\n    </tr>\n    <tr>\n      <th>53940</th>\n      <td>0.75</td>\n      <td>Ideal</td>\n      <td>D</td>\n      <td>SI2</td>\n      <td>62.2</td>\n      <td>55.0</td>\n      <td>2757</td>\n      <td>5.83</td>\n      <td>5.87</td>\n      <td>3.64</td>\n    </tr>\n  </tbody>\n</table>\n</div>"
     },
     "metadata": {},
     "execution_count": 212
    }
   ],
   "source": [
    "diamonds.tail(7)"
   ]
  },
  {
   "source": [
    "### e) Use the DataFrame method describe (which looks only at the numerical columns) to calculate the descriptive statistics for the numerical columns—carat, depth, table, price, x, y and z."
   ],
   "cell_type": "markdown",
   "metadata": {}
  },
  {
   "cell_type": "code",
   "execution_count": 4,
   "metadata": {},
   "outputs": [
    {
     "output_type": "execute_result",
     "data": {
      "text/plain": [
       "              carat         depth         table         price             x  \\\n",
       "count  53940.000000  53940.000000  53940.000000  53940.000000  53940.000000   \n",
       "mean       0.797940     61.749405     57.457184   3932.799722      5.731157   \n",
       "std        0.474011      1.432621      2.234491   3989.439738      1.121761   \n",
       "min        0.200000     43.000000     43.000000    326.000000      0.000000   \n",
       "25%        0.400000     61.000000     56.000000    950.000000      4.710000   \n",
       "50%        0.700000     61.800000     57.000000   2401.000000      5.700000   \n",
       "75%        1.040000     62.500000     59.000000   5324.250000      6.540000   \n",
       "max        5.010000     79.000000     95.000000  18823.000000     10.740000   \n",
       "\n",
       "                  y             z  \n",
       "count  53940.000000  53940.000000  \n",
       "mean       5.734526      3.538734  \n",
       "std        1.142135      0.705699  \n",
       "min        0.000000      0.000000  \n",
       "25%        4.720000      2.910000  \n",
       "50%        5.710000      3.530000  \n",
       "75%        6.540000      4.040000  \n",
       "max       58.900000     31.800000  "
      ],
      "text/html": "<div>\n<style scoped>\n    .dataframe tbody tr th:only-of-type {\n        vertical-align: middle;\n    }\n\n    .dataframe tbody tr th {\n        vertical-align: top;\n    }\n\n    .dataframe thead th {\n        text-align: right;\n    }\n</style>\n<table border=\"1\" class=\"dataframe\">\n  <thead>\n    <tr style=\"text-align: right;\">\n      <th></th>\n      <th>carat</th>\n      <th>depth</th>\n      <th>table</th>\n      <th>price</th>\n      <th>x</th>\n      <th>y</th>\n      <th>z</th>\n    </tr>\n  </thead>\n  <tbody>\n    <tr>\n      <th>count</th>\n      <td>53940.000000</td>\n      <td>53940.000000</td>\n      <td>53940.000000</td>\n      <td>53940.000000</td>\n      <td>53940.000000</td>\n      <td>53940.000000</td>\n      <td>53940.000000</td>\n    </tr>\n    <tr>\n      <th>mean</th>\n      <td>0.797940</td>\n      <td>61.749405</td>\n      <td>57.457184</td>\n      <td>3932.799722</td>\n      <td>5.731157</td>\n      <td>5.734526</td>\n      <td>3.538734</td>\n    </tr>\n    <tr>\n      <th>std</th>\n      <td>0.474011</td>\n      <td>1.432621</td>\n      <td>2.234491</td>\n      <td>3989.439738</td>\n      <td>1.121761</td>\n      <td>1.142135</td>\n      <td>0.705699</td>\n    </tr>\n    <tr>\n      <th>min</th>\n      <td>0.200000</td>\n      <td>43.000000</td>\n      <td>43.000000</td>\n      <td>326.000000</td>\n      <td>0.000000</td>\n      <td>0.000000</td>\n      <td>0.000000</td>\n    </tr>\n    <tr>\n      <th>25%</th>\n      <td>0.400000</td>\n      <td>61.000000</td>\n      <td>56.000000</td>\n      <td>950.000000</td>\n      <td>4.710000</td>\n      <td>4.720000</td>\n      <td>2.910000</td>\n    </tr>\n    <tr>\n      <th>50%</th>\n      <td>0.700000</td>\n      <td>61.800000</td>\n      <td>57.000000</td>\n      <td>2401.000000</td>\n      <td>5.700000</td>\n      <td>5.710000</td>\n      <td>3.530000</td>\n    </tr>\n    <tr>\n      <th>75%</th>\n      <td>1.040000</td>\n      <td>62.500000</td>\n      <td>59.000000</td>\n      <td>5324.250000</td>\n      <td>6.540000</td>\n      <td>6.540000</td>\n      <td>4.040000</td>\n    </tr>\n    <tr>\n      <th>max</th>\n      <td>5.010000</td>\n      <td>79.000000</td>\n      <td>95.000000</td>\n      <td>18823.000000</td>\n      <td>10.740000</td>\n      <td>58.900000</td>\n      <td>31.800000</td>\n    </tr>\n  </tbody>\n</table>\n</div>"
     },
     "metadata": {},
     "execution_count": 4
    }
   ],
   "source": [
    "diamonds.describe()"
   ]
  },
  {
   "source": [
    "### f) Use Series method describe to calculate the descriptive statistics for the categorical data (text) columns—cut, color and clarity."
   ],
   "cell_type": "markdown",
   "metadata": {}
  },
  {
   "cell_type": "code",
   "execution_count": 214,
   "metadata": {},
   "outputs": [
    {
     "output_type": "execute_result",
     "data": {
      "text/plain": [
       "count     53940\n",
       "unique        5\n",
       "top       Ideal\n",
       "freq      21551\n",
       "Name: cut, dtype: object"
      ]
     },
     "metadata": {},
     "execution_count": 214
    }
   ],
   "source": [
    "diamonds['cut'].describe()"
   ]
  },
  {
   "cell_type": "code",
   "execution_count": 215,
   "metadata": {},
   "outputs": [
    {
     "output_type": "execute_result",
     "data": {
      "text/plain": [
       "count     53940\n",
       "unique        7\n",
       "top           G\n",
       "freq      11292\n",
       "Name: color, dtype: object"
      ]
     },
     "metadata": {},
     "execution_count": 215
    }
   ],
   "source": [
    "diamonds['color'].describe()"
   ]
  },
  {
   "cell_type": "code",
   "execution_count": 216,
   "metadata": {},
   "outputs": [
    {
     "output_type": "execute_result",
     "data": {
      "text/plain": [
       "count     53940\n",
       "unique        8\n",
       "top         SI1\n",
       "freq      13065\n",
       "Name: clarity, dtype: object"
      ]
     },
     "metadata": {},
     "execution_count": 216
    }
   ],
   "source": [
    "diamonds['clarity'].describe()"
   ]
  },
  {
   "source": [
    "### g) What are the unique category values (use the Series method unique)?"
   ],
   "cell_type": "markdown",
   "metadata": {}
  },
  {
   "cell_type": "code",
   "execution_count": 217,
   "metadata": {},
   "outputs": [
    {
     "output_type": "stream",
     "name": "stdout",
     "text": [
      "Cut Categories \n--------------\nIdeal\nPremium\nGood\nVery Good\nFair\n"
     ]
    }
   ],
   "source": [
    "print('Cut Categories \\n--------------')\n",
    "for i in diamonds['cut'].unique():\n",
    "    print(i)"
   ]
  },
  {
   "cell_type": "code",
   "execution_count": 218,
   "metadata": {},
   "outputs": [
    {
     "output_type": "stream",
     "name": "stdout",
     "text": [
      "Color Categories \n----------------\nE\nI\nJ\nH\nF\nG\nD\n"
     ]
    }
   ],
   "source": [
    "print('Color Categories \\n----------------')\n",
    "for i in diamonds['color'].unique():\n",
    "    print(i)"
   ]
  },
  {
   "cell_type": "code",
   "execution_count": 219,
   "metadata": {},
   "outputs": [
    {
     "output_type": "stream",
     "name": "stdout",
     "text": [
      "Clarity Categories \n------------------\nSI2\nSI1\nVS1\nVS2\nVVS2\nVVS1\nI1\nIF\n"
     ]
    }
   ],
   "source": [
    "print('Clarity Categories \\n------------------')\n",
    "for i in diamonds['clarity'].unique():\n",
    "    print(i)"
   ]
  },
  {
   "source": [
    "### h) Pandas has many built-in graphing capabilities. Execute the %matplotlib magic to enable Matplotlib support in IPython. Then, to view histograms of each numerical data column, call your DataFrame’s hist method. The following figure shows the results for the DataFrame’s seven numerical columns:"
   ],
   "cell_type": "markdown",
   "metadata": {}
  },
  {
   "cell_type": "code",
   "execution_count": 14,
   "metadata": {},
   "outputs": [
    {
     "output_type": "execute_result",
     "data": {
      "text/plain": [
       "array([[<matplotlib.axes._subplots.AxesSubplot object at 0x7fda5aab4610>,\n",
       "        <matplotlib.axes._subplots.AxesSubplot object at 0x7fda5aa1dbe0>,\n",
       "        <matplotlib.axes._subplots.AxesSubplot object at 0x7fda5aaf8e50>],\n",
       "       [<matplotlib.axes._subplots.AxesSubplot object at 0x7fda5ab2d610>,\n",
       "        <matplotlib.axes._subplots.AxesSubplot object at 0x7fda5ac63d90>,\n",
       "        <matplotlib.axes._subplots.AxesSubplot object at 0x7fda5ac99490>],\n",
       "       [<matplotlib.axes._subplots.AxesSubplot object at 0x7fda5ac99580>,\n",
       "        <matplotlib.axes._subplots.AxesSubplot object at 0x7fda5acf54c0>,\n",
       "        <matplotlib.axes._subplots.AxesSubplot object at 0x7fda5ad12d00>]],\n",
       "      dtype=object)"
      ]
     },
     "metadata": {},
     "execution_count": 14
    },
    {
     "output_type": "display_data",
     "data": {
      "text/plain": "<Figure size 720x720 with 9 Axes>",
      "image/svg+xml": "<?xml version=\"1.0\" encoding=\"utf-8\" standalone=\"no\"?>\n<!DOCTYPE svg PUBLIC \"-//W3C//DTD SVG 1.1//EN\"\n  \"http://www.w3.org/Graphics/SVG/1.1/DTD/svg11.dtd\">\n<!-- Created with matplotlib (https://matplotlib.org/) -->\n<svg height=\"589.79625pt\" version=\"1.1\" viewBox=\"0 0 613.161124 589.79625\" width=\"613.161124pt\" xmlns=\"http://www.w3.org/2000/svg\" xmlns:xlink=\"http://www.w3.org/1999/xlink\">\n <defs>\n  <style type=\"text/css\">\n*{stroke-linecap:butt;stroke-linejoin:round;}\n  </style>\n </defs>\n <g id=\"figure_1\">\n  <g id=\"patch_1\">\n   <path d=\"M 0 589.79625 \nL 613.161124 589.79625 \nL 613.161124 0 \nL 0 0 \nz\n\" style=\"fill:none;\"/>\n  </g>\n  <g id=\"axes_1\">\n   <g id=\"patch_2\">\n    <path d=\"M 46.0125 173.318125 \nL 201.0125 173.318125 \nL 201.0125 22.318125 \nL 46.0125 22.318125 \nz\n\" style=\"fill:#ffffff;\"/>\n   </g>\n   <g id=\"patch_3\">\n    <path clip-path=\"url(#p1ef3046368)\" d=\"M 53.057955 173.318125 \nL 67.148864 173.318125 \nL 67.148864 29.508601 \nL 53.057955 29.508601 \nz\n\" style=\"fill:#1f77b4;\"/>\n   </g>\n   <g id=\"patch_4\">\n    <path clip-path=\"url(#p1ef3046368)\" d=\"M 67.148864 173.318125 \nL 81.239773 173.318125 \nL 81.239773 66.834476 \nL 67.148864 66.834476 \nz\n\" style=\"fill:#1f77b4;\"/>\n   </g>\n   <g id=\"patch_5\">\n    <path clip-path=\"url(#p1ef3046368)\" d=\"M 81.239773 173.318125 \nL 95.330682 173.318125 \nL 95.330682 132.562089 \nL 81.239773 132.562089 \nz\n\" style=\"fill:#1f77b4;\"/>\n   </g>\n   <g id=\"patch_6\">\n    <path clip-path=\"url(#p1ef3046368)\" d=\"M 95.330682 173.318125 \nL 109.421591 173.318125 \nL 109.421591 159.889042 \nL 95.330682 159.889042 \nz\n\" style=\"fill:#1f77b4;\"/>\n   </g>\n   <g id=\"patch_7\">\n    <path clip-path=\"url(#p1ef3046368)\" d=\"M 109.421591 173.318125 \nL 123.5125 173.318125 \nL 123.5125 169.807926 \nL 109.421591 169.807926 \nz\n\" style=\"fill:#1f77b4;\"/>\n   </g>\n   <g id=\"patch_8\">\n    <path clip-path=\"url(#p1ef3046368)\" d=\"M 123.5125 173.318125 \nL 137.603409 173.318125 \nL 137.603409 173.015127 \nL 123.5125 173.015127 \nz\n\" style=\"fill:#1f77b4;\"/>\n   </g>\n   <g id=\"patch_9\">\n    <path clip-path=\"url(#p1ef3046368)\" d=\"M 137.603409 173.318125 \nL 151.694318 173.318125 \nL 151.694318 173.283823 \nL 137.603409 173.283823 \nz\n\" style=\"fill:#1f77b4;\"/>\n   </g>\n   <g id=\"patch_10\">\n    <path clip-path=\"url(#p1ef3046368)\" d=\"M 151.694318 173.318125 \nL 165.785227 173.318125 \nL 165.785227 173.28954 \nL 151.694318 173.28954 \nz\n\" style=\"fill:#1f77b4;\"/>\n   </g>\n   <g id=\"patch_11\">\n    <path clip-path=\"url(#p1ef3046368)\" d=\"M 165.785227 173.318125 \nL 179.876136 173.318125 \nL 179.876136 173.306691 \nL 165.785227 173.306691 \nz\n\" style=\"fill:#1f77b4;\"/>\n   </g>\n   <g id=\"patch_12\">\n    <path clip-path=\"url(#p1ef3046368)\" d=\"M 179.876136 173.318125 \nL 193.967045 173.318125 \nL 193.967045 173.312408 \nL 179.876136 173.312408 \nz\n\" style=\"fill:#1f77b4;\"/>\n   </g>\n   <g id=\"matplotlib.axis_1\">\n    <g id=\"xtick_1\">\n     <g id=\"line2d_1\">\n      <path clip-path=\"url(#p1ef3046368)\" d=\"M 47.198949 173.318125 \nL 47.198949 22.318125 \n\" style=\"fill:none;stroke:#b0b0b0;stroke-linecap:square;stroke-width:0.8;\"/>\n     </g>\n     <g id=\"line2d_2\">\n      <defs>\n       <path d=\"M 0 0 \nL 0 3.5 \n\" id=\"m9f7086dba9\" style=\"stroke:#000000;stroke-width:0.8;\"/>\n      </defs>\n      <g>\n       <use style=\"stroke:#000000;stroke-width:0.8;\" x=\"47.198949\" xlink:href=\"#m9f7086dba9\" y=\"173.318125\"/>\n      </g>\n     </g>\n     <g id=\"text_1\">\n      <!-- 0 -->\n      <defs>\n       <path d=\"M 31.78125 66.40625 \nQ 24.171875 66.40625 20.328125 58.90625 \nQ 16.5 51.421875 16.5 36.375 \nQ 16.5 21.390625 20.328125 13.890625 \nQ 24.171875 6.390625 31.78125 6.390625 \nQ 39.453125 6.390625 43.28125 13.890625 \nQ 47.125 21.390625 47.125 36.375 \nQ 47.125 51.421875 43.28125 58.90625 \nQ 39.453125 66.40625 31.78125 66.40625 \nz\nM 31.78125 74.21875 \nQ 44.046875 74.21875 50.515625 64.515625 \nQ 56.984375 54.828125 56.984375 36.375 \nQ 56.984375 17.96875 50.515625 8.265625 \nQ 44.046875 -1.421875 31.78125 -1.421875 \nQ 19.53125 -1.421875 13.0625 8.265625 \nQ 6.59375 17.96875 6.59375 36.375 \nQ 6.59375 54.828125 13.0625 64.515625 \nQ 19.53125 74.21875 31.78125 74.21875 \nz\n\" id=\"DejaVuSans-48\"/>\n      </defs>\n      <g transform=\"translate(44.017699 187.916562)scale(0.1 -0.1)\">\n       <use xlink:href=\"#DejaVuSans-48\"/>\n      </g>\n     </g>\n    </g>\n    <g id=\"xtick_2\">\n     <g id=\"line2d_3\">\n      <path clip-path=\"url(#p1ef3046368)\" d=\"M 105.789007 173.318125 \nL 105.789007 22.318125 \n\" style=\"fill:none;stroke:#b0b0b0;stroke-linecap:square;stroke-width:0.8;\"/>\n     </g>\n     <g id=\"line2d_4\">\n      <g>\n       <use style=\"stroke:#000000;stroke-width:0.8;\" x=\"105.789007\" xlink:href=\"#m9f7086dba9\" y=\"173.318125\"/>\n      </g>\n     </g>\n     <g id=\"text_2\">\n      <!-- 2 -->\n      <defs>\n       <path d=\"M 19.1875 8.296875 \nL 53.609375 8.296875 \nL 53.609375 0 \nL 7.328125 0 \nL 7.328125 8.296875 \nQ 12.9375 14.109375 22.625 23.890625 \nQ 32.328125 33.6875 34.8125 36.53125 \nQ 39.546875 41.84375 41.421875 45.53125 \nQ 43.3125 49.21875 43.3125 52.78125 \nQ 43.3125 58.59375 39.234375 62.25 \nQ 35.15625 65.921875 28.609375 65.921875 \nQ 23.96875 65.921875 18.8125 64.3125 \nQ 13.671875 62.703125 7.8125 59.421875 \nL 7.8125 69.390625 \nQ 13.765625 71.78125 18.9375 73 \nQ 24.125 74.21875 28.421875 74.21875 \nQ 39.75 74.21875 46.484375 68.546875 \nQ 53.21875 62.890625 53.21875 53.421875 \nQ 53.21875 48.921875 51.53125 44.890625 \nQ 49.859375 40.875 45.40625 35.40625 \nQ 44.1875 33.984375 37.640625 27.21875 \nQ 31.109375 20.453125 19.1875 8.296875 \nz\n\" id=\"DejaVuSans-50\"/>\n      </defs>\n      <g transform=\"translate(102.607757 187.916562)scale(0.1 -0.1)\">\n       <use xlink:href=\"#DejaVuSans-50\"/>\n      </g>\n     </g>\n    </g>\n    <g id=\"xtick_3\">\n     <g id=\"line2d_5\">\n      <path clip-path=\"url(#p1ef3046368)\" d=\"M 164.379066 173.318125 \nL 164.379066 22.318125 \n\" style=\"fill:none;stroke:#b0b0b0;stroke-linecap:square;stroke-width:0.8;\"/>\n     </g>\n     <g id=\"line2d_6\">\n      <g>\n       <use style=\"stroke:#000000;stroke-width:0.8;\" x=\"164.379066\" xlink:href=\"#m9f7086dba9\" y=\"173.318125\"/>\n      </g>\n     </g>\n     <g id=\"text_3\">\n      <!-- 4 -->\n      <defs>\n       <path d=\"M 37.796875 64.3125 \nL 12.890625 25.390625 \nL 37.796875 25.390625 \nz\nM 35.203125 72.90625 \nL 47.609375 72.90625 \nL 47.609375 25.390625 \nL 58.015625 25.390625 \nL 58.015625 17.1875 \nL 47.609375 17.1875 \nL 47.609375 0 \nL 37.796875 0 \nL 37.796875 17.1875 \nL 4.890625 17.1875 \nL 4.890625 26.703125 \nz\n\" id=\"DejaVuSans-52\"/>\n      </defs>\n      <g transform=\"translate(161.197816 187.916562)scale(0.1 -0.1)\">\n       <use xlink:href=\"#DejaVuSans-52\"/>\n      </g>\n     </g>\n    </g>\n   </g>\n   <g id=\"matplotlib.axis_2\">\n    <g id=\"ytick_1\">\n     <g id=\"line2d_7\">\n      <path clip-path=\"url(#p1ef3046368)\" d=\"M 46.0125 173.318125 \nL 201.0125 173.318125 \n\" style=\"fill:none;stroke:#b0b0b0;stroke-linecap:square;stroke-width:0.8;\"/>\n     </g>\n     <g id=\"line2d_8\">\n      <defs>\n       <path d=\"M 0 0 \nL -3.5 0 \n\" id=\"m4bdbbfc1e2\" style=\"stroke:#000000;stroke-width:0.8;\"/>\n      </defs>\n      <g>\n       <use style=\"stroke:#000000;stroke-width:0.8;\" x=\"46.0125\" xlink:href=\"#m4bdbbfc1e2\" y=\"173.318125\"/>\n      </g>\n     </g>\n     <g id=\"text_4\">\n      <!-- 0 -->\n      <g transform=\"translate(32.65 177.117344)scale(0.1 -0.1)\">\n       <use xlink:href=\"#DejaVuSans-48\"/>\n      </g>\n     </g>\n    </g>\n    <g id=\"ytick_2\">\n     <g id=\"line2d_9\">\n      <path clip-path=\"url(#p1ef3046368)\" d=\"M 46.0125 144.733445 \nL 201.0125 144.733445 \n\" style=\"fill:none;stroke:#b0b0b0;stroke-linecap:square;stroke-width:0.8;\"/>\n     </g>\n     <g id=\"line2d_10\">\n      <g>\n       <use style=\"stroke:#000000;stroke-width:0.8;\" x=\"46.0125\" xlink:href=\"#m4bdbbfc1e2\" y=\"144.733445\"/>\n      </g>\n     </g>\n     <g id=\"text_5\">\n      <!-- 5000 -->\n      <defs>\n       <path d=\"M 10.796875 72.90625 \nL 49.515625 72.90625 \nL 49.515625 64.59375 \nL 19.828125 64.59375 \nL 19.828125 46.734375 \nQ 21.96875 47.46875 24.109375 47.828125 \nQ 26.265625 48.1875 28.421875 48.1875 \nQ 40.625 48.1875 47.75 41.5 \nQ 54.890625 34.8125 54.890625 23.390625 \nQ 54.890625 11.625 47.5625 5.09375 \nQ 40.234375 -1.421875 26.90625 -1.421875 \nQ 22.3125 -1.421875 17.546875 -0.640625 \nQ 12.796875 0.140625 7.71875 1.703125 \nL 7.71875 11.625 \nQ 12.109375 9.234375 16.796875 8.0625 \nQ 21.484375 6.890625 26.703125 6.890625 \nQ 35.15625 6.890625 40.078125 11.328125 \nQ 45.015625 15.765625 45.015625 23.390625 \nQ 45.015625 31 40.078125 35.4375 \nQ 35.15625 39.890625 26.703125 39.890625 \nQ 22.75 39.890625 18.8125 39.015625 \nQ 14.890625 38.140625 10.796875 36.28125 \nz\n\" id=\"DejaVuSans-53\"/>\n      </defs>\n      <g transform=\"translate(13.5625 148.532664)scale(0.1 -0.1)\">\n       <use xlink:href=\"#DejaVuSans-53\"/>\n       <use x=\"63.623047\" xlink:href=\"#DejaVuSans-48\"/>\n       <use x=\"127.246094\" xlink:href=\"#DejaVuSans-48\"/>\n       <use x=\"190.869141\" xlink:href=\"#DejaVuSans-48\"/>\n      </g>\n     </g>\n    </g>\n    <g id=\"ytick_3\">\n     <g id=\"line2d_11\">\n      <path clip-path=\"url(#p1ef3046368)\" d=\"M 46.0125 116.148766 \nL 201.0125 116.148766 \n\" style=\"fill:none;stroke:#b0b0b0;stroke-linecap:square;stroke-width:0.8;\"/>\n     </g>\n     <g id=\"line2d_12\">\n      <g>\n       <use style=\"stroke:#000000;stroke-width:0.8;\" x=\"46.0125\" xlink:href=\"#m4bdbbfc1e2\" y=\"116.148766\"/>\n      </g>\n     </g>\n     <g id=\"text_6\">\n      <!-- 10000 -->\n      <defs>\n       <path d=\"M 12.40625 8.296875 \nL 28.515625 8.296875 \nL 28.515625 63.921875 \nL 10.984375 60.40625 \nL 10.984375 69.390625 \nL 28.421875 72.90625 \nL 38.28125 72.90625 \nL 38.28125 8.296875 \nL 54.390625 8.296875 \nL 54.390625 0 \nL 12.40625 0 \nz\n\" id=\"DejaVuSans-49\"/>\n      </defs>\n      <g transform=\"translate(7.2 119.947984)scale(0.1 -0.1)\">\n       <use xlink:href=\"#DejaVuSans-49\"/>\n       <use x=\"63.623047\" xlink:href=\"#DejaVuSans-48\"/>\n       <use x=\"127.246094\" xlink:href=\"#DejaVuSans-48\"/>\n       <use x=\"190.869141\" xlink:href=\"#DejaVuSans-48\"/>\n       <use x=\"254.492188\" xlink:href=\"#DejaVuSans-48\"/>\n      </g>\n     </g>\n    </g>\n    <g id=\"ytick_4\">\n     <g id=\"line2d_13\">\n      <path clip-path=\"url(#p1ef3046368)\" d=\"M 46.0125 87.564086 \nL 201.0125 87.564086 \n\" style=\"fill:none;stroke:#b0b0b0;stroke-linecap:square;stroke-width:0.8;\"/>\n     </g>\n     <g id=\"line2d_14\">\n      <g>\n       <use style=\"stroke:#000000;stroke-width:0.8;\" x=\"46.0125\" xlink:href=\"#m4bdbbfc1e2\" y=\"87.564086\"/>\n      </g>\n     </g>\n     <g id=\"text_7\">\n      <!-- 15000 -->\n      <g transform=\"translate(7.2 91.363305)scale(0.1 -0.1)\">\n       <use xlink:href=\"#DejaVuSans-49\"/>\n       <use x=\"63.623047\" xlink:href=\"#DejaVuSans-53\"/>\n       <use x=\"127.246094\" xlink:href=\"#DejaVuSans-48\"/>\n       <use x=\"190.869141\" xlink:href=\"#DejaVuSans-48\"/>\n       <use x=\"254.492188\" xlink:href=\"#DejaVuSans-48\"/>\n      </g>\n     </g>\n    </g>\n    <g id=\"ytick_5\">\n     <g id=\"line2d_15\">\n      <path clip-path=\"url(#p1ef3046368)\" d=\"M 46.0125 58.979406 \nL 201.0125 58.979406 \n\" style=\"fill:none;stroke:#b0b0b0;stroke-linecap:square;stroke-width:0.8;\"/>\n     </g>\n     <g id=\"line2d_16\">\n      <g>\n       <use style=\"stroke:#000000;stroke-width:0.8;\" x=\"46.0125\" xlink:href=\"#m4bdbbfc1e2\" y=\"58.979406\"/>\n      </g>\n     </g>\n     <g id=\"text_8\">\n      <!-- 20000 -->\n      <g transform=\"translate(7.2 62.778625)scale(0.1 -0.1)\">\n       <use xlink:href=\"#DejaVuSans-50\"/>\n       <use x=\"63.623047\" xlink:href=\"#DejaVuSans-48\"/>\n       <use x=\"127.246094\" xlink:href=\"#DejaVuSans-48\"/>\n       <use x=\"190.869141\" xlink:href=\"#DejaVuSans-48\"/>\n       <use x=\"254.492188\" xlink:href=\"#DejaVuSans-48\"/>\n      </g>\n     </g>\n    </g>\n    <g id=\"ytick_6\">\n     <g id=\"line2d_17\">\n      <path clip-path=\"url(#p1ef3046368)\" d=\"M 46.0125 30.394726 \nL 201.0125 30.394726 \n\" style=\"fill:none;stroke:#b0b0b0;stroke-linecap:square;stroke-width:0.8;\"/>\n     </g>\n     <g id=\"line2d_18\">\n      <g>\n       <use style=\"stroke:#000000;stroke-width:0.8;\" x=\"46.0125\" xlink:href=\"#m4bdbbfc1e2\" y=\"30.394726\"/>\n      </g>\n     </g>\n     <g id=\"text_9\">\n      <!-- 25000 -->\n      <g transform=\"translate(7.2 34.193945)scale(0.1 -0.1)\">\n       <use xlink:href=\"#DejaVuSans-50\"/>\n       <use x=\"63.623047\" xlink:href=\"#DejaVuSans-53\"/>\n       <use x=\"127.246094\" xlink:href=\"#DejaVuSans-48\"/>\n       <use x=\"190.869141\" xlink:href=\"#DejaVuSans-48\"/>\n       <use x=\"254.492188\" xlink:href=\"#DejaVuSans-48\"/>\n      </g>\n     </g>\n    </g>\n   </g>\n   <g id=\"patch_13\">\n    <path d=\"M 46.0125 173.318125 \nL 46.0125 22.318125 \n\" style=\"fill:none;stroke:#000000;stroke-linecap:square;stroke-linejoin:miter;stroke-width:0.8;\"/>\n   </g>\n   <g id=\"patch_14\">\n    <path d=\"M 201.0125 173.318125 \nL 201.0125 22.318125 \n\" style=\"fill:none;stroke:#000000;stroke-linecap:square;stroke-linejoin:miter;stroke-width:0.8;\"/>\n   </g>\n   <g id=\"patch_15\">\n    <path d=\"M 46.0125 173.318125 \nL 201.0125 173.318125 \n\" style=\"fill:none;stroke:#000000;stroke-linecap:square;stroke-linejoin:miter;stroke-width:0.8;\"/>\n   </g>\n   <g id=\"patch_16\">\n    <path d=\"M 46.0125 22.318125 \nL 201.0125 22.318125 \n\" style=\"fill:none;stroke:#000000;stroke-linecap:square;stroke-linejoin:miter;stroke-width:0.8;\"/>\n   </g>\n   <g id=\"text_10\">\n    <!-- carat -->\n    <defs>\n     <path d=\"M 48.78125 52.59375 \nL 48.78125 44.1875 \nQ 44.96875 46.296875 41.140625 47.34375 \nQ 37.3125 48.390625 33.40625 48.390625 \nQ 24.65625 48.390625 19.8125 42.84375 \nQ 14.984375 37.3125 14.984375 27.296875 \nQ 14.984375 17.28125 19.8125 11.734375 \nQ 24.65625 6.203125 33.40625 6.203125 \nQ 37.3125 6.203125 41.140625 7.25 \nQ 44.96875 8.296875 48.78125 10.40625 \nL 48.78125 2.09375 \nQ 45.015625 0.34375 40.984375 -0.53125 \nQ 36.96875 -1.421875 32.421875 -1.421875 \nQ 20.0625 -1.421875 12.78125 6.34375 \nQ 5.515625 14.109375 5.515625 27.296875 \nQ 5.515625 40.671875 12.859375 48.328125 \nQ 20.21875 56 33.015625 56 \nQ 37.15625 56 41.109375 55.140625 \nQ 45.0625 54.296875 48.78125 52.59375 \nz\n\" id=\"DejaVuSans-99\"/>\n     <path d=\"M 34.28125 27.484375 \nQ 23.390625 27.484375 19.1875 25 \nQ 14.984375 22.515625 14.984375 16.5 \nQ 14.984375 11.71875 18.140625 8.90625 \nQ 21.296875 6.109375 26.703125 6.109375 \nQ 34.1875 6.109375 38.703125 11.40625 \nQ 43.21875 16.703125 43.21875 25.484375 \nL 43.21875 27.484375 \nz\nM 52.203125 31.203125 \nL 52.203125 0 \nL 43.21875 0 \nL 43.21875 8.296875 \nQ 40.140625 3.328125 35.546875 0.953125 \nQ 30.953125 -1.421875 24.3125 -1.421875 \nQ 15.921875 -1.421875 10.953125 3.296875 \nQ 6 8.015625 6 15.921875 \nQ 6 25.140625 12.171875 29.828125 \nQ 18.359375 34.515625 30.609375 34.515625 \nL 43.21875 34.515625 \nL 43.21875 35.40625 \nQ 43.21875 41.609375 39.140625 45 \nQ 35.0625 48.390625 27.6875 48.390625 \nQ 23 48.390625 18.546875 47.265625 \nQ 14.109375 46.140625 10.015625 43.890625 \nL 10.015625 52.203125 \nQ 14.9375 54.109375 19.578125 55.046875 \nQ 24.21875 56 28.609375 56 \nQ 40.484375 56 46.34375 49.84375 \nQ 52.203125 43.703125 52.203125 31.203125 \nz\n\" id=\"DejaVuSans-97\"/>\n     <path d=\"M 41.109375 46.296875 \nQ 39.59375 47.171875 37.8125 47.578125 \nQ 36.03125 48 33.890625 48 \nQ 26.265625 48 22.1875 43.046875 \nQ 18.109375 38.09375 18.109375 28.8125 \nL 18.109375 0 \nL 9.078125 0 \nL 9.078125 54.6875 \nL 18.109375 54.6875 \nL 18.109375 46.1875 \nQ 20.953125 51.171875 25.484375 53.578125 \nQ 30.03125 56 36.53125 56 \nQ 37.453125 56 38.578125 55.875 \nQ 39.703125 55.765625 41.0625 55.515625 \nz\n\" id=\"DejaVuSans-114\"/>\n     <path d=\"M 18.3125 70.21875 \nL 18.3125 54.6875 \nL 36.8125 54.6875 \nL 36.8125 47.703125 \nL 18.3125 47.703125 \nL 18.3125 18.015625 \nQ 18.3125 11.328125 20.140625 9.421875 \nQ 21.96875 7.515625 27.59375 7.515625 \nL 36.8125 7.515625 \nL 36.8125 0 \nL 27.59375 0 \nQ 17.1875 0 13.234375 3.875 \nQ 9.28125 7.765625 9.28125 18.015625 \nL 9.28125 47.703125 \nL 2.6875 47.703125 \nL 2.6875 54.6875 \nL 9.28125 54.6875 \nL 9.28125 70.21875 \nz\n\" id=\"DejaVuSans-116\"/>\n    </defs>\n    <g transform=\"translate(108.040937 16.318125)scale(0.12 -0.12)\">\n     <use xlink:href=\"#DejaVuSans-99\"/>\n     <use x=\"54.980469\" xlink:href=\"#DejaVuSans-97\"/>\n     <use x=\"116.259766\" xlink:href=\"#DejaVuSans-114\"/>\n     <use x=\"157.373047\" xlink:href=\"#DejaVuSans-97\"/>\n     <use x=\"218.652344\" xlink:href=\"#DejaVuSans-116\"/>\n    </g>\n   </g>\n  </g>\n  <g id=\"axes_2\">\n   <g id=\"patch_17\">\n    <path d=\"M 247.5125 173.318125 \nL 402.5125 173.318125 \nL 402.5125 22.318125 \nL 247.5125 22.318125 \nz\n\" style=\"fill:#ffffff;\"/>\n   </g>\n   <g id=\"patch_18\">\n    <path clip-path=\"url(#p4b527f4ca6)\" d=\"M 254.557955 173.318125 \nL 268.648864 173.318125 \nL 268.648864 173.307436 \nL 254.557955 173.307436 \nz\n\" style=\"fill:#1f77b4;\"/>\n   </g>\n   <g id=\"patch_19\">\n    <path clip-path=\"url(#p4b527f4ca6)\" d=\"M 268.648864 173.318125 \nL 282.739773 173.318125 \nL 282.739773 173.318125 \nL 268.648864 173.318125 \nz\n\" style=\"fill:#1f77b4;\"/>\n   </g>\n   <g id=\"patch_20\">\n    <path clip-path=\"url(#p4b527f4ca6)\" d=\"M 282.739773 173.318125 \nL 296.830682 173.318125 \nL 296.830682 173.278933 \nL 282.739773 173.278933 \nz\n\" style=\"fill:#1f77b4;\"/>\n   </g>\n   <g id=\"patch_21\">\n    <path clip-path=\"url(#p4b527f4ca6)\" d=\"M 296.830682 173.318125 \nL 310.921591 173.318125 \nL 310.921591 172.363267 \nL 296.830682 172.363267 \nz\n\" style=\"fill:#1f77b4;\"/>\n   </g>\n   <g id=\"patch_22\">\n    <path clip-path=\"url(#p4b527f4ca6)\" d=\"M 310.921591 173.318125 \nL 325.0125 173.318125 \nL 325.0125 130.285362 \nL 310.921591 130.285362 \nz\n\" style=\"fill:#1f77b4;\"/>\n   </g>\n   <g id=\"patch_23\">\n    <path clip-path=\"url(#p4b527f4ca6)\" d=\"M 325.0125 173.318125 \nL 339.103409 173.318125 \nL 339.103409 29.508601 \nL 325.0125 29.508601 \nz\n\" style=\"fill:#1f77b4;\"/>\n   </g>\n   <g id=\"patch_24\">\n    <path clip-path=\"url(#p4b527f4ca6)\" d=\"M 339.103409 173.318125 \nL 353.194318 173.318125 \nL 353.194318 169.284917 \nL 339.103409 169.284917 \nz\n\" style=\"fill:#1f77b4;\"/>\n   </g>\n   <g id=\"patch_25\">\n    <path clip-path=\"url(#p4b527f4ca6)\" d=\"M 353.194318 173.318125 \nL 367.285227 173.318125 \nL 367.285227 173.040218 \nL 353.194318 173.040218 \nz\n\" style=\"fill:#1f77b4;\"/>\n   </g>\n   <g id=\"patch_26\">\n    <path clip-path=\"url(#p4b527f4ca6)\" d=\"M 367.285227 173.318125 \nL 381.376136 173.318125 \nL 381.376136 173.303873 \nL 367.285227 173.303873 \nz\n\" style=\"fill:#1f77b4;\"/>\n   </g>\n   <g id=\"patch_27\">\n    <path clip-path=\"url(#p4b527f4ca6)\" d=\"M 381.376136 173.318125 \nL 395.467045 173.318125 \nL 395.467045 173.307436 \nL 381.376136 173.307436 \nz\n\" style=\"fill:#1f77b4;\"/>\n   </g>\n   <g id=\"matplotlib.axis_3\">\n    <g id=\"xtick_4\">\n     <g id=\"line2d_19\">\n      <path clip-path=\"url(#p4b527f4ca6)\" d=\"M 281.956944 173.318125 \nL 281.956944 22.318125 \n\" style=\"fill:none;stroke:#b0b0b0;stroke-linecap:square;stroke-width:0.8;\"/>\n     </g>\n     <g id=\"line2d_20\">\n      <g>\n       <use style=\"stroke:#000000;stroke-width:0.8;\" x=\"281.956944\" xlink:href=\"#m9f7086dba9\" y=\"173.318125\"/>\n      </g>\n     </g>\n     <g id=\"text_11\">\n      <!-- 50 -->\n      <g transform=\"translate(275.594444 187.916562)scale(0.1 -0.1)\">\n       <use xlink:href=\"#DejaVuSans-53\"/>\n       <use x=\"63.623047\" xlink:href=\"#DejaVuSans-48\"/>\n      </g>\n     </g>\n    </g>\n    <g id=\"xtick_5\">\n     <g id=\"line2d_21\">\n      <path clip-path=\"url(#p4b527f4ca6)\" d=\"M 321.098359 173.318125 \nL 321.098359 22.318125 \n\" style=\"fill:none;stroke:#b0b0b0;stroke-linecap:square;stroke-width:0.8;\"/>\n     </g>\n     <g id=\"line2d_22\">\n      <g>\n       <use style=\"stroke:#000000;stroke-width:0.8;\" x=\"321.098359\" xlink:href=\"#m9f7086dba9\" y=\"173.318125\"/>\n      </g>\n     </g>\n     <g id=\"text_12\">\n      <!-- 60 -->\n      <defs>\n       <path d=\"M 33.015625 40.375 \nQ 26.375 40.375 22.484375 35.828125 \nQ 18.609375 31.296875 18.609375 23.390625 \nQ 18.609375 15.53125 22.484375 10.953125 \nQ 26.375 6.390625 33.015625 6.390625 \nQ 39.65625 6.390625 43.53125 10.953125 \nQ 47.40625 15.53125 47.40625 23.390625 \nQ 47.40625 31.296875 43.53125 35.828125 \nQ 39.65625 40.375 33.015625 40.375 \nz\nM 52.59375 71.296875 \nL 52.59375 62.3125 \nQ 48.875 64.0625 45.09375 64.984375 \nQ 41.3125 65.921875 37.59375 65.921875 \nQ 27.828125 65.921875 22.671875 59.328125 \nQ 17.53125 52.734375 16.796875 39.40625 \nQ 19.671875 43.65625 24.015625 45.921875 \nQ 28.375 48.1875 33.59375 48.1875 \nQ 44.578125 48.1875 50.953125 41.515625 \nQ 57.328125 34.859375 57.328125 23.390625 \nQ 57.328125 12.15625 50.6875 5.359375 \nQ 44.046875 -1.421875 33.015625 -1.421875 \nQ 20.359375 -1.421875 13.671875 8.265625 \nQ 6.984375 17.96875 6.984375 36.375 \nQ 6.984375 53.65625 15.1875 63.9375 \nQ 23.390625 74.21875 37.203125 74.21875 \nQ 40.921875 74.21875 44.703125 73.484375 \nQ 48.484375 72.75 52.59375 71.296875 \nz\n\" id=\"DejaVuSans-54\"/>\n      </defs>\n      <g transform=\"translate(314.735859 187.916562)scale(0.1 -0.1)\">\n       <use xlink:href=\"#DejaVuSans-54\"/>\n       <use x=\"63.623047\" xlink:href=\"#DejaVuSans-48\"/>\n      </g>\n     </g>\n    </g>\n    <g id=\"xtick_6\">\n     <g id=\"line2d_23\">\n      <path clip-path=\"url(#p4b527f4ca6)\" d=\"M 360.239773 173.318125 \nL 360.239773 22.318125 \n\" style=\"fill:none;stroke:#b0b0b0;stroke-linecap:square;stroke-width:0.8;\"/>\n     </g>\n     <g id=\"line2d_24\">\n      <g>\n       <use style=\"stroke:#000000;stroke-width:0.8;\" x=\"360.239773\" xlink:href=\"#m9f7086dba9\" y=\"173.318125\"/>\n      </g>\n     </g>\n     <g id=\"text_13\">\n      <!-- 70 -->\n      <defs>\n       <path d=\"M 8.203125 72.90625 \nL 55.078125 72.90625 \nL 55.078125 68.703125 \nL 28.609375 0 \nL 18.3125 0 \nL 43.21875 64.59375 \nL 8.203125 64.59375 \nz\n\" id=\"DejaVuSans-55\"/>\n      </defs>\n      <g transform=\"translate(353.877273 187.916562)scale(0.1 -0.1)\">\n       <use xlink:href=\"#DejaVuSans-55\"/>\n       <use x=\"63.623047\" xlink:href=\"#DejaVuSans-48\"/>\n      </g>\n     </g>\n    </g>\n    <g id=\"xtick_7\">\n     <g id=\"line2d_25\">\n      <path clip-path=\"url(#p4b527f4ca6)\" d=\"M 399.381187 173.318125 \nL 399.381187 22.318125 \n\" style=\"fill:none;stroke:#b0b0b0;stroke-linecap:square;stroke-width:0.8;\"/>\n     </g>\n     <g id=\"line2d_26\">\n      <g>\n       <use style=\"stroke:#000000;stroke-width:0.8;\" x=\"399.381187\" xlink:href=\"#m9f7086dba9\" y=\"173.318125\"/>\n      </g>\n     </g>\n     <g id=\"text_14\">\n      <!-- 80 -->\n      <defs>\n       <path d=\"M 31.78125 34.625 \nQ 24.75 34.625 20.71875 30.859375 \nQ 16.703125 27.09375 16.703125 20.515625 \nQ 16.703125 13.921875 20.71875 10.15625 \nQ 24.75 6.390625 31.78125 6.390625 \nQ 38.8125 6.390625 42.859375 10.171875 \nQ 46.921875 13.96875 46.921875 20.515625 \nQ 46.921875 27.09375 42.890625 30.859375 \nQ 38.875 34.625 31.78125 34.625 \nz\nM 21.921875 38.8125 \nQ 15.578125 40.375 12.03125 44.71875 \nQ 8.5 49.078125 8.5 55.328125 \nQ 8.5 64.0625 14.71875 69.140625 \nQ 20.953125 74.21875 31.78125 74.21875 \nQ 42.671875 74.21875 48.875 69.140625 \nQ 55.078125 64.0625 55.078125 55.328125 \nQ 55.078125 49.078125 51.53125 44.71875 \nQ 48 40.375 41.703125 38.8125 \nQ 48.828125 37.15625 52.796875 32.3125 \nQ 56.78125 27.484375 56.78125 20.515625 \nQ 56.78125 9.90625 50.3125 4.234375 \nQ 43.84375 -1.421875 31.78125 -1.421875 \nQ 19.734375 -1.421875 13.25 4.234375 \nQ 6.78125 9.90625 6.78125 20.515625 \nQ 6.78125 27.484375 10.78125 32.3125 \nQ 14.796875 37.15625 21.921875 38.8125 \nz\nM 18.3125 54.390625 \nQ 18.3125 48.734375 21.84375 45.5625 \nQ 25.390625 42.390625 31.78125 42.390625 \nQ 38.140625 42.390625 41.71875 45.5625 \nQ 45.3125 48.734375 45.3125 54.390625 \nQ 45.3125 60.0625 41.71875 63.234375 \nQ 38.140625 66.40625 31.78125 66.40625 \nQ 25.390625 66.40625 21.84375 63.234375 \nQ 18.3125 60.0625 18.3125 54.390625 \nz\n\" id=\"DejaVuSans-56\"/>\n      </defs>\n      <g transform=\"translate(393.018687 187.916562)scale(0.1 -0.1)\">\n       <use xlink:href=\"#DejaVuSans-56\"/>\n       <use x=\"63.623047\" xlink:href=\"#DejaVuSans-48\"/>\n      </g>\n     </g>\n    </g>\n   </g>\n   <g id=\"matplotlib.axis_4\">\n    <g id=\"ytick_7\">\n     <g id=\"line2d_27\">\n      <path clip-path=\"url(#p4b527f4ca6)\" d=\"M 247.5125 173.318125 \nL 402.5125 173.318125 \n\" style=\"fill:none;stroke:#b0b0b0;stroke-linecap:square;stroke-width:0.8;\"/>\n     </g>\n     <g id=\"line2d_28\">\n      <g>\n       <use style=\"stroke:#000000;stroke-width:0.8;\" x=\"247.5125\" xlink:href=\"#m4bdbbfc1e2\" y=\"173.318125\"/>\n      </g>\n     </g>\n     <g id=\"text_15\">\n      <!-- 0 -->\n      <g transform=\"translate(234.15 177.117344)scale(0.1 -0.1)\">\n       <use xlink:href=\"#DejaVuSans-48\"/>\n      </g>\n     </g>\n    </g>\n    <g id=\"ytick_8\">\n     <g id=\"line2d_29\">\n      <path clip-path=\"url(#p4b527f4ca6)\" d=\"M 247.5125 137.689078 \nL 402.5125 137.689078 \n\" style=\"fill:none;stroke:#b0b0b0;stroke-linecap:square;stroke-width:0.8;\"/>\n     </g>\n     <g id=\"line2d_30\">\n      <g>\n       <use style=\"stroke:#000000;stroke-width:0.8;\" x=\"247.5125\" xlink:href=\"#m4bdbbfc1e2\" y=\"137.689078\"/>\n      </g>\n     </g>\n     <g id=\"text_16\">\n      <!-- 10000 -->\n      <g transform=\"translate(208.7 141.488296)scale(0.1 -0.1)\">\n       <use xlink:href=\"#DejaVuSans-49\"/>\n       <use x=\"63.623047\" xlink:href=\"#DejaVuSans-48\"/>\n       <use x=\"127.246094\" xlink:href=\"#DejaVuSans-48\"/>\n       <use x=\"190.869141\" xlink:href=\"#DejaVuSans-48\"/>\n       <use x=\"254.492188\" xlink:href=\"#DejaVuSans-48\"/>\n      </g>\n     </g>\n    </g>\n    <g id=\"ytick_9\">\n     <g id=\"line2d_31\">\n      <path clip-path=\"url(#p4b527f4ca6)\" d=\"M 247.5125 102.06003 \nL 402.5125 102.06003 \n\" style=\"fill:none;stroke:#b0b0b0;stroke-linecap:square;stroke-width:0.8;\"/>\n     </g>\n     <g id=\"line2d_32\">\n      <g>\n       <use style=\"stroke:#000000;stroke-width:0.8;\" x=\"247.5125\" xlink:href=\"#m4bdbbfc1e2\" y=\"102.06003\"/>\n      </g>\n     </g>\n     <g id=\"text_17\">\n      <!-- 20000 -->\n      <g transform=\"translate(208.7 105.859249)scale(0.1 -0.1)\">\n       <use xlink:href=\"#DejaVuSans-50\"/>\n       <use x=\"63.623047\" xlink:href=\"#DejaVuSans-48\"/>\n       <use x=\"127.246094\" xlink:href=\"#DejaVuSans-48\"/>\n       <use x=\"190.869141\" xlink:href=\"#DejaVuSans-48\"/>\n       <use x=\"254.492188\" xlink:href=\"#DejaVuSans-48\"/>\n      </g>\n     </g>\n    </g>\n    <g id=\"ytick_10\">\n     <g id=\"line2d_33\">\n      <path clip-path=\"url(#p4b527f4ca6)\" d=\"M 247.5125 66.430983 \nL 402.5125 66.430983 \n\" style=\"fill:none;stroke:#b0b0b0;stroke-linecap:square;stroke-width:0.8;\"/>\n     </g>\n     <g id=\"line2d_34\">\n      <g>\n       <use style=\"stroke:#000000;stroke-width:0.8;\" x=\"247.5125\" xlink:href=\"#m4bdbbfc1e2\" y=\"66.430983\"/>\n      </g>\n     </g>\n     <g id=\"text_18\">\n      <!-- 30000 -->\n      <defs>\n       <path d=\"M 40.578125 39.3125 \nQ 47.65625 37.796875 51.625 33 \nQ 55.609375 28.21875 55.609375 21.1875 \nQ 55.609375 10.40625 48.1875 4.484375 \nQ 40.765625 -1.421875 27.09375 -1.421875 \nQ 22.515625 -1.421875 17.65625 -0.515625 \nQ 12.796875 0.390625 7.625 2.203125 \nL 7.625 11.71875 \nQ 11.71875 9.328125 16.59375 8.109375 \nQ 21.484375 6.890625 26.8125 6.890625 \nQ 36.078125 6.890625 40.9375 10.546875 \nQ 45.796875 14.203125 45.796875 21.1875 \nQ 45.796875 27.640625 41.28125 31.265625 \nQ 36.765625 34.90625 28.71875 34.90625 \nL 20.21875 34.90625 \nL 20.21875 43.015625 \nL 29.109375 43.015625 \nQ 36.375 43.015625 40.234375 45.921875 \nQ 44.09375 48.828125 44.09375 54.296875 \nQ 44.09375 59.90625 40.109375 62.90625 \nQ 36.140625 65.921875 28.71875 65.921875 \nQ 24.65625 65.921875 20.015625 65.03125 \nQ 15.375 64.15625 9.8125 62.3125 \nL 9.8125 71.09375 \nQ 15.4375 72.65625 20.34375 73.4375 \nQ 25.25 74.21875 29.59375 74.21875 \nQ 40.828125 74.21875 47.359375 69.109375 \nQ 53.90625 64.015625 53.90625 55.328125 \nQ 53.90625 49.265625 50.4375 45.09375 \nQ 46.96875 40.921875 40.578125 39.3125 \nz\n\" id=\"DejaVuSans-51\"/>\n      </defs>\n      <g transform=\"translate(208.7 70.230202)scale(0.1 -0.1)\">\n       <use xlink:href=\"#DejaVuSans-51\"/>\n       <use x=\"63.623047\" xlink:href=\"#DejaVuSans-48\"/>\n       <use x=\"127.246094\" xlink:href=\"#DejaVuSans-48\"/>\n       <use x=\"190.869141\" xlink:href=\"#DejaVuSans-48\"/>\n       <use x=\"254.492188\" xlink:href=\"#DejaVuSans-48\"/>\n      </g>\n     </g>\n    </g>\n    <g id=\"ytick_11\">\n     <g id=\"line2d_35\">\n      <path clip-path=\"url(#p4b527f4ca6)\" d=\"M 247.5125 30.801936 \nL 402.5125 30.801936 \n\" style=\"fill:none;stroke:#b0b0b0;stroke-linecap:square;stroke-width:0.8;\"/>\n     </g>\n     <g id=\"line2d_36\">\n      <g>\n       <use style=\"stroke:#000000;stroke-width:0.8;\" x=\"247.5125\" xlink:href=\"#m4bdbbfc1e2\" y=\"30.801936\"/>\n      </g>\n     </g>\n     <g id=\"text_19\">\n      <!-- 40000 -->\n      <g transform=\"translate(208.7 34.601154)scale(0.1 -0.1)\">\n       <use xlink:href=\"#DejaVuSans-52\"/>\n       <use x=\"63.623047\" xlink:href=\"#DejaVuSans-48\"/>\n       <use x=\"127.246094\" xlink:href=\"#DejaVuSans-48\"/>\n       <use x=\"190.869141\" xlink:href=\"#DejaVuSans-48\"/>\n       <use x=\"254.492188\" xlink:href=\"#DejaVuSans-48\"/>\n      </g>\n     </g>\n    </g>\n   </g>\n   <g id=\"patch_28\">\n    <path d=\"M 247.5125 173.318125 \nL 247.5125 22.318125 \n\" style=\"fill:none;stroke:#000000;stroke-linecap:square;stroke-linejoin:miter;stroke-width:0.8;\"/>\n   </g>\n   <g id=\"patch_29\">\n    <path d=\"M 402.5125 173.318125 \nL 402.5125 22.318125 \n\" style=\"fill:none;stroke:#000000;stroke-linecap:square;stroke-linejoin:miter;stroke-width:0.8;\"/>\n   </g>\n   <g id=\"patch_30\">\n    <path d=\"M 247.5125 173.318125 \nL 402.5125 173.318125 \n\" style=\"fill:none;stroke:#000000;stroke-linecap:square;stroke-linejoin:miter;stroke-width:0.8;\"/>\n   </g>\n   <g id=\"patch_31\">\n    <path d=\"M 247.5125 22.318125 \nL 402.5125 22.318125 \n\" style=\"fill:none;stroke:#000000;stroke-linecap:square;stroke-linejoin:miter;stroke-width:0.8;\"/>\n   </g>\n   <g id=\"text_20\">\n    <!-- depth -->\n    <defs>\n     <path d=\"M 45.40625 46.390625 \nL 45.40625 75.984375 \nL 54.390625 75.984375 \nL 54.390625 0 \nL 45.40625 0 \nL 45.40625 8.203125 \nQ 42.578125 3.328125 38.25 0.953125 \nQ 33.9375 -1.421875 27.875 -1.421875 \nQ 17.96875 -1.421875 11.734375 6.484375 \nQ 5.515625 14.40625 5.515625 27.296875 \nQ 5.515625 40.1875 11.734375 48.09375 \nQ 17.96875 56 27.875 56 \nQ 33.9375 56 38.25 53.625 \nQ 42.578125 51.265625 45.40625 46.390625 \nz\nM 14.796875 27.296875 \nQ 14.796875 17.390625 18.875 11.75 \nQ 22.953125 6.109375 30.078125 6.109375 \nQ 37.203125 6.109375 41.296875 11.75 \nQ 45.40625 17.390625 45.40625 27.296875 \nQ 45.40625 37.203125 41.296875 42.84375 \nQ 37.203125 48.484375 30.078125 48.484375 \nQ 22.953125 48.484375 18.875 42.84375 \nQ 14.796875 37.203125 14.796875 27.296875 \nz\n\" id=\"DejaVuSans-100\"/>\n     <path d=\"M 56.203125 29.59375 \nL 56.203125 25.203125 \nL 14.890625 25.203125 \nQ 15.484375 15.921875 20.484375 11.0625 \nQ 25.484375 6.203125 34.421875 6.203125 \nQ 39.59375 6.203125 44.453125 7.46875 \nQ 49.3125 8.734375 54.109375 11.28125 \nL 54.109375 2.78125 \nQ 49.265625 0.734375 44.1875 -0.34375 \nQ 39.109375 -1.421875 33.890625 -1.421875 \nQ 20.796875 -1.421875 13.15625 6.1875 \nQ 5.515625 13.8125 5.515625 26.8125 \nQ 5.515625 40.234375 12.765625 48.109375 \nQ 20.015625 56 32.328125 56 \nQ 43.359375 56 49.78125 48.890625 \nQ 56.203125 41.796875 56.203125 29.59375 \nz\nM 47.21875 32.234375 \nQ 47.125 39.59375 43.09375 43.984375 \nQ 39.0625 48.390625 32.421875 48.390625 \nQ 24.90625 48.390625 20.390625 44.140625 \nQ 15.875 39.890625 15.1875 32.171875 \nz\n\" id=\"DejaVuSans-101\"/>\n     <path d=\"M 18.109375 8.203125 \nL 18.109375 -20.796875 \nL 9.078125 -20.796875 \nL 9.078125 54.6875 \nL 18.109375 54.6875 \nL 18.109375 46.390625 \nQ 20.953125 51.265625 25.265625 53.625 \nQ 29.59375 56 35.59375 56 \nQ 45.5625 56 51.78125 48.09375 \nQ 58.015625 40.1875 58.015625 27.296875 \nQ 58.015625 14.40625 51.78125 6.484375 \nQ 45.5625 -1.421875 35.59375 -1.421875 \nQ 29.59375 -1.421875 25.265625 0.953125 \nQ 20.953125 3.328125 18.109375 8.203125 \nz\nM 48.6875 27.296875 \nQ 48.6875 37.203125 44.609375 42.84375 \nQ 40.53125 48.484375 33.40625 48.484375 \nQ 26.265625 48.484375 22.1875 42.84375 \nQ 18.109375 37.203125 18.109375 27.296875 \nQ 18.109375 17.390625 22.1875 11.75 \nQ 26.265625 6.109375 33.40625 6.109375 \nQ 40.53125 6.109375 44.609375 11.75 \nQ 48.6875 17.390625 48.6875 27.296875 \nz\n\" id=\"DejaVuSans-112\"/>\n     <path d=\"M 54.890625 33.015625 \nL 54.890625 0 \nL 45.90625 0 \nL 45.90625 32.71875 \nQ 45.90625 40.484375 42.875 44.328125 \nQ 39.84375 48.1875 33.796875 48.1875 \nQ 26.515625 48.1875 22.3125 43.546875 \nQ 18.109375 38.921875 18.109375 30.90625 \nL 18.109375 0 \nL 9.078125 0 \nL 9.078125 75.984375 \nL 18.109375 75.984375 \nL 18.109375 46.1875 \nQ 21.34375 51.125 25.703125 53.5625 \nQ 30.078125 56 35.796875 56 \nQ 45.21875 56 50.046875 50.171875 \nQ 54.890625 44.34375 54.890625 33.015625 \nz\n\" id=\"DejaVuSans-104\"/>\n    </defs>\n    <g transform=\"translate(307.547812 16.318125)scale(0.12 -0.12)\">\n     <use xlink:href=\"#DejaVuSans-100\"/>\n     <use x=\"63.476562\" xlink:href=\"#DejaVuSans-101\"/>\n     <use x=\"125\" xlink:href=\"#DejaVuSans-112\"/>\n     <use x=\"188.476562\" xlink:href=\"#DejaVuSans-116\"/>\n     <use x=\"227.685547\" xlink:href=\"#DejaVuSans-104\"/>\n    </g>\n   </g>\n  </g>\n  <g id=\"axes_3\">\n   <g id=\"patch_32\">\n    <path d=\"M 449.0125 173.318125 \nL 604.0125 173.318125 \nL 604.0125 22.318125 \nL 449.0125 22.318125 \nz\n\" style=\"fill:#ffffff;\"/>\n   </g>\n   <g id=\"patch_33\">\n    <path clip-path=\"url(#p1e9b597885)\" d=\"M 456.057955 173.318125 \nL 470.148864 173.318125 \nL 470.148864 29.508601 \nL 456.057955 29.508601 \nz\n\" style=\"fill:#1f77b4;\"/>\n   </g>\n   <g id=\"patch_34\">\n    <path clip-path=\"url(#p1e9b597885)\" d=\"M 470.148864 173.318125 \nL 484.239773 173.318125 \nL 484.239773 120.369428 \nL 470.148864 120.369428 \nz\n\" style=\"fill:#1f77b4;\"/>\n   </g>\n   <g id=\"patch_35\">\n    <path clip-path=\"url(#p1e9b597885)\" d=\"M 484.239773 173.318125 \nL 498.330682 173.318125 \nL 498.330682 131.353104 \nL 484.239773 131.353104 \nz\n\" style=\"fill:#1f77b4;\"/>\n   </g>\n   <g id=\"patch_36\">\n    <path clip-path=\"url(#p1e9b597885)\" d=\"M 498.330682 173.318125 \nL 512.421591 173.318125 \nL 512.421591 151.305363 \nL 498.330682 151.305363 \nz\n\" style=\"fill:#1f77b4;\"/>\n   </g>\n   <g id=\"patch_37\">\n    <path clip-path=\"url(#p1e9b597885)\" d=\"M 512.421591 173.318125 \nL 526.5125 173.318125 \nL 526.5125 159.899309 \nL 512.421591 159.899309 \nz\n\" style=\"fill:#1f77b4;\"/>\n   </g>\n   <g id=\"patch_38\">\n    <path clip-path=\"url(#p1e9b597885)\" d=\"M 526.5125 173.318125 \nL 540.603409 173.318125 \nL 540.603409 163.41295 \nL 526.5125 163.41295 \nz\n\" style=\"fill:#1f77b4;\"/>\n   </g>\n   <g id=\"patch_39\">\n    <path clip-path=\"url(#p1e9b597885)\" d=\"M 540.603409 173.318125 \nL 554.694318 173.318125 \nL 554.694318 165.904853 \nL 540.603409 165.904853 \nz\n\" style=\"fill:#1f77b4;\"/>\n   </g>\n   <g id=\"patch_40\">\n    <path clip-path=\"url(#p1e9b597885)\" d=\"M 554.694318 173.318125 \nL 568.785227 173.318125 \nL 568.785227 167.630454 \nL 554.694318 167.630454 \nz\n\" style=\"fill:#1f77b4;\"/>\n   </g>\n   <g id=\"patch_41\">\n    <path clip-path=\"url(#p1e9b597885)\" d=\"M 568.785227 173.318125 \nL 582.876136 173.318125 \nL 582.876136 168.419462 \nL 568.785227 168.419462 \nz\n\" style=\"fill:#1f77b4;\"/>\n   </g>\n   <g id=\"patch_42\">\n    <path clip-path=\"url(#p1e9b597885)\" d=\"M 582.876136 173.318125 \nL 596.967045 173.318125 \nL 596.967045 169.197118 \nL 582.876136 169.197118 \nz\n\" style=\"fill:#1f77b4;\"/>\n   </g>\n   <g id=\"matplotlib.axis_5\">\n    <g id=\"xtick_8\">\n     <g id=\"line2d_37\">\n      <path clip-path=\"url(#p1e9b597885)\" d=\"M 453.574505 173.318125 \nL 453.574505 22.318125 \n\" style=\"fill:none;stroke:#b0b0b0;stroke-linecap:square;stroke-width:0.8;\"/>\n     </g>\n     <g id=\"line2d_38\">\n      <g>\n       <use style=\"stroke:#000000;stroke-width:0.8;\" x=\"453.574505\" xlink:href=\"#m9f7086dba9\" y=\"173.318125\"/>\n      </g>\n     </g>\n     <g id=\"text_21\">\n      <!-- 0 -->\n      <g transform=\"translate(450.393255 187.916562)scale(0.1 -0.1)\">\n       <use xlink:href=\"#DejaVuSans-48\"/>\n      </g>\n     </g>\n    </g>\n    <g id=\"xtick_9\">\n     <g id=\"line2d_39\">\n      <path clip-path=\"url(#p1e9b597885)\" d=\"M 491.66422 173.318125 \nL 491.66422 22.318125 \n\" style=\"fill:none;stroke:#b0b0b0;stroke-linecap:square;stroke-width:0.8;\"/>\n     </g>\n     <g id=\"line2d_40\">\n      <g>\n       <use style=\"stroke:#000000;stroke-width:0.8;\" x=\"491.66422\" xlink:href=\"#m9f7086dba9\" y=\"173.318125\"/>\n      </g>\n     </g>\n     <g id=\"text_22\">\n      <!-- 5000 -->\n      <g transform=\"translate(478.93922 187.916562)scale(0.1 -0.1)\">\n       <use xlink:href=\"#DejaVuSans-53\"/>\n       <use x=\"63.623047\" xlink:href=\"#DejaVuSans-48\"/>\n       <use x=\"127.246094\" xlink:href=\"#DejaVuSans-48\"/>\n       <use x=\"190.869141\" xlink:href=\"#DejaVuSans-48\"/>\n      </g>\n     </g>\n    </g>\n    <g id=\"xtick_10\">\n     <g id=\"line2d_41\">\n      <path clip-path=\"url(#p1e9b597885)\" d=\"M 529.753935 173.318125 \nL 529.753935 22.318125 \n\" style=\"fill:none;stroke:#b0b0b0;stroke-linecap:square;stroke-width:0.8;\"/>\n     </g>\n     <g id=\"line2d_42\">\n      <g>\n       <use style=\"stroke:#000000;stroke-width:0.8;\" x=\"529.753935\" xlink:href=\"#m9f7086dba9\" y=\"173.318125\"/>\n      </g>\n     </g>\n     <g id=\"text_23\">\n      <!-- 10000 -->\n      <g transform=\"translate(513.847685 187.916562)scale(0.1 -0.1)\">\n       <use xlink:href=\"#DejaVuSans-49\"/>\n       <use x=\"63.623047\" xlink:href=\"#DejaVuSans-48\"/>\n       <use x=\"127.246094\" xlink:href=\"#DejaVuSans-48\"/>\n       <use x=\"190.869141\" xlink:href=\"#DejaVuSans-48\"/>\n       <use x=\"254.492188\" xlink:href=\"#DejaVuSans-48\"/>\n      </g>\n     </g>\n    </g>\n    <g id=\"xtick_11\">\n     <g id=\"line2d_43\">\n      <path clip-path=\"url(#p1e9b597885)\" d=\"M 567.84365 173.318125 \nL 567.84365 22.318125 \n\" style=\"fill:none;stroke:#b0b0b0;stroke-linecap:square;stroke-width:0.8;\"/>\n     </g>\n     <g id=\"line2d_44\">\n      <g>\n       <use style=\"stroke:#000000;stroke-width:0.8;\" x=\"567.84365\" xlink:href=\"#m9f7086dba9\" y=\"173.318125\"/>\n      </g>\n     </g>\n     <g id=\"text_24\">\n      <!-- 15000 -->\n      <g transform=\"translate(551.9374 187.916562)scale(0.1 -0.1)\">\n       <use xlink:href=\"#DejaVuSans-49\"/>\n       <use x=\"63.623047\" xlink:href=\"#DejaVuSans-53\"/>\n       <use x=\"127.246094\" xlink:href=\"#DejaVuSans-48\"/>\n       <use x=\"190.869141\" xlink:href=\"#DejaVuSans-48\"/>\n       <use x=\"254.492188\" xlink:href=\"#DejaVuSans-48\"/>\n      </g>\n     </g>\n    </g>\n   </g>\n   <g id=\"matplotlib.axis_6\">\n    <g id=\"ytick_12\">\n     <g id=\"line2d_45\">\n      <path clip-path=\"url(#p1e9b597885)\" d=\"M 449.0125 173.318125 \nL 604.0125 173.318125 \n\" style=\"fill:none;stroke:#b0b0b0;stroke-linecap:square;stroke-width:0.8;\"/>\n     </g>\n     <g id=\"line2d_46\">\n      <g>\n       <use style=\"stroke:#000000;stroke-width:0.8;\" x=\"449.0125\" xlink:href=\"#m4bdbbfc1e2\" y=\"173.318125\"/>\n      </g>\n     </g>\n     <g id=\"text_25\">\n      <!-- 0 -->\n      <g transform=\"translate(435.65 177.117344)scale(0.1 -0.1)\">\n       <use xlink:href=\"#DejaVuSans-48\"/>\n      </g>\n     </g>\n    </g>\n    <g id=\"ytick_13\">\n     <g id=\"line2d_47\">\n      <path clip-path=\"url(#p1e9b597885)\" d=\"M 449.0125 144.936534 \nL 604.0125 144.936534 \n\" style=\"fill:none;stroke:#b0b0b0;stroke-linecap:square;stroke-width:0.8;\"/>\n     </g>\n     <g id=\"line2d_48\">\n      <g>\n       <use style=\"stroke:#000000;stroke-width:0.8;\" x=\"449.0125\" xlink:href=\"#m4bdbbfc1e2\" y=\"144.936534\"/>\n      </g>\n     </g>\n     <g id=\"text_26\">\n      <!-- 5000 -->\n      <g transform=\"translate(416.5625 148.735752)scale(0.1 -0.1)\">\n       <use xlink:href=\"#DejaVuSans-53\"/>\n       <use x=\"63.623047\" xlink:href=\"#DejaVuSans-48\"/>\n       <use x=\"127.246094\" xlink:href=\"#DejaVuSans-48\"/>\n       <use x=\"190.869141\" xlink:href=\"#DejaVuSans-48\"/>\n      </g>\n     </g>\n    </g>\n    <g id=\"ytick_14\">\n     <g id=\"line2d_49\">\n      <path clip-path=\"url(#p1e9b597885)\" d=\"M 449.0125 116.554942 \nL 604.0125 116.554942 \n\" style=\"fill:none;stroke:#b0b0b0;stroke-linecap:square;stroke-width:0.8;\"/>\n     </g>\n     <g id=\"line2d_50\">\n      <g>\n       <use style=\"stroke:#000000;stroke-width:0.8;\" x=\"449.0125\" xlink:href=\"#m4bdbbfc1e2\" y=\"116.554942\"/>\n      </g>\n     </g>\n     <g id=\"text_27\">\n      <!-- 10000 -->\n      <g transform=\"translate(410.2 120.354161)scale(0.1 -0.1)\">\n       <use xlink:href=\"#DejaVuSans-49\"/>\n       <use x=\"63.623047\" xlink:href=\"#DejaVuSans-48\"/>\n       <use x=\"127.246094\" xlink:href=\"#DejaVuSans-48\"/>\n       <use x=\"190.869141\" xlink:href=\"#DejaVuSans-48\"/>\n       <use x=\"254.492188\" xlink:href=\"#DejaVuSans-48\"/>\n      </g>\n     </g>\n    </g>\n    <g id=\"ytick_15\">\n     <g id=\"line2d_51\">\n      <path clip-path=\"url(#p1e9b597885)\" d=\"M 449.0125 88.173351 \nL 604.0125 88.173351 \n\" style=\"fill:none;stroke:#b0b0b0;stroke-linecap:square;stroke-width:0.8;\"/>\n     </g>\n     <g id=\"line2d_52\">\n      <g>\n       <use style=\"stroke:#000000;stroke-width:0.8;\" x=\"449.0125\" xlink:href=\"#m4bdbbfc1e2\" y=\"88.173351\"/>\n      </g>\n     </g>\n     <g id=\"text_28\">\n      <!-- 15000 -->\n      <g transform=\"translate(410.2 91.972569)scale(0.1 -0.1)\">\n       <use xlink:href=\"#DejaVuSans-49\"/>\n       <use x=\"63.623047\" xlink:href=\"#DejaVuSans-53\"/>\n       <use x=\"127.246094\" xlink:href=\"#DejaVuSans-48\"/>\n       <use x=\"190.869141\" xlink:href=\"#DejaVuSans-48\"/>\n       <use x=\"254.492188\" xlink:href=\"#DejaVuSans-48\"/>\n      </g>\n     </g>\n    </g>\n    <g id=\"ytick_16\">\n     <g id=\"line2d_53\">\n      <path clip-path=\"url(#p1e9b597885)\" d=\"M 449.0125 59.791759 \nL 604.0125 59.791759 \n\" style=\"fill:none;stroke:#b0b0b0;stroke-linecap:square;stroke-width:0.8;\"/>\n     </g>\n     <g id=\"line2d_54\">\n      <g>\n       <use style=\"stroke:#000000;stroke-width:0.8;\" x=\"449.0125\" xlink:href=\"#m4bdbbfc1e2\" y=\"59.791759\"/>\n      </g>\n     </g>\n     <g id=\"text_29\">\n      <!-- 20000 -->\n      <g transform=\"translate(410.2 63.590978)scale(0.1 -0.1)\">\n       <use xlink:href=\"#DejaVuSans-50\"/>\n       <use x=\"63.623047\" xlink:href=\"#DejaVuSans-48\"/>\n       <use x=\"127.246094\" xlink:href=\"#DejaVuSans-48\"/>\n       <use x=\"190.869141\" xlink:href=\"#DejaVuSans-48\"/>\n       <use x=\"254.492188\" xlink:href=\"#DejaVuSans-48\"/>\n      </g>\n     </g>\n    </g>\n    <g id=\"ytick_17\">\n     <g id=\"line2d_55\">\n      <path clip-path=\"url(#p1e9b597885)\" d=\"M 449.0125 31.410168 \nL 604.0125 31.410168 \n\" style=\"fill:none;stroke:#b0b0b0;stroke-linecap:square;stroke-width:0.8;\"/>\n     </g>\n     <g id=\"line2d_56\">\n      <g>\n       <use style=\"stroke:#000000;stroke-width:0.8;\" x=\"449.0125\" xlink:href=\"#m4bdbbfc1e2\" y=\"31.410168\"/>\n      </g>\n     </g>\n     <g id=\"text_30\">\n      <!-- 25000 -->\n      <g transform=\"translate(410.2 35.209387)scale(0.1 -0.1)\">\n       <use xlink:href=\"#DejaVuSans-50\"/>\n       <use x=\"63.623047\" xlink:href=\"#DejaVuSans-53\"/>\n       <use x=\"127.246094\" xlink:href=\"#DejaVuSans-48\"/>\n       <use x=\"190.869141\" xlink:href=\"#DejaVuSans-48\"/>\n       <use x=\"254.492188\" xlink:href=\"#DejaVuSans-48\"/>\n      </g>\n     </g>\n    </g>\n   </g>\n   <g id=\"patch_43\">\n    <path d=\"M 449.0125 173.318125 \nL 449.0125 22.318125 \n\" style=\"fill:none;stroke:#000000;stroke-linecap:square;stroke-linejoin:miter;stroke-width:0.8;\"/>\n   </g>\n   <g id=\"patch_44\">\n    <path d=\"M 604.0125 173.318125 \nL 604.0125 22.318125 \n\" style=\"fill:none;stroke:#000000;stroke-linecap:square;stroke-linejoin:miter;stroke-width:0.8;\"/>\n   </g>\n   <g id=\"patch_45\">\n    <path d=\"M 449.0125 173.318125 \nL 604.0125 173.318125 \n\" style=\"fill:none;stroke:#000000;stroke-linecap:square;stroke-linejoin:miter;stroke-width:0.8;\"/>\n   </g>\n   <g id=\"patch_46\">\n    <path d=\"M 449.0125 22.318125 \nL 604.0125 22.318125 \n\" style=\"fill:none;stroke:#000000;stroke-linecap:square;stroke-linejoin:miter;stroke-width:0.8;\"/>\n   </g>\n   <g id=\"text_31\">\n    <!-- price -->\n    <defs>\n     <path d=\"M 9.421875 54.6875 \nL 18.40625 54.6875 \nL 18.40625 0 \nL 9.421875 0 \nz\nM 9.421875 75.984375 \nL 18.40625 75.984375 \nL 18.40625 64.59375 \nL 9.421875 64.59375 \nz\n\" id=\"DejaVuSans-105\"/>\n    </defs>\n    <g transform=\"translate(511.579063 16.318125)scale(0.12 -0.12)\">\n     <use xlink:href=\"#DejaVuSans-112\"/>\n     <use x=\"63.476562\" xlink:href=\"#DejaVuSans-114\"/>\n     <use x=\"104.589844\" xlink:href=\"#DejaVuSans-105\"/>\n     <use x=\"132.373047\" xlink:href=\"#DejaVuSans-99\"/>\n     <use x=\"187.353516\" xlink:href=\"#DejaVuSans-101\"/>\n    </g>\n   </g>\n  </g>\n  <g id=\"axes_4\">\n   <g id=\"patch_47\">\n    <path d=\"M 46.0125 369.618125 \nL 201.0125 369.618125 \nL 201.0125 218.618125 \nL 46.0125 218.618125 \nz\n\" style=\"fill:#ffffff;\"/>\n   </g>\n   <g id=\"patch_48\">\n    <path clip-path=\"url(#p4db5860396)\" d=\"M 53.057955 369.618125 \nL 67.148864 369.618125 \nL 67.148864 369.610466 \nL 53.057955 369.610466 \nz\n\" style=\"fill:#1f77b4;\"/>\n   </g>\n   <g id=\"patch_49\">\n    <path clip-path=\"url(#p4db5860396)\" d=\"M 67.148864 369.618125 \nL 81.239773 369.618125 \nL 81.239773 367.102205 \nL 67.148864 367.102205 \nz\n\" style=\"fill:#1f77b4;\"/>\n   </g>\n   <g id=\"patch_50\">\n    <path clip-path=\"url(#p4db5860396)\" d=\"M 81.239773 369.618125 \nL 95.330682 369.618125 \nL 95.330682 225.808601 \nL 81.239773 225.808601 \nz\n\" style=\"fill:#1f77b4;\"/>\n   </g>\n   <g id=\"patch_51\">\n    <path clip-path=\"url(#p4db5860396)\" d=\"M 95.330682 369.618125 \nL 109.421591 369.618125 \nL 109.421591 311.648573 \nL 95.330682 311.648573 \nz\n\" style=\"fill:#1f77b4;\"/>\n   </g>\n   <g id=\"patch_52\">\n    <path clip-path=\"url(#p4db5860396)\" d=\"M 109.421591 369.618125 \nL 123.5125 369.618125 \nL 123.5125 367.462169 \nL 109.421591 367.462169 \nz\n\" style=\"fill:#1f77b4;\"/>\n   </g>\n   <g id=\"patch_53\">\n    <path clip-path=\"url(#p4db5860396)\" d=\"M 123.5125 369.618125 \nL 137.603409 369.618125 \nL 137.603409 369.530049 \nL 123.5125 369.530049 \nz\n\" style=\"fill:#1f77b4;\"/>\n   </g>\n   <g id=\"patch_54\">\n    <path clip-path=\"url(#p4db5860396)\" d=\"M 137.603409 369.618125 \nL 151.694318 369.618125 \nL 151.694318 369.610466 \nL 137.603409 369.610466 \nz\n\" style=\"fill:#1f77b4;\"/>\n   </g>\n   <g id=\"patch_55\">\n    <path clip-path=\"url(#p4db5860396)\" d=\"M 151.694318 369.618125 \nL 165.785227 369.618125 \nL 165.785227 369.618125 \nL 151.694318 369.618125 \nz\n\" style=\"fill:#1f77b4;\"/>\n   </g>\n   <g id=\"patch_56\">\n    <path clip-path=\"url(#p4db5860396)\" d=\"M 165.785227 369.618125 \nL 179.876136 369.618125 \nL 179.876136 369.618125 \nL 165.785227 369.618125 \nz\n\" style=\"fill:#1f77b4;\"/>\n   </g>\n   <g id=\"patch_57\">\n    <path clip-path=\"url(#p4db5860396)\" d=\"M 179.876136 369.618125 \nL 193.967045 369.618125 \nL 193.967045 369.614296 \nL 179.876136 369.614296 \nz\n\" style=\"fill:#1f77b4;\"/>\n   </g>\n   <g id=\"matplotlib.axis_7\">\n    <g id=\"xtick_12\">\n     <g id=\"line2d_57\">\n      <path clip-path=\"url(#p4db5860396)\" d=\"M 99.124388 369.618125 \nL 99.124388 218.618125 \n\" style=\"fill:none;stroke:#b0b0b0;stroke-linecap:square;stroke-width:0.8;\"/>\n     </g>\n     <g id=\"line2d_58\">\n      <g>\n       <use style=\"stroke:#000000;stroke-width:0.8;\" x=\"99.124388\" xlink:href=\"#m9f7086dba9\" y=\"369.618125\"/>\n      </g>\n     </g>\n     <g id=\"text_32\">\n      <!-- 60 -->\n      <g transform=\"translate(92.761888 384.216562)scale(0.1 -0.1)\">\n       <use xlink:href=\"#DejaVuSans-54\"/>\n       <use x=\"63.623047\" xlink:href=\"#DejaVuSans-48\"/>\n      </g>\n     </g>\n    </g>\n    <g id=\"xtick_13\">\n     <g id=\"line2d_59\">\n      <path clip-path=\"url(#p4db5860396)\" d=\"M 153.320192 369.618125 \nL 153.320192 218.618125 \n\" style=\"fill:none;stroke:#b0b0b0;stroke-linecap:square;stroke-width:0.8;\"/>\n     </g>\n     <g id=\"line2d_60\">\n      <g>\n       <use style=\"stroke:#000000;stroke-width:0.8;\" x=\"153.320192\" xlink:href=\"#m9f7086dba9\" y=\"369.618125\"/>\n      </g>\n     </g>\n     <g id=\"text_33\">\n      <!-- 80 -->\n      <g transform=\"translate(146.957692 384.216562)scale(0.1 -0.1)\">\n       <use xlink:href=\"#DejaVuSans-56\"/>\n       <use x=\"63.623047\" xlink:href=\"#DejaVuSans-48\"/>\n      </g>\n     </g>\n    </g>\n   </g>\n   <g id=\"matplotlib.axis_8\">\n    <g id=\"ytick_18\">\n     <g id=\"line2d_61\">\n      <path clip-path=\"url(#p4db5860396)\" d=\"M 46.0125 369.618125 \nL 201.0125 369.618125 \n\" style=\"fill:none;stroke:#b0b0b0;stroke-linecap:square;stroke-width:0.8;\"/>\n     </g>\n     <g id=\"line2d_62\">\n      <g>\n       <use style=\"stroke:#000000;stroke-width:0.8;\" x=\"46.0125\" xlink:href=\"#m4bdbbfc1e2\" y=\"369.618125\"/>\n      </g>\n     </g>\n     <g id=\"text_34\">\n      <!-- 0 -->\n      <g transform=\"translate(32.65 373.417344)scale(0.1 -0.1)\">\n       <use xlink:href=\"#DejaVuSans-48\"/>\n      </g>\n     </g>\n    </g>\n    <g id=\"ytick_19\">\n     <g id=\"line2d_63\">\n      <path clip-path=\"url(#p4db5860396)\" d=\"M 46.0125 331.324062 \nL 201.0125 331.324062 \n\" style=\"fill:none;stroke:#b0b0b0;stroke-linecap:square;stroke-width:0.8;\"/>\n     </g>\n     <g id=\"line2d_64\">\n      <g>\n       <use style=\"stroke:#000000;stroke-width:0.8;\" x=\"46.0125\" xlink:href=\"#m4bdbbfc1e2\" y=\"331.324062\"/>\n      </g>\n     </g>\n     <g id=\"text_35\">\n      <!-- 10000 -->\n      <g transform=\"translate(7.2 335.123281)scale(0.1 -0.1)\">\n       <use xlink:href=\"#DejaVuSans-49\"/>\n       <use x=\"63.623047\" xlink:href=\"#DejaVuSans-48\"/>\n       <use x=\"127.246094\" xlink:href=\"#DejaVuSans-48\"/>\n       <use x=\"190.869141\" xlink:href=\"#DejaVuSans-48\"/>\n       <use x=\"254.492188\" xlink:href=\"#DejaVuSans-48\"/>\n      </g>\n     </g>\n    </g>\n    <g id=\"ytick_20\">\n     <g id=\"line2d_65\">\n      <path clip-path=\"url(#p4db5860396)\" d=\"M 46.0125 293.029999 \nL 201.0125 293.029999 \n\" style=\"fill:none;stroke:#b0b0b0;stroke-linecap:square;stroke-width:0.8;\"/>\n     </g>\n     <g id=\"line2d_66\">\n      <g>\n       <use style=\"stroke:#000000;stroke-width:0.8;\" x=\"46.0125\" xlink:href=\"#m4bdbbfc1e2\" y=\"293.029999\"/>\n      </g>\n     </g>\n     <g id=\"text_36\">\n      <!-- 20000 -->\n      <g transform=\"translate(7.2 296.829218)scale(0.1 -0.1)\">\n       <use xlink:href=\"#DejaVuSans-50\"/>\n       <use x=\"63.623047\" xlink:href=\"#DejaVuSans-48\"/>\n       <use x=\"127.246094\" xlink:href=\"#DejaVuSans-48\"/>\n       <use x=\"190.869141\" xlink:href=\"#DejaVuSans-48\"/>\n       <use x=\"254.492188\" xlink:href=\"#DejaVuSans-48\"/>\n      </g>\n     </g>\n    </g>\n    <g id=\"ytick_21\">\n     <g id=\"line2d_67\">\n      <path clip-path=\"url(#p4db5860396)\" d=\"M 46.0125 254.735936 \nL 201.0125 254.735936 \n\" style=\"fill:none;stroke:#b0b0b0;stroke-linecap:square;stroke-width:0.8;\"/>\n     </g>\n     <g id=\"line2d_68\">\n      <g>\n       <use style=\"stroke:#000000;stroke-width:0.8;\" x=\"46.0125\" xlink:href=\"#m4bdbbfc1e2\" y=\"254.735936\"/>\n      </g>\n     </g>\n     <g id=\"text_37\">\n      <!-- 30000 -->\n      <g transform=\"translate(7.2 258.535155)scale(0.1 -0.1)\">\n       <use xlink:href=\"#DejaVuSans-51\"/>\n       <use x=\"63.623047\" xlink:href=\"#DejaVuSans-48\"/>\n       <use x=\"127.246094\" xlink:href=\"#DejaVuSans-48\"/>\n       <use x=\"190.869141\" xlink:href=\"#DejaVuSans-48\"/>\n       <use x=\"254.492188\" xlink:href=\"#DejaVuSans-48\"/>\n      </g>\n     </g>\n    </g>\n   </g>\n   <g id=\"patch_58\">\n    <path d=\"M 46.0125 369.618125 \nL 46.0125 218.618125 \n\" style=\"fill:none;stroke:#000000;stroke-linecap:square;stroke-linejoin:miter;stroke-width:0.8;\"/>\n   </g>\n   <g id=\"patch_59\">\n    <path d=\"M 201.0125 369.618125 \nL 201.0125 218.618125 \n\" style=\"fill:none;stroke:#000000;stroke-linecap:square;stroke-linejoin:miter;stroke-width:0.8;\"/>\n   </g>\n   <g id=\"patch_60\">\n    <path d=\"M 46.0125 369.618125 \nL 201.0125 369.618125 \n\" style=\"fill:none;stroke:#000000;stroke-linecap:square;stroke-linejoin:miter;stroke-width:0.8;\"/>\n   </g>\n   <g id=\"patch_61\">\n    <path d=\"M 46.0125 218.618125 \nL 201.0125 218.618125 \n\" style=\"fill:none;stroke:#000000;stroke-linecap:square;stroke-linejoin:miter;stroke-width:0.8;\"/>\n   </g>\n   <g id=\"text_38\">\n    <!-- table -->\n    <defs>\n     <path d=\"M 48.6875 27.296875 \nQ 48.6875 37.203125 44.609375 42.84375 \nQ 40.53125 48.484375 33.40625 48.484375 \nQ 26.265625 48.484375 22.1875 42.84375 \nQ 18.109375 37.203125 18.109375 27.296875 \nQ 18.109375 17.390625 22.1875 11.75 \nQ 26.265625 6.109375 33.40625 6.109375 \nQ 40.53125 6.109375 44.609375 11.75 \nQ 48.6875 17.390625 48.6875 27.296875 \nz\nM 18.109375 46.390625 \nQ 20.953125 51.265625 25.265625 53.625 \nQ 29.59375 56 35.59375 56 \nQ 45.5625 56 51.78125 48.09375 \nQ 58.015625 40.1875 58.015625 27.296875 \nQ 58.015625 14.40625 51.78125 6.484375 \nQ 45.5625 -1.421875 35.59375 -1.421875 \nQ 29.59375 -1.421875 25.265625 0.953125 \nQ 20.953125 3.328125 18.109375 8.203125 \nL 18.109375 0 \nL 9.078125 0 \nL 9.078125 75.984375 \nL 18.109375 75.984375 \nz\n\" id=\"DejaVuSans-98\"/>\n     <path d=\"M 9.421875 75.984375 \nL 18.40625 75.984375 \nL 18.40625 0 \nL 9.421875 0 \nz\n\" id=\"DejaVuSans-108\"/>\n    </defs>\n    <g transform=\"translate(108.315625 212.618125)scale(0.12 -0.12)\">\n     <use xlink:href=\"#DejaVuSans-116\"/>\n     <use x=\"39.208984\" xlink:href=\"#DejaVuSans-97\"/>\n     <use x=\"100.488281\" xlink:href=\"#DejaVuSans-98\"/>\n     <use x=\"163.964844\" xlink:href=\"#DejaVuSans-108\"/>\n     <use x=\"191.748047\" xlink:href=\"#DejaVuSans-101\"/>\n    </g>\n   </g>\n  </g>\n  <g id=\"axes_5\">\n   <g id=\"patch_62\">\n    <path d=\"M 247.5125 369.618125 \nL 402.5125 369.618125 \nL 402.5125 218.618125 \nL 247.5125 218.618125 \nz\n\" style=\"fill:#ffffff;\"/>\n   </g>\n   <g id=\"patch_63\">\n    <path clip-path=\"url(#p3f05c09488)\" d=\"M 254.557955 369.618125 \nL 268.648864 369.618125 \nL 268.648864 369.562787 \nL 254.557955 369.562787 \nz\n\" style=\"fill:#1f77b4;\"/>\n   </g>\n   <g id=\"patch_64\">\n    <path clip-path=\"url(#p3f05c09488)\" d=\"M 268.648864 369.618125 \nL 282.739773 369.618125 \nL 282.739773 369.618125 \nL 268.648864 369.618125 \nz\n\" style=\"fill:#1f77b4;\"/>\n   </g>\n   <g id=\"patch_65\">\n    <path clip-path=\"url(#p3f05c09488)\" d=\"M 282.739773 369.618125 \nL 296.830682 369.618125 \nL 296.830682 369.618125 \nL 282.739773 369.618125 \nz\n\" style=\"fill:#1f77b4;\"/>\n   </g>\n   <g id=\"patch_66\">\n    <path clip-path=\"url(#p3f05c09488)\" d=\"M 296.830682 369.618125 \nL 310.921591 369.618125 \nL 310.921591 349.322928 \nL 296.830682 349.322928 \nz\n\" style=\"fill:#1f77b4;\"/>\n   </g>\n   <g id=\"patch_67\">\n    <path clip-path=\"url(#p3f05c09488)\" d=\"M 310.921591 369.618125 \nL 325.0125 369.618125 \nL 325.0125 225.808601 \nL 310.921591 225.808601 \nz\n\" style=\"fill:#1f77b4;\"/>\n   </g>\n   <g id=\"patch_68\">\n    <path clip-path=\"url(#p3f05c09488)\" d=\"M 325.0125 369.618125 \nL 339.103409 369.618125 \nL 339.103409 269.006796 \nL 325.0125 269.006796 \nz\n\" style=\"fill:#1f77b4;\"/>\n   </g>\n   <g id=\"patch_69\">\n    <path clip-path=\"url(#p3f05c09488)\" d=\"M 339.103409 369.618125 \nL 353.194318 369.618125 \nL 353.194318 285.19315 \nL 339.103409 285.19315 \nz\n\" style=\"fill:#1f77b4;\"/>\n   </g>\n   <g id=\"patch_70\">\n    <path clip-path=\"url(#p3f05c09488)\" d=\"M 353.194318 369.618125 \nL 367.285227 369.618125 \nL 367.285227 347.067906 \nL 353.194318 347.067906 \nz\n\" style=\"fill:#1f77b4;\"/>\n   </g>\n   <g id=\"patch_71\">\n    <path clip-path=\"url(#p3f05c09488)\" d=\"M 367.285227 369.618125 \nL 381.376136 369.618125 \nL 381.376136 368.296931 \nL 367.285227 368.296931 \nz\n\" style=\"fill:#1f77b4;\"/>\n   </g>\n   <g id=\"patch_72\">\n    <path clip-path=\"url(#p3f05c09488)\" d=\"M 381.376136 369.618125 \nL 395.467045 369.618125 \nL 395.467045 369.569704 \nL 381.376136 369.569704 \nz\n\" style=\"fill:#1f77b4;\"/>\n   </g>\n   <g id=\"matplotlib.axis_9\">\n    <g id=\"xtick_14\">\n     <g id=\"line2d_69\">\n      <path clip-path=\"url(#p3f05c09488)\" d=\"M 254.557955 369.618125 \nL 254.557955 218.618125 \n\" style=\"fill:none;stroke:#b0b0b0;stroke-linecap:square;stroke-width:0.8;\"/>\n     </g>\n     <g id=\"line2d_70\">\n      <g>\n       <use style=\"stroke:#000000;stroke-width:0.8;\" x=\"254.557955\" xlink:href=\"#m9f7086dba9\" y=\"369.618125\"/>\n      </g>\n     </g>\n     <g id=\"text_39\">\n      <!-- 0.0 -->\n      <defs>\n       <path d=\"M 10.6875 12.40625 \nL 21 12.40625 \nL 21 0 \nL 10.6875 0 \nz\n\" id=\"DejaVuSans-46\"/>\n      </defs>\n      <g transform=\"translate(246.606392 384.216562)scale(0.1 -0.1)\">\n       <use xlink:href=\"#DejaVuSans-48\"/>\n       <use x=\"63.623047\" xlink:href=\"#DejaVuSans-46\"/>\n       <use x=\"95.410156\" xlink:href=\"#DejaVuSans-48\"/>\n      </g>\n     </g>\n    </g>\n    <g id=\"xtick_15\">\n     <g id=\"line2d_71\">\n      <path clip-path=\"url(#p3f05c09488)\" d=\"M 287.358022 369.618125 \nL 287.358022 218.618125 \n\" style=\"fill:none;stroke:#b0b0b0;stroke-linecap:square;stroke-width:0.8;\"/>\n     </g>\n     <g id=\"line2d_72\">\n      <g>\n       <use style=\"stroke:#000000;stroke-width:0.8;\" x=\"287.358022\" xlink:href=\"#m9f7086dba9\" y=\"369.618125\"/>\n      </g>\n     </g>\n     <g id=\"text_40\">\n      <!-- 2.5 -->\n      <g transform=\"translate(279.40646 384.216562)scale(0.1 -0.1)\">\n       <use xlink:href=\"#DejaVuSans-50\"/>\n       <use x=\"63.623047\" xlink:href=\"#DejaVuSans-46\"/>\n       <use x=\"95.410156\" xlink:href=\"#DejaVuSans-53\"/>\n      </g>\n     </g>\n    </g>\n    <g id=\"xtick_16\">\n     <g id=\"line2d_73\">\n      <path clip-path=\"url(#p3f05c09488)\" d=\"M 320.15809 369.618125 \nL 320.15809 218.618125 \n\" style=\"fill:none;stroke:#b0b0b0;stroke-linecap:square;stroke-width:0.8;\"/>\n     </g>\n     <g id=\"line2d_74\">\n      <g>\n       <use style=\"stroke:#000000;stroke-width:0.8;\" x=\"320.15809\" xlink:href=\"#m9f7086dba9\" y=\"369.618125\"/>\n      </g>\n     </g>\n     <g id=\"text_41\">\n      <!-- 5.0 -->\n      <g transform=\"translate(312.206527 384.216562)scale(0.1 -0.1)\">\n       <use xlink:href=\"#DejaVuSans-53\"/>\n       <use x=\"63.623047\" xlink:href=\"#DejaVuSans-46\"/>\n       <use x=\"95.410156\" xlink:href=\"#DejaVuSans-48\"/>\n      </g>\n     </g>\n    </g>\n    <g id=\"xtick_17\">\n     <g id=\"line2d_75\">\n      <path clip-path=\"url(#p3f05c09488)\" d=\"M 352.958158 369.618125 \nL 352.958158 218.618125 \n\" style=\"fill:none;stroke:#b0b0b0;stroke-linecap:square;stroke-width:0.8;\"/>\n     </g>\n     <g id=\"line2d_76\">\n      <g>\n       <use style=\"stroke:#000000;stroke-width:0.8;\" x=\"352.958158\" xlink:href=\"#m9f7086dba9\" y=\"369.618125\"/>\n      </g>\n     </g>\n     <g id=\"text_42\">\n      <!-- 7.5 -->\n      <g transform=\"translate(345.006595 384.216562)scale(0.1 -0.1)\">\n       <use xlink:href=\"#DejaVuSans-55\"/>\n       <use x=\"63.623047\" xlink:href=\"#DejaVuSans-46\"/>\n       <use x=\"95.410156\" xlink:href=\"#DejaVuSans-53\"/>\n      </g>\n     </g>\n    </g>\n    <g id=\"xtick_18\">\n     <g id=\"line2d_77\">\n      <path clip-path=\"url(#p3f05c09488)\" d=\"M 385.758225 369.618125 \nL 385.758225 218.618125 \n\" style=\"fill:none;stroke:#b0b0b0;stroke-linecap:square;stroke-width:0.8;\"/>\n     </g>\n     <g id=\"line2d_78\">\n      <g>\n       <use style=\"stroke:#000000;stroke-width:0.8;\" x=\"385.758225\" xlink:href=\"#m9f7086dba9\" y=\"369.618125\"/>\n      </g>\n     </g>\n     <g id=\"text_43\">\n      <!-- 10.0 -->\n      <g transform=\"translate(374.625413 384.216562)scale(0.1 -0.1)\">\n       <use xlink:href=\"#DejaVuSans-49\"/>\n       <use x=\"63.623047\" xlink:href=\"#DejaVuSans-48\"/>\n       <use x=\"127.246094\" xlink:href=\"#DejaVuSans-46\"/>\n       <use x=\"159.033203\" xlink:href=\"#DejaVuSans-48\"/>\n      </g>\n     </g>\n    </g>\n   </g>\n   <g id=\"matplotlib.axis_10\">\n    <g id=\"ytick_22\">\n     <g id=\"line2d_79\">\n      <path clip-path=\"url(#p3f05c09488)\" d=\"M 247.5125 369.618125 \nL 402.5125 369.618125 \n\" style=\"fill:none;stroke:#b0b0b0;stroke-linecap:square;stroke-width:0.8;\"/>\n     </g>\n     <g id=\"line2d_80\">\n      <g>\n       <use style=\"stroke:#000000;stroke-width:0.8;\" x=\"247.5125\" xlink:href=\"#m4bdbbfc1e2\" y=\"369.618125\"/>\n      </g>\n     </g>\n     <g id=\"text_44\">\n      <!-- 0 -->\n      <g transform=\"translate(234.15 373.417344)scale(0.1 -0.1)\">\n       <use xlink:href=\"#DejaVuSans-48\"/>\n      </g>\n     </g>\n    </g>\n    <g id=\"ytick_23\">\n     <g id=\"line2d_81\">\n      <path clip-path=\"url(#p3f05c09488)\" d=\"M 247.5125 335.0319 \nL 402.5125 335.0319 \n\" style=\"fill:none;stroke:#b0b0b0;stroke-linecap:square;stroke-width:0.8;\"/>\n     </g>\n     <g id=\"line2d_82\">\n      <g>\n       <use style=\"stroke:#000000;stroke-width:0.8;\" x=\"247.5125\" xlink:href=\"#m4bdbbfc1e2\" y=\"335.0319\"/>\n      </g>\n     </g>\n     <g id=\"text_45\">\n      <!-- 5000 -->\n      <g transform=\"translate(215.0625 338.831119)scale(0.1 -0.1)\">\n       <use xlink:href=\"#DejaVuSans-53\"/>\n       <use x=\"63.623047\" xlink:href=\"#DejaVuSans-48\"/>\n       <use x=\"127.246094\" xlink:href=\"#DejaVuSans-48\"/>\n       <use x=\"190.869141\" xlink:href=\"#DejaVuSans-48\"/>\n      </g>\n     </g>\n    </g>\n    <g id=\"ytick_24\">\n     <g id=\"line2d_83\">\n      <path clip-path=\"url(#p3f05c09488)\" d=\"M 247.5125 300.445675 \nL 402.5125 300.445675 \n\" style=\"fill:none;stroke:#b0b0b0;stroke-linecap:square;stroke-width:0.8;\"/>\n     </g>\n     <g id=\"line2d_84\">\n      <g>\n       <use style=\"stroke:#000000;stroke-width:0.8;\" x=\"247.5125\" xlink:href=\"#m4bdbbfc1e2\" y=\"300.445675\"/>\n      </g>\n     </g>\n     <g id=\"text_46\">\n      <!-- 10000 -->\n      <g transform=\"translate(208.7 304.244894)scale(0.1 -0.1)\">\n       <use xlink:href=\"#DejaVuSans-49\"/>\n       <use x=\"63.623047\" xlink:href=\"#DejaVuSans-48\"/>\n       <use x=\"127.246094\" xlink:href=\"#DejaVuSans-48\"/>\n       <use x=\"190.869141\" xlink:href=\"#DejaVuSans-48\"/>\n       <use x=\"254.492188\" xlink:href=\"#DejaVuSans-48\"/>\n      </g>\n     </g>\n    </g>\n    <g id=\"ytick_25\">\n     <g id=\"line2d_85\">\n      <path clip-path=\"url(#p3f05c09488)\" d=\"M 247.5125 265.85945 \nL 402.5125 265.85945 \n\" style=\"fill:none;stroke:#b0b0b0;stroke-linecap:square;stroke-width:0.8;\"/>\n     </g>\n     <g id=\"line2d_86\">\n      <g>\n       <use style=\"stroke:#000000;stroke-width:0.8;\" x=\"247.5125\" xlink:href=\"#m4bdbbfc1e2\" y=\"265.85945\"/>\n      </g>\n     </g>\n     <g id=\"text_47\">\n      <!-- 15000 -->\n      <g transform=\"translate(208.7 269.658669)scale(0.1 -0.1)\">\n       <use xlink:href=\"#DejaVuSans-49\"/>\n       <use x=\"63.623047\" xlink:href=\"#DejaVuSans-53\"/>\n       <use x=\"127.246094\" xlink:href=\"#DejaVuSans-48\"/>\n       <use x=\"190.869141\" xlink:href=\"#DejaVuSans-48\"/>\n       <use x=\"254.492188\" xlink:href=\"#DejaVuSans-48\"/>\n      </g>\n     </g>\n    </g>\n    <g id=\"ytick_26\">\n     <g id=\"line2d_87\">\n      <path clip-path=\"url(#p3f05c09488)\" d=\"M 247.5125 231.273225 \nL 402.5125 231.273225 \n\" style=\"fill:none;stroke:#b0b0b0;stroke-linecap:square;stroke-width:0.8;\"/>\n     </g>\n     <g id=\"line2d_88\">\n      <g>\n       <use style=\"stroke:#000000;stroke-width:0.8;\" x=\"247.5125\" xlink:href=\"#m4bdbbfc1e2\" y=\"231.273225\"/>\n      </g>\n     </g>\n     <g id=\"text_48\">\n      <!-- 20000 -->\n      <g transform=\"translate(208.7 235.072444)scale(0.1 -0.1)\">\n       <use xlink:href=\"#DejaVuSans-50\"/>\n       <use x=\"63.623047\" xlink:href=\"#DejaVuSans-48\"/>\n       <use x=\"127.246094\" xlink:href=\"#DejaVuSans-48\"/>\n       <use x=\"190.869141\" xlink:href=\"#DejaVuSans-48\"/>\n       <use x=\"254.492188\" xlink:href=\"#DejaVuSans-48\"/>\n      </g>\n     </g>\n    </g>\n   </g>\n   <g id=\"patch_73\">\n    <path d=\"M 247.5125 369.618125 \nL 247.5125 218.618125 \n\" style=\"fill:none;stroke:#000000;stroke-linecap:square;stroke-linejoin:miter;stroke-width:0.8;\"/>\n   </g>\n   <g id=\"patch_74\">\n    <path d=\"M 402.5125 369.618125 \nL 402.5125 218.618125 \n\" style=\"fill:none;stroke:#000000;stroke-linecap:square;stroke-linejoin:miter;stroke-width:0.8;\"/>\n   </g>\n   <g id=\"patch_75\">\n    <path d=\"M 247.5125 369.618125 \nL 402.5125 369.618125 \n\" style=\"fill:none;stroke:#000000;stroke-linecap:square;stroke-linejoin:miter;stroke-width:0.8;\"/>\n   </g>\n   <g id=\"patch_76\">\n    <path d=\"M 247.5125 218.618125 \nL 402.5125 218.618125 \n\" style=\"fill:none;stroke:#000000;stroke-linecap:square;stroke-linejoin:miter;stroke-width:0.8;\"/>\n   </g>\n   <g id=\"text_49\">\n    <!-- x -->\n    <defs>\n     <path d=\"M 54.890625 54.6875 \nL 35.109375 28.078125 \nL 55.90625 0 \nL 45.3125 0 \nL 29.390625 21.484375 \nL 13.484375 0 \nL 2.875 0 \nL 24.125 28.609375 \nL 4.6875 54.6875 \nL 15.28125 54.6875 \nL 29.78125 35.203125 \nL 44.28125 54.6875 \nz\n\" id=\"DejaVuSans-120\"/>\n    </defs>\n    <g transform=\"translate(321.46125 212.618125)scale(0.12 -0.12)\">\n     <use xlink:href=\"#DejaVuSans-120\"/>\n    </g>\n   </g>\n  </g>\n  <g id=\"axes_6\">\n   <g id=\"patch_77\">\n    <path d=\"M 449.0125 369.618125 \nL 604.0125 369.618125 \nL 604.0125 218.618125 \nL 449.0125 218.618125 \nz\n\" style=\"fill:#ffffff;\"/>\n   </g>\n   <g id=\"patch_78\">\n    <path clip-path=\"url(#p6a3e912c59)\" d=\"M 456.057955 369.618125 \nL 470.148864 369.618125 \nL 470.148864 225.808601 \nL 456.057955 225.808601 \nz\n\" style=\"fill:#1f77b4;\"/>\n   </g>\n   <g id=\"patch_79\">\n    <path clip-path=\"url(#p6a3e912c59)\" d=\"M 470.148864 369.618125 \nL 484.239773 369.618125 \nL 484.239773 259.223084 \nL 470.148864 259.223084 \nz\n\" style=\"fill:#1f77b4;\"/>\n   </g>\n   <g id=\"patch_80\">\n    <path clip-path=\"url(#p6a3e912c59)\" d=\"M 484.239773 369.618125 \nL 498.330682 369.618125 \nL 498.330682 369.618125 \nL 484.239773 369.618125 \nz\n\" style=\"fill:#1f77b4;\"/>\n   </g>\n   <g id=\"patch_81\">\n    <path clip-path=\"url(#p6a3e912c59)\" d=\"M 498.330682 369.618125 \nL 512.421591 369.618125 \nL 512.421591 369.618125 \nL 498.330682 369.618125 \nz\n\" style=\"fill:#1f77b4;\"/>\n   </g>\n   <g id=\"patch_82\">\n    <path clip-path=\"url(#p6a3e912c59)\" d=\"M 512.421591 369.618125 \nL 526.5125 369.618125 \nL 526.5125 369.618125 \nL 512.421591 369.618125 \nz\n\" style=\"fill:#1f77b4;\"/>\n   </g>\n   <g id=\"patch_83\">\n    <path clip-path=\"url(#p6a3e912c59)\" d=\"M 526.5125 369.618125 \nL 540.603409 369.618125 \nL 540.603409 369.613412 \nL 526.5125 369.613412 \nz\n\" style=\"fill:#1f77b4;\"/>\n   </g>\n   <g id=\"patch_84\">\n    <path clip-path=\"url(#p6a3e912c59)\" d=\"M 540.603409 369.618125 \nL 554.694318 369.618125 \nL 554.694318 369.618125 \nL 540.603409 369.618125 \nz\n\" style=\"fill:#1f77b4;\"/>\n   </g>\n   <g id=\"patch_85\">\n    <path clip-path=\"url(#p6a3e912c59)\" d=\"M 554.694318 369.618125 \nL 568.785227 369.618125 \nL 568.785227 369.618125 \nL 554.694318 369.618125 \nz\n\" style=\"fill:#1f77b4;\"/>\n   </g>\n   <g id=\"patch_86\">\n    <path clip-path=\"url(#p6a3e912c59)\" d=\"M 568.785227 369.618125 \nL 582.876136 369.618125 \nL 582.876136 369.618125 \nL 568.785227 369.618125 \nz\n\" style=\"fill:#1f77b4;\"/>\n   </g>\n   <g id=\"patch_87\">\n    <path clip-path=\"url(#p6a3e912c59)\" d=\"M 582.876136 369.618125 \nL 596.967045 369.618125 \nL 596.967045 369.613412 \nL 582.876136 369.613412 \nz\n\" style=\"fill:#1f77b4;\"/>\n   </g>\n   <g id=\"matplotlib.axis_11\">\n    <g id=\"xtick_19\">\n     <g id=\"line2d_89\">\n      <path clip-path=\"url(#p6a3e912c59)\" d=\"M 456.057955 369.618125 \nL 456.057955 218.618125 \n\" style=\"fill:none;stroke:#b0b0b0;stroke-linecap:square;stroke-width:0.8;\"/>\n     </g>\n     <g id=\"line2d_90\">\n      <g>\n       <use style=\"stroke:#000000;stroke-width:0.8;\" x=\"456.057955\" xlink:href=\"#m9f7086dba9\" y=\"369.618125\"/>\n      </g>\n     </g>\n     <g id=\"text_50\">\n      <!-- 0 -->\n      <g transform=\"translate(452.876705 384.216562)scale(0.1 -0.1)\">\n       <use xlink:href=\"#DejaVuSans-48\"/>\n      </g>\n     </g>\n    </g>\n    <g id=\"xtick_20\">\n     <g id=\"line2d_91\">\n      <path clip-path=\"url(#p6a3e912c59)\" d=\"M 503.904844 369.618125 \nL 503.904844 218.618125 \n\" style=\"fill:none;stroke:#b0b0b0;stroke-linecap:square;stroke-width:0.8;\"/>\n     </g>\n     <g id=\"line2d_92\">\n      <g>\n       <use style=\"stroke:#000000;stroke-width:0.8;\" x=\"503.904844\" xlink:href=\"#m9f7086dba9\" y=\"369.618125\"/>\n      </g>\n     </g>\n     <g id=\"text_51\">\n      <!-- 20 -->\n      <g transform=\"translate(497.542344 384.216562)scale(0.1 -0.1)\">\n       <use xlink:href=\"#DejaVuSans-50\"/>\n       <use x=\"63.623047\" xlink:href=\"#DejaVuSans-48\"/>\n      </g>\n     </g>\n    </g>\n    <g id=\"xtick_21\">\n     <g id=\"line2d_93\">\n      <path clip-path=\"url(#p6a3e912c59)\" d=\"M 551.751734 369.618125 \nL 551.751734 218.618125 \n\" style=\"fill:none;stroke:#b0b0b0;stroke-linecap:square;stroke-width:0.8;\"/>\n     </g>\n     <g id=\"line2d_94\">\n      <g>\n       <use style=\"stroke:#000000;stroke-width:0.8;\" x=\"551.751734\" xlink:href=\"#m9f7086dba9\" y=\"369.618125\"/>\n      </g>\n     </g>\n     <g id=\"text_52\">\n      <!-- 40 -->\n      <g transform=\"translate(545.389234 384.216562)scale(0.1 -0.1)\">\n       <use xlink:href=\"#DejaVuSans-52\"/>\n       <use x=\"63.623047\" xlink:href=\"#DejaVuSans-48\"/>\n      </g>\n     </g>\n    </g>\n    <g id=\"xtick_22\">\n     <g id=\"line2d_95\">\n      <path clip-path=\"url(#p6a3e912c59)\" d=\"M 599.598624 369.618125 \nL 599.598624 218.618125 \n\" style=\"fill:none;stroke:#b0b0b0;stroke-linecap:square;stroke-width:0.8;\"/>\n     </g>\n     <g id=\"line2d_96\">\n      <g>\n       <use style=\"stroke:#000000;stroke-width:0.8;\" x=\"599.598624\" xlink:href=\"#m9f7086dba9\" y=\"369.618125\"/>\n      </g>\n     </g>\n     <g id=\"text_53\">\n      <!-- 60 -->\n      <g transform=\"translate(593.236124 384.216562)scale(0.1 -0.1)\">\n       <use xlink:href=\"#DejaVuSans-54\"/>\n       <use x=\"63.623047\" xlink:href=\"#DejaVuSans-48\"/>\n      </g>\n     </g>\n    </g>\n   </g>\n   <g id=\"matplotlib.axis_12\">\n    <g id=\"ytick_27\">\n     <g id=\"line2d_97\">\n      <path clip-path=\"url(#p6a3e912c59)\" d=\"M 449.0125 369.618125 \nL 604.0125 369.618125 \n\" style=\"fill:none;stroke:#b0b0b0;stroke-linecap:square;stroke-width:0.8;\"/>\n     </g>\n     <g id=\"line2d_98\">\n      <g>\n       <use style=\"stroke:#000000;stroke-width:0.8;\" x=\"449.0125\" xlink:href=\"#m4bdbbfc1e2\" y=\"369.618125\"/>\n      </g>\n     </g>\n     <g id=\"text_54\">\n      <!-- 0 -->\n      <g transform=\"translate(435.65 373.417344)scale(0.1 -0.1)\">\n       <use xlink:href=\"#DejaVuSans-48\"/>\n      </g>\n     </g>\n    </g>\n    <g id=\"ytick_28\">\n     <g id=\"line2d_99\">\n      <path clip-path=\"url(#p6a3e912c59)\" d=\"M 449.0125 346.05361 \nL 604.0125 346.05361 \n\" style=\"fill:none;stroke:#b0b0b0;stroke-linecap:square;stroke-width:0.8;\"/>\n     </g>\n     <g id=\"line2d_100\">\n      <g>\n       <use style=\"stroke:#000000;stroke-width:0.8;\" x=\"449.0125\" xlink:href=\"#m4bdbbfc1e2\" y=\"346.05361\"/>\n      </g>\n     </g>\n     <g id=\"text_55\">\n      <!-- 5000 -->\n      <g transform=\"translate(416.5625 349.852828)scale(0.1 -0.1)\">\n       <use xlink:href=\"#DejaVuSans-53\"/>\n       <use x=\"63.623047\" xlink:href=\"#DejaVuSans-48\"/>\n       <use x=\"127.246094\" xlink:href=\"#DejaVuSans-48\"/>\n       <use x=\"190.869141\" xlink:href=\"#DejaVuSans-48\"/>\n      </g>\n     </g>\n    </g>\n    <g id=\"ytick_29\">\n     <g id=\"line2d_101\">\n      <path clip-path=\"url(#p6a3e912c59)\" d=\"M 449.0125 322.489094 \nL 604.0125 322.489094 \n\" style=\"fill:none;stroke:#b0b0b0;stroke-linecap:square;stroke-width:0.8;\"/>\n     </g>\n     <g id=\"line2d_102\">\n      <g>\n       <use style=\"stroke:#000000;stroke-width:0.8;\" x=\"449.0125\" xlink:href=\"#m4bdbbfc1e2\" y=\"322.489094\"/>\n      </g>\n     </g>\n     <g id=\"text_56\">\n      <!-- 10000 -->\n      <g transform=\"translate(410.2 326.288313)scale(0.1 -0.1)\">\n       <use xlink:href=\"#DejaVuSans-49\"/>\n       <use x=\"63.623047\" xlink:href=\"#DejaVuSans-48\"/>\n       <use x=\"127.246094\" xlink:href=\"#DejaVuSans-48\"/>\n       <use x=\"190.869141\" xlink:href=\"#DejaVuSans-48\"/>\n       <use x=\"254.492188\" xlink:href=\"#DejaVuSans-48\"/>\n      </g>\n     </g>\n    </g>\n    <g id=\"ytick_30\">\n     <g id=\"line2d_103\">\n      <path clip-path=\"url(#p6a3e912c59)\" d=\"M 449.0125 298.924579 \nL 604.0125 298.924579 \n\" style=\"fill:none;stroke:#b0b0b0;stroke-linecap:square;stroke-width:0.8;\"/>\n     </g>\n     <g id=\"line2d_104\">\n      <g>\n       <use style=\"stroke:#000000;stroke-width:0.8;\" x=\"449.0125\" xlink:href=\"#m4bdbbfc1e2\" y=\"298.924579\"/>\n      </g>\n     </g>\n     <g id=\"text_57\">\n      <!-- 15000 -->\n      <g transform=\"translate(410.2 302.723798)scale(0.1 -0.1)\">\n       <use xlink:href=\"#DejaVuSans-49\"/>\n       <use x=\"63.623047\" xlink:href=\"#DejaVuSans-53\"/>\n       <use x=\"127.246094\" xlink:href=\"#DejaVuSans-48\"/>\n       <use x=\"190.869141\" xlink:href=\"#DejaVuSans-48\"/>\n       <use x=\"254.492188\" xlink:href=\"#DejaVuSans-48\"/>\n      </g>\n     </g>\n    </g>\n    <g id=\"ytick_31\">\n     <g id=\"line2d_105\">\n      <path clip-path=\"url(#p6a3e912c59)\" d=\"M 449.0125 275.360064 \nL 604.0125 275.360064 \n\" style=\"fill:none;stroke:#b0b0b0;stroke-linecap:square;stroke-width:0.8;\"/>\n     </g>\n     <g id=\"line2d_106\">\n      <g>\n       <use style=\"stroke:#000000;stroke-width:0.8;\" x=\"449.0125\" xlink:href=\"#m4bdbbfc1e2\" y=\"275.360064\"/>\n      </g>\n     </g>\n     <g id=\"text_58\">\n      <!-- 20000 -->\n      <g transform=\"translate(410.2 279.159283)scale(0.1 -0.1)\">\n       <use xlink:href=\"#DejaVuSans-50\"/>\n       <use x=\"63.623047\" xlink:href=\"#DejaVuSans-48\"/>\n       <use x=\"127.246094\" xlink:href=\"#DejaVuSans-48\"/>\n       <use x=\"190.869141\" xlink:href=\"#DejaVuSans-48\"/>\n       <use x=\"254.492188\" xlink:href=\"#DejaVuSans-48\"/>\n      </g>\n     </g>\n    </g>\n    <g id=\"ytick_32\">\n     <g id=\"line2d_107\">\n      <path clip-path=\"url(#p6a3e912c59)\" d=\"M 449.0125 251.795549 \nL 604.0125 251.795549 \n\" style=\"fill:none;stroke:#b0b0b0;stroke-linecap:square;stroke-width:0.8;\"/>\n     </g>\n     <g id=\"line2d_108\">\n      <g>\n       <use style=\"stroke:#000000;stroke-width:0.8;\" x=\"449.0125\" xlink:href=\"#m4bdbbfc1e2\" y=\"251.795549\"/>\n      </g>\n     </g>\n     <g id=\"text_59\">\n      <!-- 25000 -->\n      <g transform=\"translate(410.2 255.594767)scale(0.1 -0.1)\">\n       <use xlink:href=\"#DejaVuSans-50\"/>\n       <use x=\"63.623047\" xlink:href=\"#DejaVuSans-53\"/>\n       <use x=\"127.246094\" xlink:href=\"#DejaVuSans-48\"/>\n       <use x=\"190.869141\" xlink:href=\"#DejaVuSans-48\"/>\n       <use x=\"254.492188\" xlink:href=\"#DejaVuSans-48\"/>\n      </g>\n     </g>\n    </g>\n    <g id=\"ytick_33\">\n     <g id=\"line2d_109\">\n      <path clip-path=\"url(#p6a3e912c59)\" d=\"M 449.0125 228.231033 \nL 604.0125 228.231033 \n\" style=\"fill:none;stroke:#b0b0b0;stroke-linecap:square;stroke-width:0.8;\"/>\n     </g>\n     <g id=\"line2d_110\">\n      <g>\n       <use style=\"stroke:#000000;stroke-width:0.8;\" x=\"449.0125\" xlink:href=\"#m4bdbbfc1e2\" y=\"228.231033\"/>\n      </g>\n     </g>\n     <g id=\"text_60\">\n      <!-- 30000 -->\n      <g transform=\"translate(410.2 232.030252)scale(0.1 -0.1)\">\n       <use xlink:href=\"#DejaVuSans-51\"/>\n       <use x=\"63.623047\" xlink:href=\"#DejaVuSans-48\"/>\n       <use x=\"127.246094\" xlink:href=\"#DejaVuSans-48\"/>\n       <use x=\"190.869141\" xlink:href=\"#DejaVuSans-48\"/>\n       <use x=\"254.492188\" xlink:href=\"#DejaVuSans-48\"/>\n      </g>\n     </g>\n    </g>\n   </g>\n   <g id=\"patch_88\">\n    <path d=\"M 449.0125 369.618125 \nL 449.0125 218.618125 \n\" style=\"fill:none;stroke:#000000;stroke-linecap:square;stroke-linejoin:miter;stroke-width:0.8;\"/>\n   </g>\n   <g id=\"patch_89\">\n    <path d=\"M 604.0125 369.618125 \nL 604.0125 218.618125 \n\" style=\"fill:none;stroke:#000000;stroke-linecap:square;stroke-linejoin:miter;stroke-width:0.8;\"/>\n   </g>\n   <g id=\"patch_90\">\n    <path d=\"M 449.0125 369.618125 \nL 604.0125 369.618125 \n\" style=\"fill:none;stroke:#000000;stroke-linecap:square;stroke-linejoin:miter;stroke-width:0.8;\"/>\n   </g>\n   <g id=\"patch_91\">\n    <path d=\"M 449.0125 218.618125 \nL 604.0125 218.618125 \n\" style=\"fill:none;stroke:#000000;stroke-linecap:square;stroke-linejoin:miter;stroke-width:0.8;\"/>\n   </g>\n   <g id=\"text_61\">\n    <!-- y -->\n    <defs>\n     <path d=\"M 32.171875 -5.078125 \nQ 28.375 -14.84375 24.75 -17.8125 \nQ 21.140625 -20.796875 15.09375 -20.796875 \nL 7.90625 -20.796875 \nL 7.90625 -13.28125 \nL 13.1875 -13.28125 \nQ 16.890625 -13.28125 18.9375 -11.515625 \nQ 21 -9.765625 23.484375 -3.21875 \nL 25.09375 0.875 \nL 2.984375 54.6875 \nL 12.5 54.6875 \nL 29.59375 11.921875 \nL 46.6875 54.6875 \nL 56.203125 54.6875 \nz\n\" id=\"DejaVuSans-121\"/>\n    </defs>\n    <g transform=\"translate(522.96125 212.618125)scale(0.12 -0.12)\">\n     <use xlink:href=\"#DejaVuSans-121\"/>\n    </g>\n   </g>\n  </g>\n  <g id=\"axes_7\">\n   <g id=\"patch_92\">\n    <path d=\"M 46.0125 565.918125 \nL 201.0125 565.918125 \nL 201.0125 414.918125 \nL 46.0125 414.918125 \nz\n\" style=\"fill:#ffffff;\"/>\n   </g>\n   <g id=\"patch_93\">\n    <path clip-path=\"url(#pbbc6f9f540)\" d=\"M 53.057955 565.918125 \nL 67.148864 565.918125 \nL 67.148864 484.256054 \nL 53.057955 484.256054 \nz\n\" style=\"fill:#1f77b4;\"/>\n   </g>\n   <g id=\"patch_94\">\n    <path clip-path=\"url(#pbbc6f9f540)\" d=\"M 67.148864 565.918125 \nL 81.239773 565.918125 \nL 81.239773 422.108601 \nL 67.148864 422.108601 \nz\n\" style=\"fill:#1f77b4;\"/>\n   </g>\n   <g id=\"patch_95\">\n    <path clip-path=\"url(#pbbc6f9f540)\" d=\"M 81.239773 565.918125 \nL 95.330682 565.918125 \nL 95.330682 565.897222 \nL 81.239773 565.897222 \nz\n\" style=\"fill:#1f77b4;\"/>\n   </g>\n   <g id=\"patch_96\">\n    <path clip-path=\"url(#pbbc6f9f540)\" d=\"M 95.330682 565.918125 \nL 109.421591 565.918125 \nL 109.421591 565.918125 \nL 95.330682 565.918125 \nz\n\" style=\"fill:#1f77b4;\"/>\n   </g>\n   <g id=\"patch_97\">\n    <path clip-path=\"url(#pbbc6f9f540)\" d=\"M 109.421591 565.918125 \nL 123.5125 565.918125 \nL 123.5125 565.918125 \nL 109.421591 565.918125 \nz\n\" style=\"fill:#1f77b4;\"/>\n   </g>\n   <g id=\"patch_98\">\n    <path clip-path=\"url(#pbbc6f9f540)\" d=\"M 123.5125 565.918125 \nL 137.603409 565.918125 \nL 137.603409 565.918125 \nL 123.5125 565.918125 \nz\n\" style=\"fill:#1f77b4;\"/>\n   </g>\n   <g id=\"patch_99\">\n    <path clip-path=\"url(#pbbc6f9f540)\" d=\"M 137.603409 565.918125 \nL 151.694318 565.918125 \nL 151.694318 565.918125 \nL 137.603409 565.918125 \nz\n\" style=\"fill:#1f77b4;\"/>\n   </g>\n   <g id=\"patch_100\">\n    <path clip-path=\"url(#pbbc6f9f540)\" d=\"M 151.694318 565.918125 \nL 165.785227 565.918125 \nL 165.785227 565.918125 \nL 151.694318 565.918125 \nz\n\" style=\"fill:#1f77b4;\"/>\n   </g>\n   <g id=\"patch_101\">\n    <path clip-path=\"url(#pbbc6f9f540)\" d=\"M 165.785227 565.918125 \nL 179.876136 565.918125 \nL 179.876136 565.918125 \nL 165.785227 565.918125 \nz\n\" style=\"fill:#1f77b4;\"/>\n   </g>\n   <g id=\"patch_102\">\n    <path clip-path=\"url(#pbbc6f9f540)\" d=\"M 179.876136 565.918125 \nL 193.967045 565.918125 \nL 193.967045 565.913944 \nL 179.876136 565.913944 \nz\n\" style=\"fill:#1f77b4;\"/>\n   </g>\n   <g id=\"matplotlib.axis_13\">\n    <g id=\"xtick_23\">\n     <g id=\"line2d_111\">\n      <path clip-path=\"url(#pbbc6f9f540)\" d=\"M 53.057955 565.918125 \nL 53.057955 414.918125 \n\" style=\"fill:none;stroke:#b0b0b0;stroke-linecap:square;stroke-width:0.8;\"/>\n     </g>\n     <g id=\"line2d_112\">\n      <g>\n       <use style=\"stroke:#000000;stroke-width:0.8;\" x=\"53.057955\" xlink:href=\"#m9f7086dba9\" y=\"565.918125\"/>\n      </g>\n     </g>\n     <g id=\"text_62\">\n      <!-- 0 -->\n      <g transform=\"translate(49.876705 580.516562)scale(0.1 -0.1)\">\n       <use xlink:href=\"#DejaVuSans-48\"/>\n      </g>\n     </g>\n    </g>\n    <g id=\"xtick_24\">\n     <g id=\"line2d_113\">\n      <path clip-path=\"url(#pbbc6f9f540)\" d=\"M 97.368989 565.918125 \nL 97.368989 414.918125 \n\" style=\"fill:none;stroke:#b0b0b0;stroke-linecap:square;stroke-width:0.8;\"/>\n     </g>\n     <g id=\"line2d_114\">\n      <g>\n       <use style=\"stroke:#000000;stroke-width:0.8;\" x=\"97.368989\" xlink:href=\"#m9f7086dba9\" y=\"565.918125\"/>\n      </g>\n     </g>\n     <g id=\"text_63\">\n      <!-- 10 -->\n      <g transform=\"translate(91.006489 580.516562)scale(0.1 -0.1)\">\n       <use xlink:href=\"#DejaVuSans-49\"/>\n       <use x=\"63.623047\" xlink:href=\"#DejaVuSans-48\"/>\n      </g>\n     </g>\n    </g>\n    <g id=\"xtick_25\">\n     <g id=\"line2d_115\">\n      <path clip-path=\"url(#pbbc6f9f540)\" d=\"M 141.680024 565.918125 \nL 141.680024 414.918125 \n\" style=\"fill:none;stroke:#b0b0b0;stroke-linecap:square;stroke-width:0.8;\"/>\n     </g>\n     <g id=\"line2d_116\">\n      <g>\n       <use style=\"stroke:#000000;stroke-width:0.8;\" x=\"141.680024\" xlink:href=\"#m9f7086dba9\" y=\"565.918125\"/>\n      </g>\n     </g>\n     <g id=\"text_64\">\n      <!-- 20 -->\n      <g transform=\"translate(135.317524 580.516562)scale(0.1 -0.1)\">\n       <use xlink:href=\"#DejaVuSans-50\"/>\n       <use x=\"63.623047\" xlink:href=\"#DejaVuSans-48\"/>\n      </g>\n     </g>\n    </g>\n    <g id=\"xtick_26\">\n     <g id=\"line2d_117\">\n      <path clip-path=\"url(#pbbc6f9f540)\" d=\"M 185.991059 565.918125 \nL 185.991059 414.918125 \n\" style=\"fill:none;stroke:#b0b0b0;stroke-linecap:square;stroke-width:0.8;\"/>\n     </g>\n     <g id=\"line2d_118\">\n      <g>\n       <use style=\"stroke:#000000;stroke-width:0.8;\" x=\"185.991059\" xlink:href=\"#m9f7086dba9\" y=\"565.918125\"/>\n      </g>\n     </g>\n     <g id=\"text_65\">\n      <!-- 30 -->\n      <g transform=\"translate(179.628559 580.516562)scale(0.1 -0.1)\">\n       <use xlink:href=\"#DejaVuSans-51\"/>\n       <use x=\"63.623047\" xlink:href=\"#DejaVuSans-48\"/>\n      </g>\n     </g>\n    </g>\n   </g>\n   <g id=\"matplotlib.axis_14\">\n    <g id=\"ytick_34\">\n     <g id=\"line2d_119\">\n      <path clip-path=\"url(#pbbc6f9f540)\" d=\"M 46.0125 565.918125 \nL 201.0125 565.918125 \n\" style=\"fill:none;stroke:#b0b0b0;stroke-linecap:square;stroke-width:0.8;\"/>\n     </g>\n     <g id=\"line2d_120\">\n      <g>\n       <use style=\"stroke:#000000;stroke-width:0.8;\" x=\"46.0125\" xlink:href=\"#m4bdbbfc1e2\" y=\"565.918125\"/>\n      </g>\n     </g>\n     <g id=\"text_66\">\n      <!-- 0 -->\n      <g transform=\"translate(32.65 569.717344)scale(0.1 -0.1)\">\n       <use xlink:href=\"#DejaVuSans-48\"/>\n      </g>\n     </g>\n    </g>\n    <g id=\"ytick_35\">\n     <g id=\"line2d_121\">\n      <path clip-path=\"url(#pbbc6f9f540)\" d=\"M 46.0125 524.113031 \nL 201.0125 524.113031 \n\" style=\"fill:none;stroke:#b0b0b0;stroke-linecap:square;stroke-width:0.8;\"/>\n     </g>\n     <g id=\"line2d_122\">\n      <g>\n       <use style=\"stroke:#000000;stroke-width:0.8;\" x=\"46.0125\" xlink:href=\"#m4bdbbfc1e2\" y=\"524.113031\"/>\n      </g>\n     </g>\n     <g id=\"text_67\">\n      <!-- 10000 -->\n      <g transform=\"translate(7.2 527.91225)scale(0.1 -0.1)\">\n       <use xlink:href=\"#DejaVuSans-49\"/>\n       <use x=\"63.623047\" xlink:href=\"#DejaVuSans-48\"/>\n       <use x=\"127.246094\" xlink:href=\"#DejaVuSans-48\"/>\n       <use x=\"190.869141\" xlink:href=\"#DejaVuSans-48\"/>\n       <use x=\"254.492188\" xlink:href=\"#DejaVuSans-48\"/>\n      </g>\n     </g>\n    </g>\n    <g id=\"ytick_36\">\n     <g id=\"line2d_123\">\n      <path clip-path=\"url(#pbbc6f9f540)\" d=\"M 46.0125 482.307937 \nL 201.0125 482.307937 \n\" style=\"fill:none;stroke:#b0b0b0;stroke-linecap:square;stroke-width:0.8;\"/>\n     </g>\n     <g id=\"line2d_124\">\n      <g>\n       <use style=\"stroke:#000000;stroke-width:0.8;\" x=\"46.0125\" xlink:href=\"#m4bdbbfc1e2\" y=\"482.307937\"/>\n      </g>\n     </g>\n     <g id=\"text_68\">\n      <!-- 20000 -->\n      <g transform=\"translate(7.2 486.107155)scale(0.1 -0.1)\">\n       <use xlink:href=\"#DejaVuSans-50\"/>\n       <use x=\"63.623047\" xlink:href=\"#DejaVuSans-48\"/>\n       <use x=\"127.246094\" xlink:href=\"#DejaVuSans-48\"/>\n       <use x=\"190.869141\" xlink:href=\"#DejaVuSans-48\"/>\n       <use x=\"254.492188\" xlink:href=\"#DejaVuSans-48\"/>\n      </g>\n     </g>\n    </g>\n    <g id=\"ytick_37\">\n     <g id=\"line2d_125\">\n      <path clip-path=\"url(#pbbc6f9f540)\" d=\"M 46.0125 440.502843 \nL 201.0125 440.502843 \n\" style=\"fill:none;stroke:#b0b0b0;stroke-linecap:square;stroke-width:0.8;\"/>\n     </g>\n     <g id=\"line2d_126\">\n      <g>\n       <use style=\"stroke:#000000;stroke-width:0.8;\" x=\"46.0125\" xlink:href=\"#m4bdbbfc1e2\" y=\"440.502843\"/>\n      </g>\n     </g>\n     <g id=\"text_69\">\n      <!-- 30000 -->\n      <g transform=\"translate(7.2 444.302061)scale(0.1 -0.1)\">\n       <use xlink:href=\"#DejaVuSans-51\"/>\n       <use x=\"63.623047\" xlink:href=\"#DejaVuSans-48\"/>\n       <use x=\"127.246094\" xlink:href=\"#DejaVuSans-48\"/>\n       <use x=\"190.869141\" xlink:href=\"#DejaVuSans-48\"/>\n       <use x=\"254.492188\" xlink:href=\"#DejaVuSans-48\"/>\n      </g>\n     </g>\n    </g>\n   </g>\n   <g id=\"patch_103\">\n    <path d=\"M 46.0125 565.918125 \nL 46.0125 414.918125 \n\" style=\"fill:none;stroke:#000000;stroke-linecap:square;stroke-linejoin:miter;stroke-width:0.8;\"/>\n   </g>\n   <g id=\"patch_104\">\n    <path d=\"M 201.0125 565.918125 \nL 201.0125 414.918125 \n\" style=\"fill:none;stroke:#000000;stroke-linecap:square;stroke-linejoin:miter;stroke-width:0.8;\"/>\n   </g>\n   <g id=\"patch_105\">\n    <path d=\"M 46.0125 565.918125 \nL 201.0125 565.918125 \n\" style=\"fill:none;stroke:#000000;stroke-linecap:square;stroke-linejoin:miter;stroke-width:0.8;\"/>\n   </g>\n   <g id=\"patch_106\">\n    <path d=\"M 46.0125 414.918125 \nL 201.0125 414.918125 \n\" style=\"fill:none;stroke:#000000;stroke-linecap:square;stroke-linejoin:miter;stroke-width:0.8;\"/>\n   </g>\n   <g id=\"text_70\">\n    <!-- z -->\n    <defs>\n     <path d=\"M 5.515625 54.6875 \nL 48.1875 54.6875 \nL 48.1875 46.484375 \nL 14.40625 7.171875 \nL 48.1875 7.171875 \nL 48.1875 0 \nL 4.296875 0 \nL 4.296875 8.203125 \nL 38.09375 47.515625 \nL 5.515625 47.515625 \nz\n\" id=\"DejaVuSans-122\"/>\n    </defs>\n    <g transform=\"translate(120.363437 408.918125)scale(0.12 -0.12)\">\n     <use xlink:href=\"#DejaVuSans-122\"/>\n    </g>\n   </g>\n  </g>\n </g>\n <defs>\n  <clipPath id=\"p1ef3046368\">\n   <rect height=\"151\" width=\"155\" x=\"46.0125\" y=\"22.318125\"/>\n  </clipPath>\n  <clipPath id=\"p4b527f4ca6\">\n   <rect height=\"151\" width=\"155\" x=\"247.5125\" y=\"22.318125\"/>\n  </clipPath>\n  <clipPath id=\"p1e9b597885\">\n   <rect height=\"151\" width=\"155\" x=\"449.0125\" y=\"22.318125\"/>\n  </clipPath>\n  <clipPath id=\"p4db5860396\">\n   <rect height=\"151\" width=\"155\" x=\"46.0125\" y=\"218.618125\"/>\n  </clipPath>\n  <clipPath id=\"p3f05c09488\">\n   <rect height=\"151\" width=\"155\" x=\"247.5125\" y=\"218.618125\"/>\n  </clipPath>\n  <clipPath id=\"p6a3e912c59\">\n   <rect height=\"151\" width=\"155\" x=\"449.0125\" y=\"218.618125\"/>\n  </clipPath>\n  <clipPath id=\"pbbc6f9f540\">\n   <rect height=\"151\" width=\"155\" x=\"46.0125\" y=\"414.918125\"/>\n  </clipPath>\n </defs>\n</svg>\n",
      "image/png": "[encoded data removed]"
     },
     "metadata": {
      "needs_background": "light"
     }
    }
   ],
   "source": [
    "%matplotlib inline\n",
    "\n",
    "diamonds.hist(figsize = (10,10))"
   ]
  },
  {
   "source": [
    "## 9.6 (Class Average: Writing a Gradebook Dictionary to a JSON File)  \n",
    "Reimplement Exercise 9.3 using the json module to write the student information to the file in JSON format. For this exercise, create a dictionary of student data in the following format:  \n",
    "```python\n",
    "gradebook_dict = {'students': [student1dictionary, student2dictionary, ...]}\n",
    "```  \n",
    "Each dictionary in the list represents one student and contains the keys 'first_name',\n",
    "'last_name', 'exam1', 'exam2' and 'exam3', which map to the values representing each\n",
    "student’s first name (string), last name (string) and three exam scores (integers). Output\n",
    "the gradebook_dict in JSON format to the file grades.json."
   ],
   "cell_type": "markdown",
   "metadata": {}
  },
  {
   "cell_type": "code",
   "execution_count": 221,
   "metadata": {},
   "outputs": [
    {
     "output_type": "execute_result",
     "data": {
      "text/plain": [
       "{'students': [{'first_name': 'Student_1',\n",
       "   'last_name': 'Piethin_1',\n",
       "   'exam1': 63.0,\n",
       "   'exam2': 84.0,\n",
       "   'exam3': 74.0},\n",
       "  {'first_name': 'Student_2',\n",
       "   'last_name': 'Piethin_2',\n",
       "   'exam1': 64.0,\n",
       "   'exam2': 84.0,\n",
       "   'exam3': 88.0},\n",
       "  {'first_name': 'Student_3',\n",
       "   'last_name': 'Piethin_3',\n",
       "   'exam1': 74.0,\n",
       "   'exam2': 81.0,\n",
       "   'exam3': 73.0},\n",
       "  {'first_name': 'Student_4',\n",
       "   'last_name': 'Piethin_4',\n",
       "   'exam1': 71.0,\n",
       "   'exam2': 91.0,\n",
       "   'exam3': 77.0},\n",
       "  {'first_name': 'Student_5',\n",
       "   'last_name': 'Piethin_5',\n",
       "   'exam1': 90.0,\n",
       "   'exam2': 56.0,\n",
       "   'exam3': 96.0},\n",
       "  {'first_name': 'Student_6',\n",
       "   'last_name': 'Piethin_6',\n",
       "   'exam1': 93.0,\n",
       "   'exam2': 79.0,\n",
       "   'exam3': 94.0},\n",
       "  {'first_name': 'Student_7',\n",
       "   'last_name': 'Piethin_7',\n",
       "   'exam1': 87.0,\n",
       "   'exam2': 62.0,\n",
       "   'exam3': 71.0},\n",
       "  {'first_name': 'Student_8',\n",
       "   'last_name': 'Piethin_8',\n",
       "   'exam1': 97.0,\n",
       "   'exam2': 80.0,\n",
       "   'exam3': 42.0},\n",
       "  {'first_name': 'Student_9',\n",
       "   'last_name': 'Piethin_9',\n",
       "   'exam1': 86.0,\n",
       "   'exam2': 80.0,\n",
       "   'exam3': 63.0},\n",
       "  {'first_name': 'Student_10',\n",
       "   'last_name': 'Piethin_10',\n",
       "   'exam1': 40.0,\n",
       "   'exam2': 88.0,\n",
       "   'exam3': 83.0}]}"
      ]
     },
     "metadata": {},
     "execution_count": 221
    }
   ],
   "source": [
    "import numpy as np\n",
    "import json\n",
    "\n",
    "gradebook_dict = {}\n",
    "studentlist = []\n",
    "\n",
    "for i in range(1, 11):\n",
    "    grades = [round(100* np.random.beta(7,2), 0) for i in range(3)]\n",
    "    first_name = f'Student_{i}' \n",
    "    last_name = f'Piethin_{i}'\n",
    "\n",
    "    studentdictionary = {'first_name': first_name, 'last_name': last_name, \\\n",
    "                        'exam1': grades[0], 'exam2': grades[1], 'exam3': grades[2]}\n",
    "\n",
    "    studentlist.append(studentdictionary)\n",
    "\n",
    "gradebook_dict['students'] = studentlist\n",
    "\n",
    "with open('grades.json', 'w') as grades:\n",
    "    json.dump(gradebook_dict, grades)\n",
    "\n",
    "gradebook_dict"
   ]
  },
  {
   "source": [
    "## 9.7 (Class Average: Reading a Gradebook Dictionary from a JSON File)  \n",
    "Reimplement Exercise 9.4 using the json module to read the grades.json file created in the previous exercise. Display the data in tabular format, including an additional column showing each student’s average to the right of that student’s three exam grades and an additional row showing the class average on each exam below that exam’s column."
   ],
   "cell_type": "markdown",
   "metadata": {}
  },
  {
   "cell_type": "code",
   "execution_count": 222,
   "metadata": {},
   "outputs": [
    {
     "output_type": "execute_result",
     "data": {
      "text/plain": [
       "         first_name   last_name  exam1  exam2  exam3  average\n",
       "0         Student_1   Piethin_1   63.0   84.0   74.0    73.70\n",
       "1         Student_2   Piethin_2   64.0   84.0   88.0    78.70\n",
       "2         Student_3   Piethin_3   74.0   81.0   73.0    76.00\n",
       "3         Student_4   Piethin_4   71.0   91.0   77.0    79.70\n",
       "4         Student_5   Piethin_5   90.0   56.0   96.0    80.70\n",
       "5         Student_6   Piethin_6   93.0   79.0   94.0    88.70\n",
       "6         Student_7   Piethin_7   87.0   62.0   71.0    73.30\n",
       "7         Student_8   Piethin_8   97.0   80.0   42.0    73.00\n",
       "8         Student_9   Piethin_9   86.0   80.0   63.0    76.30\n",
       "9        Student_10  Piethin_10   40.0   88.0   83.0    70.30\n",
       "average         NaN         NaN   76.5   78.5   76.1    77.04"
      ],
      "text/html": "<div>\n<style scoped>\n    .dataframe tbody tr th:only-of-type {\n        vertical-align: middle;\n    }\n\n    .dataframe tbody tr th {\n        vertical-align: top;\n    }\n\n    .dataframe thead th {\n        text-align: right;\n    }\n</style>\n<table border=\"1\" class=\"dataframe\">\n  <thead>\n    <tr style=\"text-align: right;\">\n      <th></th>\n      <th>first_name</th>\n      <th>last_name</th>\n      <th>exam1</th>\n      <th>exam2</th>\n      <th>exam3</th>\n      <th>average</th>\n    </tr>\n  </thead>\n  <tbody>\n    <tr>\n      <th>0</th>\n      <td>Student_1</td>\n      <td>Piethin_1</td>\n      <td>63.0</td>\n      <td>84.0</td>\n      <td>74.0</td>\n      <td>73.70</td>\n    </tr>\n    <tr>\n      <th>1</th>\n      <td>Student_2</td>\n      <td>Piethin_2</td>\n      <td>64.0</td>\n      <td>84.0</td>\n      <td>88.0</td>\n      <td>78.70</td>\n    </tr>\n    <tr>\n      <th>2</th>\n      <td>Student_3</td>\n      <td>Piethin_3</td>\n      <td>74.0</td>\n      <td>81.0</td>\n      <td>73.0</td>\n      <td>76.00</td>\n    </tr>\n    <tr>\n      <th>3</th>\n      <td>Student_4</td>\n      <td>Piethin_4</td>\n      <td>71.0</td>\n      <td>91.0</td>\n      <td>77.0</td>\n      <td>79.70</td>\n    </tr>\n    <tr>\n      <th>4</th>\n      <td>Student_5</td>\n      <td>Piethin_5</td>\n      <td>90.0</td>\n      <td>56.0</td>\n      <td>96.0</td>\n      <td>80.70</td>\n    </tr>\n    <tr>\n      <th>5</th>\n      <td>Student_6</td>\n      <td>Piethin_6</td>\n      <td>93.0</td>\n      <td>79.0</td>\n      <td>94.0</td>\n      <td>88.70</td>\n    </tr>\n    <tr>\n      <th>6</th>\n      <td>Student_7</td>\n      <td>Piethin_7</td>\n      <td>87.0</td>\n      <td>62.0</td>\n      <td>71.0</td>\n      <td>73.30</td>\n    </tr>\n    <tr>\n      <th>7</th>\n      <td>Student_8</td>\n      <td>Piethin_8</td>\n      <td>97.0</td>\n      <td>80.0</td>\n      <td>42.0</td>\n      <td>73.00</td>\n    </tr>\n    <tr>\n      <th>8</th>\n      <td>Student_9</td>\n      <td>Piethin_9</td>\n      <td>86.0</td>\n      <td>80.0</td>\n      <td>63.0</td>\n      <td>76.30</td>\n    </tr>\n    <tr>\n      <th>9</th>\n      <td>Student_10</td>\n      <td>Piethin_10</td>\n      <td>40.0</td>\n      <td>88.0</td>\n      <td>83.0</td>\n      <td>70.30</td>\n    </tr>\n    <tr>\n      <th>average</th>\n      <td>NaN</td>\n      <td>NaN</td>\n      <td>76.5</td>\n      <td>78.5</td>\n      <td>76.1</td>\n      <td>77.04</td>\n    </tr>\n  </tbody>\n</table>\n</div>"
     },
     "metadata": {},
     "execution_count": 222
    }
   ],
   "source": [
    "# with open('grades.json', 'r') as grades:\n",
    "#     grades_json = json.load(grades)\n",
    "\n",
    "grades_data = pd.read_json('grades.json')\n",
    "count = 0\n",
    "data_dict = {}\n",
    "\n",
    "for i in grades_data['students']:\n",
    "    data_dict[count] = i\n",
    "    count += 1\n",
    "\n",
    "grades_dataframe = pd.DataFrame.from_dict(data_dict, orient='index')\n",
    "grades_dataframe['average'] = round(grades_dataframe.loc[: , 'exam1':'exam3'].mean(axis=1),1)\n",
    "grades_dataframe.loc['average'] = [None, None, grades_dataframe['exam1'].mean(), grades_dataframe['exam2'].mean(), \\\n",
    "                                        grades_dataframe['exam3'].mean(), grades_dataframe['average'].mean()]\n",
    "grades_dataframe"
   ]
  },
  {
   "source": [
    "## 10.2 (Account Class with Read-Only Properties)  \n",
    "Modify Section 10.2.2’s Account class to provide read-only properties for the name and balance. Rename the class attributes with single leading underscores. Re-execute Section 10.2.2’s IPython session to test your updated class. To show that name and balance are read-only, try to assign new values to them."
   ],
   "cell_type": "markdown",
   "metadata": {}
  },
  {
   "cell_type": "code",
   "execution_count": 60,
   "metadata": {},
   "outputs": [],
   "source": [
    "from decimal import Decimal\n",
    "\n",
    "class Account:\n",
    "    \"\"\"Account class for maintaining a bank account balance.\"\"\"\n",
    "\n",
    "    def __init__(self, name, balance):\n",
    "        \"\"\"Initialize an Account object.\"\"\"\n",
    "\n",
    "        # if balance is less than 0.00, raise an exception\n",
    "        if balance < Decimal('0.00'):\n",
    "            raise ValueError('Initial balance must be >= to 0.00.')\n",
    "        \n",
    "        self._name = name\n",
    "        self._balance = balance\n",
    "    \n",
    "    @property\n",
    "    def balance(self):\n",
    "        \"\"\"Get Balance\"\"\"\n",
    "        return self._balance\n",
    "\n",
    "    @property\n",
    "    def name(self):\n",
    "        \"\"\"Get Balance\"\"\"\n",
    "        return self._name\n",
    "\n",
    "    def deposit(self, amount):\n",
    "        \"\"\"Deposit money to the account.\"\"\"\n",
    "\n",
    "        # if amount is less than 0.00, raise an exception\n",
    "        if amount < Decimal('0.00'):\n",
    "            raise ValueError('amount must be positive.')\n",
    "\n",
    "        self._balance += amount\n",
    "\n",
    "account_1234 = Account('Benjamin Parsons', 1000020.99)"
   ]
  },
  {
   "cell_type": "code",
   "execution_count": 61,
   "metadata": {},
   "outputs": [
    {
     "output_type": "execute_result",
     "data": {
      "text/plain": [
       "1000020.99"
      ]
     },
     "metadata": {},
     "execution_count": 61
    }
   ],
   "source": [
    "account_1234.balance"
   ]
  },
  {
   "cell_type": "code",
   "execution_count": 62,
   "metadata": {},
   "outputs": [],
   "source": [
    "account_1234.deposit(20)"
   ]
  },
  {
   "cell_type": "code",
   "execution_count": 63,
   "metadata": {},
   "outputs": [
    {
     "output_type": "execute_result",
     "data": {
      "text/plain": [
       "1000040.99"
      ]
     },
     "metadata": {},
     "execution_count": 63
    }
   ],
   "source": [
    "account_1234.balance"
   ]
  },
  {
   "cell_type": "code",
   "execution_count": 64,
   "metadata": {},
   "outputs": [
    {
     "output_type": "execute_result",
     "data": {
      "text/plain": [
       "'Benjamin Parsons'"
      ]
     },
     "metadata": {},
     "execution_count": 64
    }
   ],
   "source": [
    "account_1234.name"
   ]
  },
  {
   "cell_type": "code",
   "execution_count": 65,
   "metadata": {},
   "outputs": [
    {
     "output_type": "error",
     "ename": "AttributeError",
     "evalue": "can't set attribute",
     "traceback": [
      "\u001b[0;31m---------------------------------------------------------------------------\u001b[0m",
      "\u001b[0;31mAttributeError\u001b[0m                            Traceback (most recent call last)",
      "\u001b[0;32m<ipython-input-65-850b04543aad>\u001b[0m in \u001b[0;36m<module>\u001b[0;34m\u001b[0m\n\u001b[0;32m----> 1\u001b[0;31m \u001b[0maccount_1234\u001b[0m\u001b[0;34m.\u001b[0m\u001b[0mbalance\u001b[0m \u001b[0;34m=\u001b[0m \u001b[0;36m0\u001b[0m\u001b[0;34m\u001b[0m\u001b[0;34m\u001b[0m\u001b[0m\n\u001b[0m",
      "\u001b[0;31mAttributeError\u001b[0m: can't set attribute"
     ]
    }
   ],
   "source": [
    "account_1234.balance = 0"
   ]
  },
  {
   "source": [
    "## 10.5 (Duck Typing)  \n",
    "Recall that with duck typing, objects of unrelated classes can respond to the same method calls if they implement those methods. In Section 10.8, you created a list containing a CommissionEmployee and a SalariedCommissionEmployee. Then, you iterated through it, displaying each employee’s string representation and earnings. Create a class SalariedEmployee for an employee that gets paid a fixed weekly salary. Do not inherit from CommissionEmployee or SalariedCommissionEmployee. In class SalariedEmployee, override method __repr__ and provide an earnings method. Demonstrate duck typing by creating an object of your class, adding it to the list at the end of Section 10.8, then executing the loop to show that it properly processes objects of all three classes."
   ],
   "cell_type": "markdown",
   "metadata": {}
  },
  {
   "source": [
    "from commissionemployee import CommissionEmployee\n",
    "from salariedcommissionemployee import SalariedCommissionEmployee\n",
    "\n",
    "class WellPaidDuck:\n",
    "    def __repr__(self):\n",
    "        return 'I am a well-paid duck'\n",
    "    def earnings(self):\n",
    "        return Decimal('1_000_000.00')\n",
    "\n",
    "class SalariedEmployee:\n",
    "\n",
    "    def __init__(self, first_name, last_name, ssn, base_salary):\n",
    "        self._first_name = first_name\n",
    "        self._last_name = last_name\n",
    "        self._ssn = ssn\n",
    "        self.base_salary = Decimal(base_salary)\n",
    "\n",
    "    def __repr__(self):\n",
    "        \"\"\" Return earnings as default\"\"\"\n",
    "        return f'{self.earnings()}'\n",
    "\n",
    "    def earnings(self):\n",
    "        \"\"\" Calculate earnings \"\"\"\n",
    "        return self.base_salary\n",
    "\n",
    "b = SalariedEmployee(\"Benjamin\", \"Parsons\", \"1234567890\", \"1_000_000.00\")\n",
    "\n",
    "c = CommissionEmployee('Sue', 'Jones', '333-33-3333',\n",
    "                        Decimal('10000.00'), Decimal('0.06'))\n",
    "\n",
    "s = SalariedCommissionEmployee('Bob', 'Lewis', '444-44-4444',\n",
    "                                Decimal('5000.00'), Decimal('0.04'), Decimal('300.00'))\n",
    "\n",
    "d = WellPaidDuck()\n",
    "\n",
    "employees = [c, s, d, b]\n",
    "\n",
    "for employee in employees:\n",
    "    print(employee)\n",
    "    print(f'{employee.earnings():,.2f}\\n')"
   ],
   "cell_type": "code",
   "metadata": {},
   "execution_count": 155,
   "outputs": [
    {
     "output_type": "stream",
     "name": "stdout",
     "text": [
      "CommissionEmployee: Sue Jones\nsocial security number: 333-33-3333\ngross sales: 10000.00\ncommission rate: 0.06\n600.00\n\nSalariedCommissionEmployee: Bob Lewis\nsocial security number: 444-44-4444\ngross sales: 5000.00\ncommission rate: 0.04\nbase salary: 300.00\n500.00\n\nI am a well-paid duck\n1,000,000.00\n\n1000000.00\n1,000,000.00\n\n"
     ]
    }
   ]
  }
 ]
}